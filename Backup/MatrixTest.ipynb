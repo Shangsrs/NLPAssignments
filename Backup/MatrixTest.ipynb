{
 "cells": [
  {
   "cell_type": "code",
   "execution_count": 1,
   "metadata": {},
   "outputs": [],
   "source": [
    "import numpy as np\n"
   ]
  },
  {
   "cell_type": "code",
   "execution_count": 555,
   "metadata": {},
   "outputs": [],
   "source": [
    "def matDot(mat,time):\n",
    "    result = mat\n",
    "    for i in range(time):\n",
    "        result = mat*result\n",
    "    return result"
   ]
  },
  {
   "cell_type": "code",
   "execution_count": 541,
   "metadata": {
    "scrolled": false
   },
   "outputs": [],
   "source": [
    "for i in range(100):\n",
    "    mat = np.random.randint(1,10,(3,3))\n",
    "    vec = np.sum(mat,axis = 0)\n",
    "    mat2 = mat / vec\n",
    "    res = matDot(mat2.T.copy(),100)\n",
    "    if np.sum(res) > 0.1 and np.sum(res) != 1.0:\n",
    "#     if True:\n",
    "        print(i,'\\n')\n",
    "        print('mat: ',mat.T)\n",
    "        print('vec: ',vec)\n",
    "        print('mat2: ',mat2.T)\n",
    "        print('res: ',res)\n",
    "        break\n"
   ]
  },
  {
   "cell_type": "code",
   "execution_count": 526,
   "metadata": {},
   "outputs": [
    {
     "data": {
      "text/plain": [
       "1.0"
      ]
     },
     "execution_count": 526,
     "metadata": {},
     "output_type": "execute_result"
    }
   ],
   "source": [
    "np.sum(res)"
   ]
  },
  {
   "cell_type": "code",
   "execution_count": 559,
   "metadata": {},
   "outputs": [],
   "source": [
    "mat = np.array([0.4 ,0.7, 0.6 ,0.3])\n",
    "mat = mat.reshape(2,2)\n",
    "mat = mat"
   ]
  },
  {
   "cell_type": "code",
   "execution_count": 560,
   "metadata": {},
   "outputs": [
    {
     "data": {
      "text/plain": [
       "array([[6.42775218e-41, 2.26413356e-16],\n",
       "       [3.91991174e-23, 1.54613256e-53]])"
      ]
     },
     "execution_count": 560,
     "metadata": {},
     "output_type": "execute_result"
    }
   ],
   "source": [
    "matDot(mat,100)"
   ]
  },
  {
   "cell_type": "code",
   "execution_count": 5,
   "metadata": {},
   "outputs": [],
   "source": [
    "np.random.random?"
   ]
  }
 ],
 "metadata": {
  "kernelspec": {
   "display_name": "Python 3",
   "language": "python",
   "name": "python3"
  },
  "language_info": {
   "codemirror_mode": {
    "name": "ipython",
    "version": 3
   },
   "file_extension": ".py",
   "mimetype": "text/x-python",
   "name": "python",
   "nbconvert_exporter": "python",
   "pygments_lexer": "ipython3",
   "version": "3.7.3"
  }
 },
 "nbformat": 4,
 "nbformat_minor": 2
}
