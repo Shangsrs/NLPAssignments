{
 "cells": [
  {
   "cell_type": "markdown",
   "metadata": {},
   "source": [
    "## Lesson-01 Assignment"
   ]
  },
  {
   "cell_type": "markdown",
   "metadata": {},
   "source": [
    ">"
   ]
  },
  {
   "cell_type": "markdown",
   "metadata": {},
   "source": [
    "`各位同学大家好，欢迎各位开始学习我们的人工智能课程。这门课程假设大家不具备机器学习和人工智能的知识，但是希望大家具备初级的Python编程能力。根据往期同学的实际反馈，我们课程的完结之后 能力能够超过80%的计算机人工智能/深度学习方向的硕士生的能力。`"
   ]
  },
  {
   "cell_type": "markdown",
   "metadata": {},
   "source": [
    "## 本次作业的内容"
   ]
  },
  {
   "cell_type": "markdown",
   "metadata": {},
   "source": [
    "#### 1. 复现课堂代码\n",
    "\n",
    "在本部分，你需要参照我们给大家的GitHub地址里边的课堂代码，结合课堂内容，复现内容。"
   ]
  },
  {
   "cell_type": "markdown",
   "metadata": {},
   "source": [
    "#### 2. 请回答以下问题\n",
    "\n",
    "回答以下问题，并将问题发送至 mqgao@kaikeba.com中：\n",
    "```\n",
    "    2.1. what do you want to acquire in this course？\n",
    "    通过学习NLP，找到好工作\n",
    "    2.2. what problems do you want to solve？\n",
    "    首先是工作，其次是想掌握人工智能这门技术\n",
    "    2.3. what’s the advantages you have to finish you goal?\n",
    "    我有研究生学历，对科研方面比较了解，有一定的编程基础\n",
    "    2.4. what’s the disadvantages you need to overcome to finish you goal?\n",
    "    NLP接触不多，语言学基础方面比较薄弱，有待提高\n",
    "    2.5. How will you plan to study in this course period?\n",
    "    多学，多练，多思考\n",
    "```"
   ]
  },
  {
   "cell_type": "markdown",
   "metadata": {},
   "source": [
    "#### 3. 如何提交\n",
    "代码 + 此 jupyter 相关，提交至自己的 github 中(**所以请务必把GitHub按照班主任要求录入在Trello中**)；\n",
    "第2问，请提交至mqgao@kaikeba.com邮箱。\n",
    "#### 4. 作业截止时间\n",
    "此次作业截止时间为 2019.7.6日"
   ]
  },
  {
   "cell_type": "markdown",
   "metadata": {},
   "source": [
    "#### 5. 完成以下问答和编程练习"
   ]
  },
  {
   "cell_type": "markdown",
   "metadata": {},
   "source": [
    ">"
   ]
  },
  {
   "cell_type": "markdown",
   "metadata": {},
   "source": [
    "## 基础理论部分"
   ]
  },
  {
   "cell_type": "markdown",
   "metadata": {},
   "source": [
    "#### 0. Can you come up out 3 sceneraies which use AI methods? "
   ]
  },
  {
   "cell_type": "markdown",
   "metadata": {},
   "source": [
    "Ans: {翻译，语音识别，自动驾驶，对话机器人}"
   ]
  },
  {
   "cell_type": "markdown",
   "metadata": {},
   "source": [
    "#### 1. How do we use Github; Why do we use Jupyter and Pycharm;"
   ]
  },
  {
   "cell_type": "markdown",
   "metadata": {},
   "source": [
    "Ans: {GIthub是一个分布式的文件系统，可以上传文档，包括代码，文件等，与他人共享；Jupyter用于编写代码，并且可以运行，并显示结果；Pycharm是一个python的IDE}"
   ]
  },
  {
   "cell_type": "markdown",
   "metadata": {},
   "source": [
    "#### 2. What's the Probability Model?"
   ]
  },
  {
   "cell_type": "markdown",
   "metadata": {},
   "source": [
    "Ans:概率模型是用来描述不同随机变量之间关系的数学模型，通常情况下刻画了一个或多个随机变量之间的相互非确定性的概率关系"
   ]
  },
  {
   "cell_type": "markdown",
   "metadata": {},
   "source": [
    "#### 3. Can you came up with some sceneraies at which we could use Probability Model?"
   ]
  },
  {
   "cell_type": "markdown",
   "metadata": {},
   "source": [
    "Ans:打麻将时的掷骰子决定摸牌顺序；根据往年的天气情况，预测某一天下雨的可能性（奥运会就预测过）；统计海洋的渔业资源；统计广东的蚊子数量等等。"
   ]
  },
  {
   "cell_type": "markdown",
   "metadata": {},
   "source": [
    "#### 4. Why do we use probability and what's the difficult points for programming based on parsing and pattern match?"
   ]
  },
  {
   "cell_type": "markdown",
   "metadata": {},
   "source": [
    "Ans:某些事件不具有确定性的数学关系，采用统计的方法来度量这些事件，这时就需要概率模型。模式匹配的难点在于模式的多样性和多变性，无法用有限的模式，来描述事件的所有情况。"
   ]
  },
  {
   "cell_type": "markdown",
   "metadata": {},
   "source": [
    "#### 5. What's the Language Model;"
   ]
  },
  {
   "cell_type": "markdown",
   "metadata": {},
   "source": [
    "Ans:语言模型是根据语言客观事实而进行的语言抽象数学建模，是一种对应关系。"
   ]
  },
  {
   "cell_type": "markdown",
   "metadata": {},
   "source": [
    "#### 6. Can you came up with some sceneraies at which we could use Language Model?\n"
   ]
  },
  {
   "cell_type": "markdown",
   "metadata": {},
   "source": [
    "Ans:翻译，语音识别，英语考试中的改错题"
   ]
  },
  {
   "cell_type": "markdown",
   "metadata": {},
   "source": [
    "#### 7. What's the 1-gram language model;"
   ]
  },
  {
   "cell_type": "markdown",
   "metadata": {},
   "source": [
    "Ans:单个词语在一段语言序列的概率分布"
   ]
  },
  {
   "cell_type": "markdown",
   "metadata": {},
   "source": [
    "#### 8. What's the disadvantages and advantages of 1-gram language model;"
   ]
  },
  {
   "cell_type": "markdown",
   "metadata": {},
   "source": [
    "Ans:优点是便于统计，缺点是缺乏上下文语境的理解"
   ]
  },
  {
   "cell_type": "markdown",
   "metadata": {},
   "source": [
    "#### 9. What't the 2-gram models;"
   ]
  },
  {
   "cell_type": "markdown",
   "metadata": {},
   "source": [
    "Ans:两个词语在一定情况下同时出现的概率分布模型"
   ]
  },
  {
   "cell_type": "markdown",
   "metadata": {},
   "source": [
    "## 编程实践部分"
   ]
  },
  {
   "cell_type": "markdown",
   "metadata": {},
   "source": [
    "#### 1. 设计你自己的句子生成器"
   ]
  },
  {
   "cell_type": "markdown",
   "metadata": {},
   "source": [
    "如何生成句子是一个很经典的问题，从1940s开始，图灵提出机器智能的时候，就使用的是人类能不能流畅和计算机进行对话。和计算机对话的一个前提是，计算机能够生成语言。\n",
    "\n",
    "计算机如何能生成语言是一个经典但是又很复杂的问题。 我们课程上为大家介绍的是一种基于规则（Rule Based）的生成方法。该方法虽然提出的时间早，但是现在依然在很多地方能够大显身手。值得说明的是，现在很多很实用的算法，都是很久之前提出的，例如，二分查找提出与1940s, Dijstra算法提出于1960s 等等。"
   ]
  },
  {
   "cell_type": "markdown",
   "metadata": {},
   "source": [
    "在著名的电视剧，电影《西部世界》中，这些机器人们语言生成的方法就是使用的SyntaxTree生成语言的方法。\n",
    "\n",
    "> \n",
    ">\n",
    "\n",
    "![WstWorld](https://timgsa.baidu.com/timg?image&quality=80&size=b10000_10000&sec=1561818705&di=95ca9ff2ff37fcb88ae47b82c7079feb&src=http://s7.sinaimg.cn/mw690/006BKUGwzy75VK46FMi66&690)\n",
    "\n",
    "> \n",
    ">"
   ]
  },
  {
   "cell_type": "markdown",
   "metadata": {},
   "source": [
    "在这一部分，需要各位同学首先定义自己的语言。 大家可以先想一个应用场景，然后在这个场景下，定义语法。例如：\n",
    "\n",
    "在西部世界里，一个”人类“的语言可以定义为：\n",
    "``` \n",
    "human = \"\"\"\n",
    "human = 自己 寻找 活动\n",
    "自己 = 我 | 俺 | 我们 \n",
    "寻找 = 看看 | 找找 | 想找点\n",
    "活动 = 乐子 | 玩的\n",
    "\"\"\"\n",
    "```\n",
    "\n",
    "一个“接待员”的语言可以定义为\n",
    "```\n",
    "host = \"\"\"\n",
    "host = 寒暄 报数 询问 业务相关 结尾 \n",
    "报数 = 我是 数字 号 ,\n",
    "数字 = 单个数字 | 数字 单个数字 \n",
    "单个数字 = 1 | 2 | 3 | 4 | 5 | 6 | 7 | 8 | 9 \n",
    "寒暄 = 称谓 打招呼 | 打招呼\n",
    "称谓 = 人称 ,\n",
    "人称 = 先生 | 女士 | 小朋友\n",
    "打招呼 = 你好 | 您好 \n",
    "询问 = 请问你要 | 您需要\n",
    "业务相关 = 玩玩 具体业务\n",
    "玩玩 = 耍一耍 | 玩一玩\n",
    "具体业务 = 喝酒 | 打牌 | 打猎 | 赌博\n",
    "结尾 = 吗？\"\"\"\n",
    "\n",
    "```\n",
    "\n",
    "\n"
   ]
  },
  {
   "cell_type": "markdown",
   "metadata": {},
   "source": [
    "请定义你自己的语法: "
   ]
  },
  {
   "cell_type": "markdown",
   "metadata": {},
   "source": [
    "第一个语法："
   ]
  },
  {
   "cell_type": "code",
   "execution_count": 1,
   "metadata": {},
   "outputs": [],
   "source": [
    "hobby = '''\n",
    "hobby = name* state* thing*\n",
    "name* = name | name name*\n",
    "name = 你 | 我 | 他 | 小明 | 你们 | 我们 | 他们\n",
    "state* = state | state state*\n",
    "state = 喜欢 | 讨厌  \n",
    "thing* = thing | thing thing*\n",
    "thing = 篮球 | 足球 | 游泳 | 读书 | 打架 | 斗殴\n",
    "'''"
   ]
  },
  {
   "cell_type": "code",
   "execution_count": 2,
   "metadata": {},
   "outputs": [],
   "source": [
    "def createGramma(gramStr,lineSplit='\\n',wordSplit='|',keyValueSplit='='):\n",
    "    gram = {}\n",
    "    for line in gramStr.split(lineSplit):\n",
    "        if not line.strip(): continue\n",
    "        #print(line)\n",
    "        key,values = line.split(keyValueSplit)\n",
    "        gram[key.strip()] = [v.split() for v in values.split(wordSplit)]\n",
    "    return gram"
   ]
  },
  {
   "cell_type": "code",
   "execution_count": 3,
   "metadata": {},
   "outputs": [
    {
     "data": {
      "text/plain": [
       "{'hobby': [['name*', 'state*', 'thing*']],\n",
       " 'name*': [['name'], ['name', 'name*']],\n",
       " 'name': [['你'], ['我'], ['他'], ['小明'], ['你们'], ['我们'], ['他们']],\n",
       " 'state*': [['state'], ['state', 'state*']],\n",
       " 'state': [['喜欢'], ['讨厌']],\n",
       " 'thing*': [['thing'], ['thing', 'thing*']],\n",
       " 'thing': [['篮球'], ['足球'], ['游泳'], ['读书'], ['打架'], ['斗殴']]}"
      ]
     },
     "execution_count": 3,
     "metadata": {},
     "output_type": "execute_result"
    }
   ],
   "source": [
    "createGramma(hobby)"
   ]
  },
  {
   "cell_type": "code",
   "execution_count": 4,
   "metadata": {},
   "outputs": [],
   "source": [
    "import random\n",
    "choice = random.choice\n",
    "def createSentence(rule,gram):       \n",
    "    if gram not in rule: return gram\n",
    "    s = [createSentence(rule,v) for v in choice(rule[gram])]\n",
    "    return ''.join(t for t in s)\n",
    "        "
   ]
  },
  {
   "cell_type": "code",
   "execution_count": 5,
   "metadata": {
    "scrolled": true
   },
   "outputs": [
    {
     "name": "stdout",
     "output_type": "stream",
     "text": [
      "你小明喜欢足球游泳\n"
     ]
    }
   ],
   "source": [
    "print(createSentence(createGramma(hobby),'hobby'))"
   ]
  },
  {
   "cell_type": "markdown",
   "metadata": {},
   "source": [
    "第二个语法："
   ]
  },
  {
   "cell_type": "code",
   "execution_count": 6,
   "metadata": {},
   "outputs": [],
   "source": [
    "# you code here\n",
    "#论文写作结构分析\n",
    "paper = '''\n",
    "paper =  问题式 | 什么式 | 假设式\n",
    "问题式 = 提出问题*  --> 分析问题* -->  解决问题*  \n",
    "提出问题* = 提出问题 | 提出问题 提出问题*\n",
    "提出问题 = 问题 编号* ？\n",
    "分析问题* = 分析问题 | 分析问题 分析问题*\n",
    "分析问题 = 分析 编号* 。 \n",
    "解决问题* = 解决问题 | 解决问题 解决问题*\n",
    "解决问题 = 解决方法 编号* 。\n",
    "编号* = 编号 | 编号 编号*\n",
    "编号 = 1 | 2 | 3 | 4 | 5 | 6 | 7 | 8 | 9\n",
    "什么式 = 是什么* --> 为什么* --> 怎么办* \n",
    "是什么* = 是什么 | 是什么 是什么*\n",
    "是什么 = 编号* 是 编号*  。 \n",
    "为什么* =  为什么 | 为什么 为什么*\n",
    "为什么 =  因为 因由 。| 由于 因由 。\n",
    "因由 = 原因 编号* \n",
    "怎么办* =  怎么办 | 怎么办 怎么办*\n",
    "怎么办 =  解决办法 编号* 。 \n",
    "假设式 = 提出假设* --> 验证* --> 结论*\n",
    "提出假设* = 提出假设 | 提出假设 提出假设*\n",
    "提出假设 = 假设 编号* 存在 。\n",
    "验证* =  验证 | 验证 验证* \n",
    "验证 =  证据 编号* 。 | 实验 编号* 。\n",
    "结论* = 结论 | 结论 结论*\n",
    "结论 = 证明假设 编号 是 判断 。\n",
    "判断 = 对的 | 确的 | 错的 |  错误的 | 不对的  \n",
    "'''"
   ]
  },
  {
   "cell_type": "markdown",
   "metadata": {},
   "source": [
    "TODO: 然后，使用自己之前定义的generate函数，使用此函数生成句子。"
   ]
  },
  {
   "cell_type": "code",
   "execution_count": 7,
   "metadata": {
    "scrolled": true
   },
   "outputs": [
    {
     "name": "stdout",
     "output_type": "stream",
     "text": [
      "488是5。1是88。-->由于原因48。-->解决办法8。解决办法82259。\n"
     ]
    }
   ],
   "source": [
    "print(createSentence(createGramma(paper),'paper'))"
   ]
  },
  {
   "cell_type": "markdown",
   "metadata": {},
   "source": [
    "TODO: 然后，定义一个函数，generate_n，将generate扩展，使其能够生成n个句子:"
   ]
  },
  {
   "cell_type": "code",
   "execution_count": 8,
   "metadata": {},
   "outputs": [],
   "source": [
    "def generate_n(rule,gram,number):\n",
    "    sen = []\n",
    "    for i in range(number):\n",
    "        sen.append(createSentence(createGramma(rule),gram))\n",
    "    return sen      \n",
    "                   "
   ]
  },
  {
   "cell_type": "raw",
   "metadata": {},
   "source": [
    "generate_n(paper,'paper',30)"
   ]
  },
  {
   "cell_type": "raw",
   "metadata": {},
   "source": [
    "generate_n(hobby,'hobby',30)"
   ]
  },
  {
   "cell_type": "markdown",
   "metadata": {},
   "source": [
    ">"
   ]
  },
  {
   "cell_type": "markdown",
   "metadata": {},
   "source": [
    "#### 2. 使用新数据源完成语言模型的训练"
   ]
  },
  {
   "cell_type": "markdown",
   "metadata": {},
   "source": [
    "按照我们上文中定义的`prob_2`函数，我们更换一个文本数据源，获得新的Language Model:\n",
    "\n",
    "1. 下载文本数据集（你可以在以下数据集中任选一个，也可以两个都使用）\n",
    "    + 可选数据集1，保险行业问询对话集： https://github.com/Computing-Intelligence/insuranceqa-corpus-zh/raw/release/corpus/pool/train.txt.gz\n",
    "    + 可选数据集2：豆瓣评论数据集：https://github.com/Computing-Intelligence/datasource/raw/master/movie_comments.csv\n",
    "2. 修改代码，获得新的**2-gram**语言模型\n",
    "    + 进行文本清洗，获得所有的纯文本\n",
    "    + 将这些文本进行切词\n",
    "    + 送入之前定义的语言模型中，判断文本的合理程度"
   ]
  },
  {
   "cell_type": "code",
   "execution_count": 18,
   "metadata": {},
   "outputs": [],
   "source": [
    "import re\n",
    "def cleanText(sourceFileName,targetFileName=''):\n",
    "    sourText = open(sourceFileName,'r',encoding='utf8').read()\n",
    "    #target = re.findall(r'[\\u4e00-\\u9fa5]',sourText)\n",
    "    target = re.findall('\\w+',sourText)\n",
    "    if targetFileName: \n",
    "        targetFile = open(targetFileName,'w',encoding='utf8')\n",
    "        for text in target:\n",
    "            #print(text)\n",
    "            targetFile.write(text)\n",
    "        targetFile.close()\n",
    "    return target\n",
    "\n",
    "import jieba\n",
    "def cut(str): return list(jieba.cut(str))\n",
    "\n",
    "def cutTextFile(fileName):\n",
    "    TOKEN = []\n",
    "    for line in open(fileName,encoding='utf8'):\n",
    "        TOKEN += cut(line)\n",
    "    return TOKEN \n",
    "def cutText(text):\n",
    "    TOKEN = []\n",
    "    for line in text:\n",
    "        TOKEN += cut(line)\n",
    "    return TOKEN "
   ]
  },
  {
   "cell_type": "raw",
   "metadata": {},
   "source": [
    "sourceFileName = 'D:\\python\\datasource\\train.txt'\n",
    "targetFileName = \"D:\\python\\datasource\\cleanTrain.txt\"\n",
    "text = cleanText(sourceFileName,targetFileName)\n",
    "TOKEN = cutText(text)\n",
    "len(text)"
   ]
  },
  {
   "cell_type": "code",
   "execution_count": 21,
   "metadata": {},
   "outputs": [
    {
     "data": {
      "text/plain": [
       "89609"
      ]
     },
     "execution_count": 21,
     "metadata": {},
     "output_type": "execute_result"
    }
   ],
   "source": [
    "sourceFileName = 'D:\\python\\datasource\\article_9k.txt'\n",
    "text = cleanText(sourceFileName)\n",
    "TOKEN = cutText(text)\n",
    "len(text)"
   ]
  },
  {
   "cell_type": "code",
   "execution_count": 22,
   "metadata": {},
   "outputs": [],
   "source": [
    "from functools import reduce\n",
    "\n",
    "from operator import add,mul\n",
    "\n",
    "from collections import Counter"
   ]
  },
  {
   "cell_type": "code",
   "execution_count": 23,
   "metadata": {},
   "outputs": [],
   "source": [
    "wordsCount = Counter(TOKEN)"
   ]
  },
  {
   "cell_type": "code",
   "execution_count": 24,
   "metadata": {},
   "outputs": [
    {
     "data": {
      "text/plain": [
       "[('的', 703716),\n",
       " ('n', 382020),\n",
       " ('在', 263597),\n",
       " ('月', 189330),\n",
       " ('日', 166300),\n",
       " ('新华社', 142462),\n",
       " ('和', 134061),\n",
       " ('年', 123106),\n",
       " ('了', 121938),\n",
       " ('是', 100909),\n",
       " ('１', 88187),\n",
       " ('０', 84945),\n",
       " ('外代', 83268),\n",
       " ('中', 73926),\n",
       " ('中国', 71179),\n",
       " ('２', 70521),\n",
       " ('2017', 69894),\n",
       " ('记者', 62147),\n",
       " ('二线', 61998),\n",
       " ('将', 61420),\n",
       " ('与', 58309),\n",
       " ('等', 58162),\n",
       " ('为', 57019),\n",
       " ('5', 54578),\n",
       " ('照片', 52271),\n",
       " ('4', 51626),\n",
       " ('对', 50317),\n",
       " ('上', 47452),\n",
       " ('也', 47401),\n",
       " ('有', 45767),\n",
       " ('５', 40857),\n",
       " ('说', 39017),\n",
       " ('发展', 37632),\n",
       " ('他', 37194),\n",
       " ('３', 36906),\n",
       " ('以', 36867),\n",
       " ('国际', 35842),\n",
       " ('nn', 35330),\n",
       " ('４', 34659),\n",
       " ('比赛', 32232),\n",
       " ('６', 30575),\n",
       " ('到', 30109),\n",
       " ('人', 29572),\n",
       " ('从', 29489),\n",
       " ('6', 29002),\n",
       " ('都', 28027),\n",
       " ('不', 27963),\n",
       " ('后', 27393),\n",
       " ('当日', 27186),\n",
       " ('就', 26684),\n",
       " ('并', 26568),\n",
       " ('国家', 26439),\n",
       " ('７', 26386),\n",
       " ('企业', 26147),\n",
       " ('进行', 25987),\n",
       " ('3', 25491),\n",
       " ('美国', 25485),\n",
       " ('举行', 25389),\n",
       " ('被', 25277),\n",
       " ('北京', 25245),\n",
       " ('体育', 24873),\n",
       " ('2', 24376),\n",
       " ('1', 24182),\n",
       " ('这', 24118),\n",
       " ('新', 23828),\n",
       " ('但', 23385),\n",
       " ('比', 23229),\n",
       " ('个', 23081),\n",
       " ('足球', 22554),\n",
       " ('表示', 22134),\n",
       " ('经济', 22006),\n",
       " ('我', 21940),\n",
       " ('一个', 21932),\n",
       " ('９', 21920),\n",
       " ('还', 21861),\n",
       " ('合作', 21567),\n",
       " ('要', 21045),\n",
       " ('n5', 20946),\n",
       " ('已', 20882),\n",
       " ('摄', 20837),\n",
       " ('８', 20701),\n",
       " ('工作', 20700),\n",
       " ('n4', 20658),\n",
       " ('选手', 19986),\n",
       " ('我们', 19982),\n",
       " ('市场', 19001),\n",
       " ('一路', 18978),\n",
       " ('一带', 18907),\n",
       " ('建设', 18634),\n",
       " ('让', 18609),\n",
       " ('日电', 18384),\n",
       " ('通过', 18159),\n",
       " ('多', 17760),\n",
       " ('时', 17750),\n",
       " ('完', 17424),\n",
       " ('于', 17421),\n",
       " ('问题', 17338),\n",
       " ('更', 17275),\n",
       " ('项目', 17260),\n",
       " ('公司', 17169)]"
      ]
     },
     "execution_count": 24,
     "metadata": {},
     "output_type": "execute_result"
    }
   ],
   "source": [
    "wordsCount.most_common(100)"
   ]
  },
  {
   "cell_type": "code",
   "execution_count": 26,
   "metadata": {},
   "outputs": [
    {
     "data": {
      "image/png": "[encoded data removed]",
      "text/plain": [
       "<Figure size 432x288 with 2 Axes>"
      ]
     },
     "metadata": {
      "needs_background": "light"
     },
     "output_type": "display_data"
    }
   ],
   "source": [
    "import matplotlib.pyplot as plt\n",
    "import numpy as np\n",
    "wordsFreq = [f for w,f in wordsCount.most_common(100)]\n",
    "x = [i for i in range(100)]\n",
    "plt.subplot(2,1,1)\n",
    "plt.plot(x,wordsFreq)\n",
    "plt.subplot(2,1,2)\n",
    "plt.plot(x,np.log(wordsFreq))\n",
    "plt.show()"
   ]
  },
  {
   "cell_type": "code",
   "execution_count": 27,
   "metadata": {},
   "outputs": [],
   "source": [
    "#一元语言模型\n",
    "def unigramModel(word):\n",
    "    return wordsCount[word]/len(TOKEN)"
   ]
  },
  {
   "cell_type": "code",
   "execution_count": 28,
   "metadata": {},
   "outputs": [
    {
     "data": {
      "text/plain": [
       "8.620176701641993e-05"
      ]
     },
     "execution_count": 28,
     "metadata": {},
     "output_type": "execute_result"
    }
   ],
   "source": [
    "unigramModel('保险')"
   ]
  },
  {
   "cell_type": "code",
   "execution_count": 29,
   "metadata": {},
   "outputs": [
    {
     "data": {
      "text/plain": [
       "0.0011399627455473877"
      ]
     },
     "execution_count": 29,
     "metadata": {},
     "output_type": "execute_result"
    }
   ],
   "source": [
    "unigramModel('我们')"
   ]
  },
  {
   "cell_type": "code",
   "execution_count": 30,
   "metadata": {},
   "outputs": [],
   "source": [
    "TOKEN_2_GRAM = [''.join(TOKEN[i:i+2]) for i in range(len(TOKEN[:-2]))]\n",
    "wordsCount2 = Counter(TOKEN_2_GRAM)"
   ]
  },
  {
   "cell_type": "code",
   "execution_count": 31,
   "metadata": {},
   "outputs": [],
   "source": [
    "#二元语言模型\n",
    "def bigramModel(word1,word2):\n",
    "    if word1+word2 in TOKEN_2_GRAM: \n",
    "        return wordsCount2[word1+word2]/len(TOKEN_2_GRAM)\n",
    "    else:\n",
    "        return 1/len(TOKEN_2_GRAM)/1000    "
   ]
  },
  {
   "cell_type": "code",
   "execution_count": 32,
   "metadata": {},
   "outputs": [
    {
     "data": {
      "text/plain": [
       "5.704948832028678e-08"
      ]
     },
     "execution_count": 32,
     "metadata": {},
     "output_type": "execute_result"
    }
   ],
   "source": [
    "bigramModel('保险','单')"
   ]
  },
  {
   "cell_type": "code",
   "execution_count": 33,
   "metadata": {},
   "outputs": [
    {
     "data": {
      "text/plain": [
       "0.0001277338043491221"
      ]
     },
     "execution_count": 33,
     "metadata": {},
     "output_type": "execute_result"
    }
   ],
   "source": [
    "bigramModel('我们','的')"
   ]
  },
  {
   "cell_type": "code",
   "execution_count": 34,
   "metadata": {},
   "outputs": [
    {
     "data": {
      "text/plain": [
       "5.704948832028678e-08"
      ]
     },
     "execution_count": 34,
     "metadata": {},
     "output_type": "execute_result"
    }
   ],
   "source": [
    "bigramModel('吃饭','单')"
   ]
  },
  {
   "cell_type": "code",
   "execution_count": 35,
   "metadata": {},
   "outputs": [],
   "source": [
    "def getSenProb(sentence):\n",
    "    words = cut(sentence)\n",
    "    senProb = 1\n",
    "    for i,word in enumerate(words[:-1]):\n",
    "        secondWord = words[i+1]\n",
    "        prob = bigramModel(word,secondWord)\n",
    "        senProb *= prob\n",
    "    return senProb"
   ]
  },
  {
   "cell_type": "code",
   "execution_count": 36,
   "metadata": {},
   "outputs": [
    {
     "data": {
      "text/plain": [
       "9.698413014448753e-07"
      ]
     },
     "execution_count": 36,
     "metadata": {},
     "output_type": "execute_result"
    }
   ],
   "source": [
    "getSenProb(\"买保险\")"
   ]
  },
  {
   "cell_type": "code",
   "execution_count": 37,
   "metadata": {},
   "outputs": [
    {
     "data": {
      "text/plain": [
       "5.704948832028678e-08"
      ]
     },
     "execution_count": 37,
     "metadata": {},
     "output_type": "execute_result"
    }
   ],
   "source": [
    "getSenProb(\"卖保险\")"
   ]
  },
  {
   "cell_type": "code",
   "execution_count": 38,
   "metadata": {},
   "outputs": [
    {
     "data": {
      "text/plain": [
       "8.754992676361587e-12"
      ]
     },
     "execution_count": 38,
     "metadata": {},
     "output_type": "execute_result"
    }
   ],
   "source": [
    "getSenProb(\"我们在吃饭\")"
   ]
  },
  {
   "cell_type": "code",
   "execution_count": 39,
   "metadata": {},
   "outputs": [
    {
     "data": {
      "text/plain": [
       "1.5622291764511383e-13"
      ]
     },
     "execution_count": 39,
     "metadata": {},
     "output_type": "execute_result"
    }
   ],
   "source": [
    "getSenProb(createSentence(createGramma(hobby),'hobby'))"
   ]
  },
  {
   "cell_type": "code",
   "execution_count": 40,
   "metadata": {},
   "outputs": [
    {
     "data": {
      "text/plain": [
       "6.086628732644449e-152"
      ]
     },
     "execution_count": 40,
     "metadata": {},
     "output_type": "execute_result"
    }
   ],
   "source": [
    "getSenProb(createSentence(createGramma(paper),'paper'))"
   ]
  },
  {
   "cell_type": "raw",
   "metadata": {},
   "source": [
    "for str in generate_n(paper,'paper',10):\n",
    "    print(getSenProb(str))"
   ]
  },
  {
   "cell_type": "raw",
   "metadata": {},
   "source": [
    "for str in generate_n(hobby,'hobby',10):\n",
    "    print(getSenProb(str))"
   ]
  },
  {
   "cell_type": "code",
   "execution_count": 41,
   "metadata": {},
   "outputs": [
    {
     "name": "stdout",
     "output_type": "stream",
     "text": [
      "今天晚上请你吃大餐，我们一起吃日料\n",
      "---- 1.9877960696419972e-66 : 今天晚上请你吃大餐，我们一起吃日料\n",
      "---- 1.5902368557135977e-66 : 明天晚上请你吃大餐，我们一起吃苹果\n",
      "真是一只好看的小猫\n",
      "---- 4.6410899733664495e-34 : 真事一只好看的小猫\n",
      "---- 8.135199999184005e-27 : 真是一只好看的小猫\n",
      "今晚我去吃火锅\n",
      "---- 3.4535695372779675e-20 : 今晚我去吃火锅\n",
      "---- 5.508208332780837e-28 : 今晚火锅去吃我\n",
      "养乐多绿来一杯\n",
      "---- 1.8567578157408427e-22 : 洋葱奶昔来一杯\n",
      "---- 3.254644117606538e-15 : 养乐多绿来一杯\n"
     ]
    }
   ],
   "source": [
    "need_compared = [\n",
    "    \"今天晚上请你吃大餐，我们一起吃日料 明天晚上请你吃大餐，我们一起吃苹果\",\n",
    "    \"真事一只好看的小猫 真是一只好看的小猫\",\n",
    "    \"今晚我去吃火锅 今晚火锅去吃我\",\n",
    "    \"洋葱奶昔来一杯 养乐多绿来一杯\"\n",
    "]\n",
    "for str in need_compared:\n",
    "    s1,s2 = str.split()\n",
    "    p1,p2 = getSenProb(s1),getSenProb(s2)\n",
    "    s = s1 if p1>p2 else s2\n",
    "    print(s) \n",
    "    print('-'*4,p1,':',s1)\n",
    "    print('-'*4,p2,':',s2)"
   ]
  },
  {
   "cell_type": "markdown",
   "metadata": {},
   "source": [
    "#### 3. 获得最优质的的语言"
   ]
  },
  {
   "cell_type": "markdown",
   "metadata": {},
   "source": [
    "当我们能够生成随机的语言并且能判断之后，我们就可以生成更加合理的语言了。请定义 generate_best 函数，该函数输入一个语法 + 语言模型，能够生成**n**个句子，并能选择一个最合理的句子: \n",
    "\n"
   ]
  },
  {
   "cell_type": "markdown",
   "metadata": {},
   "source": [
    "提示，要实现这个函数，你需要Python的sorted函数"
   ]
  },
  {
   "cell_type": "code",
   "execution_count": 13,
   "metadata": {},
   "outputs": [
    {
     "data": {
      "text/plain": [
       "[1, 2, 3, 5]"
      ]
     },
     "execution_count": 13,
     "metadata": {},
     "output_type": "execute_result"
    }
   ],
   "source": [
    "sorted([1, 3, 5, 2])"
   ]
  },
  {
   "cell_type": "raw",
   "metadata": {},
   "source": [
    "这个函数接受一个参数key，这个参数接受一个函数作为输入，例如"
   ]
  },
  {
   "cell_type": "code",
   "execution_count": 15,
   "metadata": {},
   "outputs": [
    {
     "data": {
      "text/plain": [
       "[(1, 4), (2, 5), (4, 4), (5, 0)]"
      ]
     },
     "execution_count": 15,
     "metadata": {},
     "output_type": "execute_result"
    }
   ],
   "source": [
    "sorted([(2, 5), (1, 4), (5, 0), (4, 4)], key=lambda x: x[0])"
   ]
  },
  {
   "cell_type": "markdown",
   "metadata": {},
   "source": [
    "能够让list按照第0个元素进行排序."
   ]
  },
  {
   "cell_type": "code",
   "execution_count": 16,
   "metadata": {},
   "outputs": [
    {
     "data": {
      "text/plain": [
       "[(5, 0), (1, 4), (4, 4), (2, 5)]"
      ]
     },
     "execution_count": 16,
     "metadata": {},
     "output_type": "execute_result"
    }
   ],
   "source": [
    "sorted([(2, 5), (1, 4), (5, 0), (4, 4)], key=lambda x: x[1])"
   ]
  },
  {
   "cell_type": "markdown",
   "metadata": {},
   "source": [
    "能够让list按照第1个元素进行排序."
   ]
  },
  {
   "cell_type": "code",
   "execution_count": 17,
   "metadata": {},
   "outputs": [
    {
     "data": {
      "text/plain": [
       "[(2, 5), (1, 4), (4, 4), (5, 0)]"
      ]
     },
     "execution_count": 17,
     "metadata": {},
     "output_type": "execute_result"
    }
   ],
   "source": [
    "sorted([(2, 5), (1, 4), (5, 0), (4, 4)], key=lambda x: x[1], reverse=True)"
   ]
  },
  {
   "cell_type": "markdown",
   "metadata": {},
   "source": [
    "能够让list按照第1个元素进行排序, 但是是递减的顺序。"
   ]
  },
  {
   "cell_type": "code",
   "execution_count": 42,
   "metadata": {},
   "outputs": [],
   "source": [
    "def generate_best(strings): \n",
    "    bestSen ={}\n",
    "    for str in strings:\n",
    "        reStr = re.findall('\\w+',str)\n",
    "        #print(reStr)\n",
    "        targetStr = ''.join(reStr)\n",
    "        #print(len(targetStr),targetStr)\n",
    "        strProb = getSenProb(targetStr)\n",
    "        bestSen[str]=strProb  \n",
    "    bestSentence = max(bestSen,key = bestSen.get)\n",
    "    #print(bestSen[bestSentence])\n",
    "    print(\"{} with prob {} is the best tentences among\".format(bestSentence,bestSen[bestSentence]))\n",
    "    for k in bestSen:\n",
    "        print('\\t{} with prob {}'.format(k,bestSen[k]))  "
   ]
  },
  {
   "cell_type": "code",
   "execution_count": 43,
   "metadata": {},
   "outputs": [
    {
     "name": "stdout",
     "output_type": "stream",
     "text": [
      "5575是15。-->因为原因811。-->解决办法215。 with prob 2.360171278296843e-50 is the best tentences among\n",
      "\t假设7存在。-->实验55。-->证明假设6是错误的。证明假设3是不对的。 with prob 8.04220453403365e-111\n",
      "\t7是8。8是5。79是9。3是894。-->由于原因1。因为原因3。由于原因5532632。-->解决办法7。解决办法8。解决办法46499。解决办法9。解决办法96。 with prob 2.6229942961599454e-195\n",
      "\t假设61存在。-->实验78998。-->证明假设9是对的。证明假设4是对的。证明假设2是不对的。 with prob 1.8050594138232588e-146\n",
      "\t72是6。-->因为原因1。由于原因3。因为原因7。因为原因66221。-->解决办法8。解决办法73。 with prob 1.7824642208681872e-128\n",
      "\t假设2782存在。-->实验7。实验3。实验7。-->证明假设4是错的。 with prob 2.3674235967313767e-99\n",
      "\t假设7存在。假设434941存在。假设4存在。假设1存在。-->证据6。证据65。实验45766。证据5。实验7。证据42。证据81。-->证明假设9是对的。证明假设5是不对的。证明假设9是确的。 with prob 1.8036370883243203e-303\n",
      "\t58是3。-->因为原因9。-->解决办法8578。解决办法192166。解决办法5。解决办法64。 with prob 2.983496088512181e-93\n",
      "\t7是2。93是225。-->因为原因9。由于原因12。-->解决办法5。解决办法1。解决办法64。解决办法6。解决办法78。解决办法6。解决办法8。 with prob 2.82534886771259e-174\n",
      "\t55是19。-->因为原因37。由于原因942。-->解决办法12。解决办法3。解决办法54。解决办法8695。 with prob 5.0360269823429323e-116\n",
      "\t假设31存在。假设8存在。-->证据5。-->证明假设3是错误的。证明假设8是错误的。证明假设6是不对的。证明假设9是错的。 with prob 8.45246930189377e-210\n",
      "\t问题7？问题25？问题116？-->分析1962。分析94574。-->解决方法591。 with prob 1.901695704015791e-86\n",
      "\t问题8？问题4？问题6？问题94？-->分析4。分析4。分析13。分析7。分析484。分析6。-->解决方法6。解决方法2。解决方法1941623。 with prob 5.056651183388199e-198\n",
      "\t5575是15。-->因为原因811。-->解决办法215。 with prob 2.360171278296843e-50\n",
      "\t1是296。-->由于原因345。因为原因68。-->解决办法23。解决办法2。 with prob 7.131358890059216e-87\n",
      "\t假设9存在。假设11存在。-->证据2。实验7。实验9511。-->证明假设6是错误的。 with prob 7.541697515882833e-120\n",
      "\t8是56。83965是2。28817是7。-->因为原因41。因为原因1。-->解决办法8。 with prob 5.41567489448354e-100\n",
      "\t问题4？-->分析2。-->解决方法87。解决方法1。 with prob 2.0484046846540598e-63\n",
      "\t问题219？-->分析734。-->解决方法7。解决方法5。 with prob 1.2290428107924358e-63\n",
      "\t问题39？问题583？问题5？问题9？问题31532？问题445974？-->分析725。分析84。分析8。-->解决方法2。解决方法41。 with prob 1.109349382442347e-164\n",
      "\t问题74？-->分析16。-->解决方法782。解决方法6。 with prob 4.09680936930812e-64\n",
      "None\n"
     ]
    }
   ],
   "source": [
    "strings = generate_n(paper,'paper',20)\n",
    "print(generate_best(strings))"
   ]
  },
  {
   "cell_type": "code",
   "execution_count": 45,
   "metadata": {},
   "outputs": [
    {
     "name": "stdout",
     "output_type": "stream",
     "text": [
      "他们喜欢足球 with prob 1.5622291764511383e-13 is the best tentences among\n",
      "\t你喜欢斗殴打架 with prob 8.912437515556044e-21\n",
      "\t他喜欢斗殴 with prob 7.811145882255691e-14\n",
      "\t你们你喜欢讨厌讨厌喜欢喜欢喜欢喜欢喜欢读书篮球 with prob 7.000169670256361e-78\n",
      "\t你喜欢喜欢讨厌喜欢读书打架游泳 with prob 6.608479579231163e-49\n",
      "\t他们讨厌读书篮球读书打架足球打架 with prob 1.966809398580703e-51\n",
      "\t我们喜欢打架游泳 with prob 2.59946094203718e-21\n",
      "\t你喜欢喜欢喜欢打架 with prob 5.084499999490003e-28\n",
      "\t你我们讨厌讨厌斗殴 with prob 3.177812499681252e-29\n",
      "\t你们我们你我们喜欢讨厌喜欢篮球 with prob 2.3129678527309066e-48\n",
      "\t我们小明你我他们讨厌读书游泳 with prob 1.0522430282406762e-48\n",
      "\t他们讨厌游泳 with prob 3.254644117606538e-15\n",
      "\t他们小明他小明讨厌讨厌喜欢读书 with prob 1.376766579006492e-50\n",
      "\t你们你喜欢足球游泳游泳 with prob 1.7404087400124185e-34\n",
      "\t他们喜欢足球 with prob 1.5622291764511383e-13\n",
      "\t小明讨厌篮球篮球篮球 with prob 1.059270833227084e-29\n",
      "\t他们我们讨厌讨厌喜欢讨厌斗殴斗殴打架足球 with prob 1.9203793918631813e-64\n",
      "\t你我们讨厌讨厌游泳 with prob 3.177812499681252e-29\n",
      "\t我们你你们讨厌喜欢讨厌斗殴 with prob 6.89509917262941e-44\n",
      "\t你我你他他喜欢读书 with prob 1.740206090289695e-36\n",
      "\t我们讨厌讨厌篮球足球 with prob 2.2244687497768766e-28\n",
      "None\n"
     ]
    }
   ],
   "source": [
    "strings = generate_n(hobby,'hobby',20)\n",
    "print(generate_best(strings))"
   ]
  },
  {
   "cell_type": "markdown",
   "metadata": {},
   "source": [
    "好了，现在我们实现了自己的第一个AI模型，这个模型能够生成比较接近于人类的语言。"
   ]
  },
  {
   "cell_type": "markdown",
   "metadata": {},
   "source": [
    ">"
   ]
  },
  {
   "cell_type": "markdown",
   "metadata": {},
   "source": [
    "Q: 这个模型有什么问题？ 你准备如何提升？ "
   ]
  },
  {
   "cell_type": "markdown",
   "metadata": {},
   "source": [
    "Ans:"
   ]
  },
  {
   "cell_type": "markdown",
   "metadata": {},
   "source": [
    ">"
   ]
  },
  {
   "cell_type": "markdown",
   "metadata": {},
   "source": [
    "##### 以下内容为可选部分，对于绝大多数同学，能完成以上的项目已经很优秀了，下边的内容如果你还有精力可以试试，但不是必须的。"
   ]
  },
  {
   "cell_type": "markdown",
   "metadata": {},
   "source": [
    "#### 4. (Optional) 完成基于Pattern Match的语句问答\n",
    "> 我们的GitHub仓库中，有一个assignment-01-optional-pattern-match，这个难度较大，感兴趣的同学可以挑战一下。"
   ]
  },
  {
   "cell_type": "markdown",
   "metadata": {},
   "source": [
    "\n",
    "#### 5. (Optional) 完成阿兰图灵机器智能原始论文的阅读\n",
    "1. 请阅读阿兰图灵关于机器智能的原始论文：https://github.com/Computing-Intelligence/References/blob/master/AI%20%26%20Machine%20Learning/Computer%20Machinery%20and%20Intelligence.pdf \n",
    "2. 并按照GitHub仓库中的论文阅读模板，填写完毕后发送给我: mqgao@kaikeba.com 谢谢"
   ]
  },
  {
   "cell_type": "markdown",
   "metadata": {},
   "source": [
    "> "
   ]
  },
  {
   "cell_type": "markdown",
   "metadata": {},
   "source": [
    "各位同学，我们已经完成了自己的第一个AI模型，大家对人工智能可能已经有了一些感觉，人工智能的核心就是，我们如何设计一个模型、程序，在外部的输入变化的时候，我们的程序不变，依然能够解决问题。人工智能是一个很大的领域，目前大家所熟知的深度学习只是其中一小部分，之后也肯定会有更多的方法提出来，但是大家知道人工智能的目标，就知道了之后进步的方向。"
   ]
  },
  {
   "cell_type": "markdown",
   "metadata": {},
   "source": [
    "然后，希望大家对AI不要有恐惧感，这个并不难，大家加油！"
   ]
  },
  {
   "cell_type": "markdown",
   "metadata": {},
   "source": [
    ">"
   ]
  },
  {
   "cell_type": "markdown",
   "metadata": {},
   "source": [
    "![](https://timgsa.baidu.com/timg?image&quality=80&size=b9999_10000&sec=1561828422005&di=48d19c16afb6acc9180183a6116088ac&imgtype=0&src=http%3A%2F%2Fb-ssl.duitang.com%2Fuploads%2Fitem%2F201807%2F28%2F20180728150843_BECNF.thumb.224_0.jpeg)"
   ]
  }
 ],
 "metadata": {
  "kernelspec": {
   "display_name": "Python 3",
   "language": "python",
   "name": "python3"
  },
  "language_info": {
   "codemirror_mode": {
    "name": "ipython",
    "version": 3
   },
   "file_extension": ".py",
   "mimetype": "text/x-python",
   "name": "python",
   "nbconvert_exporter": "python",
   "pygments_lexer": "ipython3",
   "version": "3.7.3"
  }
 },
 "nbformat": 4,
 "nbformat_minor": 2
}
