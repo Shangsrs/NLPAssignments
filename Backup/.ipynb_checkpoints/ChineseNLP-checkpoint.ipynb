{
 "cells": [
  {
   "cell_type": "code",
   "execution_count": 23,
   "metadata": {},
   "outputs": [],
   "source": [
    "import re\n"
   ]
  },
  {
   "cell_type": "code",
   "execution_count": 24,
   "metadata": {},
   "outputs": [],
   "source": [
    "textString = \"文本最重要的来源无疑是网络，我们要把网络中的文本获取形成一个文本数据库。利用一个爬虫抓取到网络中的信息，爬取的策略有广度爬取和深度爬取。根据用户的需求，爬虫可以有主题爬虫和通用爬虫之分\"\n",
    "pString = re.split('，|。',textString)\n",
    "#print(pString)"
   ]
  },
  {
   "cell_type": "code",
   "execution_count": 25,
   "metadata": {},
   "outputs": [
    {
     "name": "stdout",
     "output_type": "stream",
     "text": [
      "爬取的策略有广度爬取和深度爬取\n",
      "爬虫可以有主题爬虫和通用爬虫之分\n"
     ]
    }
   ],
   "source": [
    "regex = '^爬'\n",
    "#regex = '网络$'\n",
    "#regex = '^文本'\n",
    "for line in pString:\n",
    "    if re.search(regex,line) is not None:\n",
    "        print(line)"
   ]
  },
  {
   "cell_type": "code",
   "execution_count": 34,
   "metadata": {},
   "outputs": [
    {
     "name": "stdout",
     "output_type": "stream",
     "text": [
      "Match it \n"
     ]
    }
   ],
   "source": [
    "if re.search(r\"\\\\\",\"I have one nee\\dle\"):\n",
    "    print(\"Match it \")\n",
    "else:\n",
    "    print(\"not match\")\n"
   ]
  },
  {
   "cell_type": "code",
   "execution_count": 36,
   "metadata": {},
   "outputs": [
    {
     "name": "stdout",
     "output_type": "stream",
     "text": [
      "War of 1812\n",
      "Happ New Year 2019\n"
     ]
    }
   ],
   "source": [
    "strings = ['War of 1812','There are 5280 feet to a mile','Happ New Year 2019']\n",
    "for s in strings:\n",
    "    if re.search('[1-2][0-9]{3}',s):\n",
    "        print(s)"
   ]
  },
  {
   "cell_type": "code",
   "execution_count": 38,
   "metadata": {},
   "outputs": [
    {
     "data": {
      "text/plain": [
       "['abc']"
      ]
     },
     "execution_count": 38,
     "metadata": {},
     "output_type": "execute_result"
    }
   ],
   "source": [
    "re.findall('[a-z]{3}','abc1234')"
   ]
  },
  {
   "cell_type": "code",
   "execution_count": 40,
   "metadata": {},
   "outputs": [
    {
     "data": {
      "text/plain": [
       "['2016', '2017']"
      ]
     },
     "execution_count": 40,
     "metadata": {},
     "output_type": "execute_result"
    }
   ],
   "source": [
    "text = \"2016 was a good year, but 2017 will be better!\"\n",
    "re.findall('[2][0-9]{3}',text)"
   ]
  },
  {
   "cell_type": "code",
   "execution_count": 41,
   "metadata": {},
   "outputs": [],
   "source": [
    "import numpy as np"
   ]
  },
  {
   "cell_type": "code",
   "execution_count": 73,
   "metadata": {},
   "outputs": [
    {
     "name": "stdout",
     "output_type": "stream",
     "text": [
      "[[0 1 2]\n",
      " [3 4 5]\n",
      " [6 7 8]]\n"
     ]
    },
    {
     "data": {
      "text/plain": [
       "array([1, 4, 7])"
      ]
     },
     "execution_count": 73,
     "metadata": {},
     "output_type": "execute_result"
    }
   ],
   "source": [
    "vector = np.arange(9).reshape(3,3)\n",
    "print(vector)\n",
    "vector[:,1]"
   ]
  },
  {
   "cell_type": "code",
   "execution_count": 65,
   "metadata": {},
   "outputs": [],
   "source": [
    "ve = vector == 1"
   ]
  },
  {
   "cell_type": "raw",
   "metadata": {},
   "source": [
    "print(ve)\n",
    "print(vector[ve])"
   ]
  },
  {
   "cell_type": "code",
   "execution_count": 82,
   "metadata": {},
   "outputs": [
    {
     "data": {
      "text/plain": [
       "array([ 3, 12, 21])"
      ]
     },
     "execution_count": 82,
     "metadata": {},
     "output_type": "execute_result"
    }
   ],
   "source": [
    "vector.sum(axis=1)"
   ]
  },
  {
   "cell_type": "code",
   "execution_count": 57,
   "metadata": {},
   "outputs": [],
   "source": [
    "fileName = \"D:\\python\\datasource\\data.csv\""
   ]
  },
  {
   "cell_type": "raw",
   "metadata": {},
   "source": [
    "nfl = np.genfromtxt(fileName,encoding='utf8')"
   ]
  },
  {
   "cell_type": "raw",
   "metadata": {},
   "source": [
    "type(nfl)"
   ]
  },
  {
   "cell_type": "code",
   "execution_count": 229,
   "metadata": {},
   "outputs": [],
   "source": [
    "class MaxMatch:\n",
    "    def __init__(self,dicPath):\n",
    "        self.dic = set()\n",
    "        self.maxSize = 0\n",
    "        with open(dicPath,'r',encoding='utf8') as f:\n",
    "            for line in f:\n",
    "                line = line.strip()\n",
    "                if line:\n",
    "                    #print(line)\n",
    "                    self.dic.add(line)\n",
    "                    #self.maxSize = len(line)\n",
    "                    if self.maxSize < len(line):\n",
    "                        self.maxSize = len(line)\n",
    "    def backwardCut(self,text):\n",
    "        result = []\n",
    "        index = len(text)\n",
    "        while index > 0:\n",
    "            word = None\n",
    "            for size in range(self.maxSize,0,-1):\n",
    "                if index - size < 0:\n",
    "                    size = index\n",
    "                piece = text[(index-size):index]\n",
    "                #print(piece)\n",
    "                if piece in self.dic:\n",
    "                    word = piece\n",
    "                    result.append(word)\n",
    "                    index -= size\n",
    "                    break\n",
    "            if word is None:\n",
    "                result.append(text[index-1])\n",
    "                index -= 1\n",
    "        return result[::-1] \n",
    "    def forwardCut(self,text):\n",
    "        result = []\n",
    "        index = 0\n",
    "        textLen = len(text)\n",
    "        while(index<textLen):\n",
    "            for size in range(self.maxSize,0,-1):\n",
    "                word = None\n",
    "                if index+size > textLen:\n",
    "                    size = textLen-index\n",
    "                piece = text[index:index+size]\n",
    "                #print(piece)\n",
    "                if piece in self.dic:\n",
    "                    word = piece\n",
    "                    result.append(word)\n",
    "                    index += size\n",
    "                    break\n",
    "            if word is None:\n",
    "                result.append(text[index])\n",
    "                index += 1\n",
    "        return result\n",
    "    def binCut(self,text):\n",
    "        backResult = self.backwardCut(text)\n",
    "        forResult = self.forwardCut(text)\n",
    "        if len(backResult) > len(forResult):\n",
    "            return forResult\n",
    "        else:\n",
    "            return backResult"
   ]
  },
  {
   "cell_type": "code",
   "execution_count": 251,
   "metadata": {},
   "outputs": [],
   "source": [
    "dicFile = 'D:\\python\\datasource\\imm_dic.utf8'\n",
    "dicFile = 'D:\\python\\datasource\\imm_dic.utf8'\n",
    "text = \"南京市长江大桥人民解放军英雄纪念碑\"\n",
    "tokenizer = MaxMatch(dicFile)\n"
   ]
  },
  {
   "cell_type": "code",
   "execution_count": 252,
   "metadata": {},
   "outputs": [
    {
     "name": "stdout",
     "output_type": "stream",
     "text": [
      "['南京市长', '江', '大桥', '人民解放军', '英雄纪念碑']\n"
     ]
    }
   ],
   "source": [
    "print(tokenizer.forwardCut(text))"
   ]
  },
  {
   "cell_type": "code",
   "execution_count": 253,
   "metadata": {},
   "outputs": [
    {
     "name": "stdout",
     "output_type": "stream",
     "text": [
      "['南京市', '长江大桥', '人民解放军', '英雄纪念碑']\n"
     ]
    }
   ],
   "source": [
    "print(tokenizer.backwardCut(text))"
   ]
  },
  {
   "cell_type": "code",
   "execution_count": 254,
   "metadata": {},
   "outputs": [
    {
     "name": "stdout",
     "output_type": "stream",
     "text": [
      "['南京市', '长江大桥', '人民解放军', '英雄纪念碑']\n"
     ]
    }
   ],
   "source": [
    "print(tokenizer.binCut(text))"
   ]
  },
  {
   "cell_type": "code",
   "execution_count": 255,
   "metadata": {},
   "outputs": [
    {
     "name": "stdout",
     "output_type": "stream",
     "text": [
      "{'长江大桥', '人民', '英雄纪念碑', '人民解放军', '大桥', '国家大剧院', '国家', '南京市', '南京市长'}\n",
      "5\n"
     ]
    }
   ],
   "source": [
    "print(tokenizer.dic)\n",
    "print(tokenizer.maxSize)"
   ]
  },
  {
   "cell_type": "code",
   "execution_count": 250,
   "metadata": {},
   "outputs": [],
   "source": [
    "dicPath = 'D:\\python\\datasource\\imm_dic.utf8'\n",
    "dic = ['长江大桥', '人民解放军', '大桥', '南京市', '南京市长','国家','国家大剧院']\n",
    "dic.append('英雄纪念碑')\n",
    "dic.append('人民')\n",
    "with open(dicPath,'w',encoding='utf8') as f:\n",
    "    for line in dic:\n",
    "        line = line.strip()\n",
    "        if line:\n",
    "            f.write(line+'\\n')"
   ]
  }
 ],
 "metadata": {
  "kernelspec": {
   "display_name": "Python 3",
   "language": "python",
   "name": "python3"
  },
  "language_info": {
   "codemirror_mode": {
    "name": "ipython",
    "version": 3
   },
   "file_extension": ".py",
   "mimetype": "text/x-python",
   "name": "python",
   "nbconvert_exporter": "python",
   "pygments_lexer": "ipython3",
   "version": "3.7.3"
  }
 },
 "nbformat": 4,
 "nbformat_minor": 2
}
