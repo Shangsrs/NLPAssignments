{
 "cells": [
  {
   "cell_type": "code",
   "execution_count": 1,
   "metadata": {},
   "outputs": [],
   "source": [
    "import random\n",
    "import matplotlib.pyplot as plt\n",
    "import numpy as np"
   ]
  },
  {
   "cell_type": "code",
   "execution_count": 2,
   "metadata": {},
   "outputs": [],
   "source": [
    "def genPoints(num, x_min, x_max, y_min, y_max):\n",
    "    x =  x_max - x_min  \n",
    "    y =  y_max - y_min\n",
    "    return np.array([[random.random() * x + x_min , random.random()*y + y_min] for _ in range(num)])"
   ]
  },
  {
   "cell_type": "code",
   "execution_count": 3,
   "metadata": {},
   "outputs": [],
   "source": [
    "def distance(p1,p2):\n",
    "    return ((p1[0] - p2[0])**2 + (p1[1] - p2[1])**2)**0.5"
   ]
  },
  {
   "cell_type": "code",
   "execution_count": 4,
   "metadata": {},
   "outputs": [],
   "source": [
    "def drawPoints(points, c):\n",
    "    #print('len(points):',len(points))\n",
    "    if len(points) < 1: return\n",
    "    plt.scatter(points[:,0],points[:,1],c = c) "
   ]
  },
  {
   "cell_type": "code",
   "execution_count": 5,
   "metadata": {},
   "outputs": [],
   "source": [
    "def meanPoint(ps, c):\n",
    "    if len(ps) < 1: return random.choice(points)\n",
    "    x = np.mean(ps[:,0])\n",
    "    y = np.mean(ps[:,1])\n",
    "    #print(p)\n",
    "    return [x,y]"
   ]
  },
  {
   "cell_type": "code",
   "execution_count": 218,
   "metadata": {},
   "outputs": [],
   "source": [
    " def drawResult(clus,center,t):\n",
    "    #绘图\n",
    "    colors = ['g','m','b','c']\n",
    "    plt.figure()\n",
    "    plt.title(\"epoci {}\".format(t))\n",
    "    p = np.array(center)\n",
    "    plt.scatter(p[:,0],p[:,1],marker='+',s = 600, c = 'r')\n",
    "    for ps, c  in zip(clus,colors):\n",
    "        #print(ps)\n",
    "        drawPoints(np.array(ps),c)"
   ]
  },
  {
   "cell_type": "code",
   "execution_count": 219,
   "metadata": {
    "scrolled": true
   },
   "outputs": [
    {
     "name": "stdout",
     "output_type": "stream",
     "text": [
      "[ 45  88  24 139]\n"
     ]
    },
    {
     "data": {
      "image/png": "[encoded data removed]",
      "text/plain": [
       "<Figure size 432x288 with 1 Axes>"
      ]
     },
     "metadata": {
      "needs_background": "light"
     },
     "output_type": "display_data"
    }
   ],
   "source": [
    "#产生点集\n",
    "num = 40\n",
    "points1 = genPoints(num, 0, 8, 0, 8)\n",
    "points2 = genPoints(num, 0, 8, 12, 20)\n",
    "points3 = genPoints(num, 12, 20, 0, 8)\n",
    "points4 = genPoints(num, 12, 20, 12, 20)\n",
    "points = np.concatenate((points1,points2,points3,points4))\n",
    "#plt.scatter(points[:,0],points[:,1])\n",
    "\n",
    "# #训练\n",
    "centerIndex = np.random.choice(len(points),4,replace = False)\n",
    "print(centerIndex)\n",
    "center = points[centerIndex]\n",
    "#center\n",
    "for t in range(20):\n",
    "    #print(t)\n",
    "    clus = [[] for _ in range(4)]\n",
    "    for p in points:\n",
    "        dis = []\n",
    "        for  c in center:\n",
    "            dis.append(distance(c,p))\n",
    "        index = np.where(dis == np.min(dis))\n",
    "#         print(type(index))\n",
    "#         print('index: ',index)\n",
    "#         for i in index[0]:\n",
    "#             #print('i: ',i)\n",
    "#             clus[int(i)].append(p)\n",
    "        clus[int(index[0])].append(p)\n",
    "    temp = []\n",
    "    for ps, c in zip(clus,center):\n",
    "        c = meanPoint(np.array(ps),c)\n",
    "        temp.append(c)\n",
    "    center = temp\n",
    "    #print(center)\n",
    "    #print(c)\n",
    "    \n",
    "drawResult(clus,center,t)"
   ]
  },
  {
   "cell_type": "code",
   "execution_count": 89,
   "metadata": {},
   "outputs": [
    {
     "data": {
      "text/plain": [
       "(4,\n",
       " [[4.251036724156199, 4.576515741061842],\n",
       "  [4.6300000092271745, 16.035642926442357],\n",
       "  [15.951769416893052, 9.757046745025026],\n",
       "  [15.951769416893052, 9.757046745025026]])"
      ]
     },
     "execution_count": 89,
     "metadata": {},
     "output_type": "execute_result"
    }
   ],
   "source": [
    "len(clus),center"
   ]
  },
  {
   "cell_type": "code",
   "execution_count": null,
   "metadata": {},
   "outputs": [],
   "source": []
  }
 ],
 "metadata": {
  "kernelspec": {
   "display_name": "Python 3",
   "language": "python",
   "name": "python3"
  },
  "language_info": {
   "codemirror_mode": {
    "name": "ipython",
    "version": 3
   },
   "file_extension": ".py",
   "mimetype": "text/x-python",
   "name": "python",
   "nbconvert_exporter": "python",
   "pygments_lexer": "ipython3",
   "version": "3.7.3"
  }
 },
 "nbformat": 4,
 "nbformat_minor": 2
}
