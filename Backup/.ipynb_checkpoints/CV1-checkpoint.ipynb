{
 "cells": [
  {
   "cell_type": "code",
   "execution_count": 1,
   "metadata": {},
   "outputs": [],
   "source": [
    "import cv2\n",
    "import random\n",
    "import numpy as np\n",
    "from matplotlib import pyplot as plt"
   ]
  },
  {
   "cell_type": "code",
   "execution_count": 41,
   "metadata": {},
   "outputs": [],
   "source": [
    "def showImg(imgIn,name=['Test']):\n",
    "    data = zip(imgIn,name)\n",
    "    print(type(data))\n",
    "    while True:\n",
    "        for img,name in data:\n",
    "            print(img.shape)\n",
    "            print(name)\n",
    "            cv2.imshow(name,img)\n",
    "        key = cv2.waitKey()\n",
    "        print(key,end=' ')\n",
    "        if key == 27 or key == ord('q'):\n",
    "            cv2.destroyAllWindows()\n",
    "            break"
   ]
  },
  {
   "cell_type": "code",
   "execution_count": 42,
   "metadata": {},
   "outputs": [
    {
     "name": "stdout",
     "output_type": "stream",
     "text": [
      "<class 'zip'>\n",
      "(650, 650)\n",
      "Test\n",
      "27 "
     ]
    }
   ],
   "source": [
    "imgGray = cv2.imread('D:/python/datasource/picture.jpg',0)\n",
    "showImg([imgGray])"
   ]
  },
  {
   "cell_type": "raw",
   "metadata": {},
   "source": [
    "cv2.imshow?\n",
    "cv2.waitKey?\n",
    "cv2.imread?"
   ]
  },
  {
   "cell_type": "code",
   "execution_count": 21,
   "metadata": {},
   "outputs": [
    {
     "data": {
      "text/plain": [
       "(650, (650, 650))"
      ]
     },
     "execution_count": 21,
     "metadata": {},
     "output_type": "execute_result"
    }
   ],
   "source": [
    "len(imgGray),imgGray.shape"
   ]
  },
  {
   "cell_type": "code",
   "execution_count": 3,
   "metadata": {},
   "outputs": [
    {
     "data": {
      "text/plain": [
       "(650, (650, 650, 3))"
      ]
     },
     "execution_count": 3,
     "metadata": {},
     "output_type": "execute_result"
    }
   ],
   "source": [
    "img = cv2.imread('D:/python/datasource/picture.jpg')\n",
    "len(img),img.shape"
   ]
  },
  {
   "cell_type": "code",
   "execution_count": 4,
   "metadata": {},
   "outputs": [
    {
     "name": "stdout",
     "output_type": "stream",
     "text": [
      "27 "
     ]
    }
   ],
   "source": [
    "showImg(img)"
   ]
  },
  {
   "cell_type": "code",
   "execution_count": 39,
   "metadata": {},
   "outputs": [
    {
     "name": "stdout",
     "output_type": "stream",
     "text": [
      "113 "
     ]
    }
   ],
   "source": [
    "imgCorp = img[0:100,0:100]\n",
    "showImg(imgCorp,'Img Corp')"
   ]
  },
  {
   "cell_type": "code",
   "execution_count": 8,
   "metadata": {},
   "outputs": [
    {
     "data": {
      "text/plain": [
       "(numpy.ndarray, (650, 650))"
      ]
     },
     "execution_count": 8,
     "metadata": {},
     "output_type": "execute_result"
    }
   ],
   "source": [
    "B,G,R = cv2.split(img)\n",
    "type(B),B.shape"
   ]
  },
  {
   "cell_type": "code",
   "execution_count": 49,
   "metadata": {},
   "outputs": [
    {
     "name": "stdout",
     "output_type": "stream",
     "text": [
      "113 113 113 "
     ]
    }
   ],
   "source": [
    "showImg(B,'B')\n",
    "\n",
    "showImg(G,'G')\n",
    "\n",
    "showImg(R,'R')"
   ]
  },
  {
   "cell_type": "code",
   "execution_count": 50,
   "metadata": {},
   "outputs": [],
   "source": [
    "def randomLightColor(img):   \n",
    "    def transColor(ch):\n",
    "        bRand = random.randint(-50,50)\n",
    "        if bRand == 0: pass\n",
    "        elif bRand > 0:\n",
    "            lim = 255-bRand\n",
    "            ch[ch > lim] = 255\n",
    "            ch[ch <= lim] = (bRand+ch[ch<=lim]).astype(img.dtype)\n",
    "        elif bRand < 0:\n",
    "            lim = 0 - bRand\n",
    "            ch[ch < lim] = 0\n",
    "            ch[ch >= lim] = (bRand+ch[ch >= lim]).astype(img.dtype)\n",
    "        return ch\n",
    "    B,G,R = cv2.split(img)\n",
    "    B = transColor(B)\n",
    "    G = transColor(G)\n",
    "    R = transColor(R)\n",
    "    imgMerge = cv2.merge((B,G,R))\n",
    "    return imgMerge"
   ]
  },
  {
   "cell_type": "code",
   "execution_count": 56,
   "metadata": {},
   "outputs": [
    {
     "name": "stdout",
     "output_type": "stream",
     "text": [
      "113 113 113 113 113 113 113 113 113 113 113 113 113 113 113 113 113 113 113 113 113 113 113 113 113 113 113 113 113 113 113 113 113 113 113 113 113 113 113 113 113 113 113 113 113 113 113 113 113 113 27 27 27 27 27 27 27 27 27 27 27 27 27 27 27 27 27 27 27 27 27 27 27 27 27 27 27 27 27 27 27 27 27 27 27 27 27 27 27 27 27 27 27 27 27 27 27 27 27 27 "
     ]
    }
   ],
   "source": [
    "for i in range(100):\n",
    "    imgRandom = randomLightColor(img)\n",
    "    showImg(imgRandom,'Random Color')\n",
    "    #showImg(img)"
   ]
  },
  {
   "cell_type": "code",
   "execution_count": 57,
   "metadata": {},
   "outputs": [
    {
     "name": "stdout",
     "output_type": "stream",
     "text": [
      "-1 -1 -1 -1 -1 -1 -1 49 49 27 "
     ]
    }
   ],
   "source": [
    "showImg(img)"
   ]
  },
  {
   "cell_type": "code",
   "execution_count": 14,
   "metadata": {},
   "outputs": [],
   "source": [
    "def lut(img,table):\n",
    "    def transColor(color):\n",
    "        row,col = color.shape\n",
    "        for i in range(row):\n",
    "            for j in range(col):\n",
    "                color[i][j] = table[color[i][j]]\n",
    "        return color\n",
    "    B,G,R = cv2.split(img)\n",
    "    B = transColor(B)\n",
    "    G = transColor(G)\n",
    "    R = transColor(R)\n",
    "    imgMerge = cv2.merge((B,G,R))\n",
    "    return imgMerge"
   ]
  },
  {
   "cell_type": "code",
   "execution_count": 20,
   "metadata": {},
   "outputs": [],
   "source": [
    "def adjustGamma(img,gamma=1.0):\n",
    "    invGamma = 1.0/gamma\n",
    "    table = []\n",
    "    for i in range(256):\n",
    "        table.append(((i/255.0)**invGamma)*255)\n",
    "    table = np.array(table).astype('uint8')\n",
    "    return cv2.LUT(img,table)\n",
    "    return lut(img,table)"
   ]
  },
  {
   "cell_type": "code",
   "execution_count": 54,
   "metadata": {
    "scrolled": false
   },
   "outputs": [
    {
     "name": "stdout",
     "output_type": "stream",
     "text": [
      "<class 'zip'>\n",
      "(650, 650, 3)\n",
      "img brighter\n",
      "(650, 650, 3)\n",
      "img\n",
      "27 "
     ]
    }
   ],
   "source": [
    "imgBrighter = adjustGamma(img,5)\n",
    "showImg([imgBrighter,img],['img brighter','img'])"
   ]
  },
  {
   "cell_type": "raw",
   "metadata": {},
   "source": [
    "cv2.imshow('img brighter',imgBrighter)\n",
    "cv2.imshow('img raw',img)\n",
    "key = cv2.waitKey()\n",
    "if key == 27:\n",
    "    cv2.destroyAllWindows()\n"
   ]
  },
  {
   "cell_type": "code",
   "execution_count": 57,
   "metadata": {},
   "outputs": [
    {
     "data": {
      "image/png": "[encoded data removed]",
      "text/plain": [
       "<matplotlib.figure.Figure at 0xee875c0>"
      ]
     },
     "metadata": {},
     "output_type": "display_data"
    }
   ],
   "source": [
    "imgSmallBrighter = cv2.resize(imgBrighter,(int(imgBrighter.shape[0]*0.5),int(imgBrighter.shape[1]*0.5)))\n",
    "imgSmallBrighter = imgBrighter\n",
    "plt.hist(imgBrighter.flatten(),256,[0,256],color='r')\n",
    "imgYuv = cv2.cvtColor(imgSmallBrighter,cv2.COLOR_BGR2YUV)\n",
    "imgYuv[:,:,0] = cv2.equalizeHist(imgYuv[:,:,0])\n",
    "imgOutput = cv2.cvtColor(imgYuv,cv2.COLOR_YUV2BGR)\n"
   ]
  },
  {
   "cell_type": "code",
   "execution_count": 58,
   "metadata": {},
   "outputs": [
    {
     "name": "stdout",
     "output_type": "stream",
     "text": [
      "<class 'zip'>\n",
      "(650, 650, 3)\n",
      "Color input image\n",
      "(650, 650, 3)\n",
      "Histogray equalized\n",
      "27 "
     ]
    }
   ],
   "source": [
    "showImg([imgSmallBrighter,imgOutput],['Color input image','Histogray equalized'])"
   ]
  },
  {
   "cell_type": "code",
   "execution_count": 62,
   "metadata": {
    "scrolled": true
   },
   "outputs": [
    {
     "name": "stdout",
     "output_type": "stream",
     "text": [
      "<class 'zip'>\n",
      "(650, 650, 3)\n",
      "Rotate image\n",
      "(650, 650, 3)\n",
      "image\n",
      "27 "
     ]
    }
   ],
   "source": [
    "M = cv2.getRotationMatrix2D((img.shape[1]/2,img.shape[0]/2),20,1)\n",
    "imgRotate = cv2.warpAffine(img,M,(img.shape[1],img.shape[0]))\n",
    "showImg([imgRotate,img],['Rotate image','image'])"
   ]
  },
  {
   "cell_type": "code",
   "execution_count": 63,
   "metadata": {
    "scrolled": true
   },
   "outputs": [
    {
     "name": "stdout",
     "output_type": "stream",
     "text": [
      "[[  0.93969262   0.34202014 -91.55664834]\n",
      " [ -0.34202014   0.93969262 130.75644483]]\n"
     ]
    }
   ],
   "source": [
    "print(M)"
   ]
  },
  {
   "cell_type": "code",
   "execution_count": 64,
   "metadata": {
    "scrolled": true
   },
   "outputs": [
    {
     "name": "stdout",
     "output_type": "stream",
     "text": [
      "<class 'zip'>\n",
      "(650, 650, 3)\n",
      "Rotate image\n",
      "(650, 650, 3)\n",
      "image\n",
      "27 "
     ]
    }
   ],
   "source": [
    "M[0][2] = M[1][2] =0\n",
    "imgRotate = cv2.warpAffine(img,M,(img.shape[1],img.shape[0]))\n",
    "showImg([imgRotate,img],['Rotate image','image'])"
   ]
  },
  {
   "cell_type": "code",
   "execution_count": 66,
   "metadata": {
    "scrolled": true
   },
   "outputs": [
    {
     "name": "stdout",
     "output_type": "stream",
     "text": [
      "<class 'zip'>\n",
      "(650, 650, 3)\n",
      "affine\n",
      "(650, 650, 3)\n",
      "image\n",
      "27 "
     ]
    }
   ],
   "source": [
    "rows,cols,ch = img.shape\n",
    "pts1 = np.float32([[0,0],[cols-1,0],[0,rows-1]])\n",
    "pts2 = np.float32([[cols*0.2,rows*0.1],[cols*0.9,rows*0.2],[cols*0.1,rows*0.9]])\n",
    "M = cv2.getAffineTransform(pts1,pts2)\n",
    "dst = cv2.warpAffine(img,M,(cols,rows))\n",
    "showImg([dst,img],['affine','image'])"
   ]
  },
  {
   "cell_type": "code",
   "execution_count": 79,
   "metadata": {},
   "outputs": [],
   "source": [
    "def randomWarp(img,row,col):\n",
    "    height,width,channels = img.shape\n",
    "    randomMargin = 60\n",
    "    x1 = random.randint(-randomMargin,randomMargin)\n",
    "    y1 = random.randint(-randomMargin,randomMargin)\n",
    "    x2 = random.randint(width - randomMargin - 1,width-1)\n",
    "    y2 = random.randint(-randomMargin,randomMargin)\n",
    "    x3 = random.randint(width - randomMargin - 1,width - 1)\n",
    "    y3 = random.randint(height - randomMargin - 1,height - 1)\n",
    "    x4 = random.randint(-randomMargin,randomMargin)\n",
    "    y4 = random.randint(height - randomMargin -1, height-1)\n",
    "    \n",
    "    dx1 = random.randint(-randomMargin,randomMargin)\n",
    "    dy1 = random.randint(-randomMargin,randomMargin)\n",
    "    dx2 = random.randint(width - randomMargin -1,width - 1)\n",
    "    dy2 = random.randint(-randomMargin,randomMargin)\n",
    "    dx3 = random.randint(width - randomMargin -1, width - 1)\n",
    "    dy3 = random.randint(height - randomMargin - 1, height-1)\n",
    "    dx4 = random.randint(-randomMargin,randomMargin)\n",
    "    dy4 = random.randint(height - randomMargin -1, height-1)\n",
    "    \n",
    "    pts1 = np.float32([[x1,y1],[x2,y2],[x3,y3],[x4,y4]])\n",
    "    pts2 = np.float32([[dx1,dy1],[dx2,dy2],[dx3,dy3],[dx4,dy4]])\n",
    "    mWarp = cv2.getPerspectiveTransform(pts1,pts2)\n",
    "    imgWarp = cv2.warpPerspective(img,mWarp,(width,height))\n",
    "    return mWarp, imgWarp"
   ]
  },
  {
   "cell_type": "code",
   "execution_count": 80,
   "metadata": {
    "scrolled": true
   },
   "outputs": [
    {
     "name": "stdout",
     "output_type": "stream",
     "text": [
      "<class 'zip'>\n",
      "(650, 650, 3)\n",
      "warp\n",
      "(650, 650, 3)\n",
      "image\n",
      "27 "
     ]
    }
   ],
   "source": [
    "mWarp,imgWarp = randomWarp(img,img.shape[0],img.shape[1])\n",
    "showImg([imgWarp,img],['warp','image'])"
   ]
  },
  {
   "cell_type": "code",
   "execution_count": null,
   "metadata": {},
   "outputs": [],
   "source": []
  },
  {
   "cell_type": "code",
   "execution_count": null,
   "metadata": {},
   "outputs": [],
   "source": []
  },
  {
   "cell_type": "code",
   "execution_count": null,
   "metadata": {},
   "outputs": [],
   "source": []
  },
  {
   "cell_type": "code",
   "execution_count": null,
   "metadata": {},
   "outputs": [],
   "source": []
  },
  {
   "cell_type": "code",
   "execution_count": null,
   "metadata": {},
   "outputs": [],
   "source": []
  },
  {
   "cell_type": "code",
   "execution_count": null,
   "metadata": {},
   "outputs": [],
   "source": []
  },
  {
   "cell_type": "code",
   "execution_count": null,
   "metadata": {},
   "outputs": [],
   "source": []
  },
  {
   "cell_type": "code",
   "execution_count": null,
   "metadata": {},
   "outputs": [],
   "source": []
  }
 ],
 "metadata": {
  "kernelspec": {
   "display_name": "Python 3",
   "language": "python",
   "name": "python3"
  },
  "language_info": {
   "codemirror_mode": {
    "name": "ipython",
    "version": 3
   },
   "file_extension": ".py",
   "mimetype": "text/x-python",
   "name": "python",
   "nbconvert_exporter": "python",
   "pygments_lexer": "ipython3",
   "version": "3.6.4"
  }
 },
 "nbformat": 4,
 "nbformat_minor": 2
}
