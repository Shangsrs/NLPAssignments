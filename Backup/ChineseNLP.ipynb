{
 "cells": [
  {
   "cell_type": "code",
   "execution_count": 16,
   "metadata": {},
   "outputs": [],
   "source": [
    "def MyRange(end):\n",
    "    start = 0\n",
    "    while start < end:\n",
    "        x = yield start\n",
    "        #x = start\n",
    "        print(x)\n",
    "        start+=1"
   ]
  },
  {
   "cell_type": "code",
   "execution_count": 17,
   "metadata": {},
   "outputs": [
    {
     "name": "stdout",
     "output_type": "stream",
     "text": [
      "None\n"
     ]
    },
    {
     "data": {
      "text/plain": [
       "(generator, 0, 1)"
      ]
     },
     "execution_count": 17,
     "metadata": {},
     "output_type": "execute_result"
    }
   ],
   "source": [
    "m = MyRange(8)\n",
    "type(m),next(m),next(m)"
   ]
  },
  {
   "cell_type": "code",
   "execution_count": 2,
   "metadata": {},
   "outputs": [],
   "source": [
    "import re\n"
   ]
  },
  {
   "cell_type": "code",
   "execution_count": 3,
   "metadata": {},
   "outputs": [],
   "source": [
    "textString = \"文本最重要的来源无疑是网络，我们要把网络中的文本获取形成一个文本数据库。利用一个爬虫抓取到网络中的信息，爬取的策略有广度爬取和深度爬取。根据用户的需求，爬虫可以有主题爬虫和通用爬虫之分\"\n",
    "pString = re.split('，|。',textString)\n",
    "#print(pString)"
   ]
  },
  {
   "cell_type": "code",
   "execution_count": 4,
   "metadata": {},
   "outputs": [
    {
     "name": "stdout",
     "output_type": "stream",
     "text": [
      "爬取的策略有广度爬取和深度爬取\n",
      "爬虫可以有主题爬虫和通用爬虫之分\n"
     ]
    }
   ],
   "source": [
    "regex = '^爬'\n",
    "#regex = '网络$'\n",
    "#regex = '^文本'\n",
    "for line in pString:\n",
    "    if re.search(regex,line) is not None:\n",
    "        print(line)"
   ]
  },
  {
   "cell_type": "code",
   "execution_count": 5,
   "metadata": {},
   "outputs": [
    {
     "name": "stdout",
     "output_type": "stream",
     "text": [
      "Match it \n"
     ]
    }
   ],
   "source": [
    "if re.search(r\"\\\\\",\"I have one nee\\dle\"):\n",
    "    print(\"Match it \")\n",
    "else:\n",
    "    print(\"not match\")\n"
   ]
  },
  {
   "cell_type": "code",
   "execution_count": 6,
   "metadata": {},
   "outputs": [
    {
     "name": "stdout",
     "output_type": "stream",
     "text": [
      "War of 1812\n",
      "Happ New Year 2019\n"
     ]
    }
   ],
   "source": [
    "strings = ['War of 1812','There are 5280 feet to a mile','Happ New Year 2019']\n",
    "for s in strings:\n",
    "    if re.search('[1-2][0-9]{3}',s):\n",
    "        print(s)"
   ]
  },
  {
   "cell_type": "code",
   "execution_count": 7,
   "metadata": {},
   "outputs": [
    {
     "data": {
      "text/plain": [
       "['abc']"
      ]
     },
     "execution_count": 7,
     "metadata": {},
     "output_type": "execute_result"
    }
   ],
   "source": [
    "re.findall('[a-z]{3}','abc1234')"
   ]
  },
  {
   "cell_type": "code",
   "execution_count": 8,
   "metadata": {},
   "outputs": [
    {
     "data": {
      "text/plain": [
       "['2016', '2017']"
      ]
     },
     "execution_count": 8,
     "metadata": {},
     "output_type": "execute_result"
    }
   ],
   "source": [
    "text = \"2016 was a good year, but 2017 will be better!\"\n",
    "re.findall('[2][0-9]{3}',text)"
   ]
  },
  {
   "cell_type": "code",
   "execution_count": 9,
   "metadata": {},
   "outputs": [],
   "source": [
    "import numpy as np"
   ]
  },
  {
   "cell_type": "code",
   "execution_count": 10,
   "metadata": {},
   "outputs": [
    {
     "name": "stdout",
     "output_type": "stream",
     "text": [
      "[[0 1 2]\n",
      " [3 4 5]\n",
      " [6 7 8]]\n"
     ]
    },
    {
     "data": {
      "text/plain": [
       "array([1, 4, 7])"
      ]
     },
     "execution_count": 10,
     "metadata": {},
     "output_type": "execute_result"
    }
   ],
   "source": [
    "vector = np.arange(9).reshape(3,3)\n",
    "print(vector)\n",
    "vector[:,1]"
   ]
  },
  {
   "cell_type": "code",
   "execution_count": 11,
   "metadata": {},
   "outputs": [],
   "source": [
    "ve = vector == 1"
   ]
  },
  {
   "cell_type": "raw",
   "metadata": {},
   "source": [
    "print(ve)\n",
    "print(vector[ve])"
   ]
  },
  {
   "cell_type": "code",
   "execution_count": 12,
   "metadata": {},
   "outputs": [
    {
     "data": {
      "text/plain": [
       "array([ 3, 12, 21])"
      ]
     },
     "execution_count": 12,
     "metadata": {},
     "output_type": "execute_result"
    }
   ],
   "source": [
    "vector.sum(axis=1)"
   ]
  },
  {
   "cell_type": "code",
   "execution_count": 13,
   "metadata": {},
   "outputs": [],
   "source": [
    "fileName = \"D:\\python\\datasource\\data.csv\""
   ]
  },
  {
   "cell_type": "raw",
   "metadata": {},
   "source": [
    "nfl = np.genfromtxt(fileName,encoding='utf8')"
   ]
  },
  {
   "cell_type": "raw",
   "metadata": {},
   "source": [
    "type(nfl)"
   ]
  },
  {
   "cell_type": "code",
   "execution_count": 14,
   "metadata": {},
   "outputs": [],
   "source": [
    "class MaxMatch:\n",
    "    def __init__(self,dicPath):\n",
    "        self.dic = set()\n",
    "        self.maxSize = 0\n",
    "        with open(dicPath,'r',encoding='utf8') as f:\n",
    "            for line in f:\n",
    "                line = line.strip()\n",
    "                if line:\n",
    "                    #print(line)\n",
    "                    self.dic.add(line)\n",
    "                    #self.maxSize = len(line)\n",
    "                    if self.maxSize < len(line):\n",
    "                        self.maxSize = len(line)\n",
    "    def backwardCut(self,text):\n",
    "        result = []\n",
    "        index = len(text)\n",
    "        while index > 0:\n",
    "            word = None\n",
    "            for size in range(self.maxSize,0,-1):\n",
    "                if index - size < 0:\n",
    "                    size = index\n",
    "                piece = text[(index-size):index]\n",
    "                #print(piece)\n",
    "                if piece in self.dic:\n",
    "                    word = piece\n",
    "                    result.append(word)\n",
    "                    index -= size\n",
    "                    break\n",
    "            if word is None:\n",
    "                result.append(text[index-1])\n",
    "                index -= 1\n",
    "        return result[::-1] \n",
    "    def forwardCut(self,text):\n",
    "        result = []\n",
    "        index = 0\n",
    "        textLen = len(text)\n",
    "        while(index<textLen):\n",
    "            for size in range(self.maxSize,0,-1):\n",
    "                word = None\n",
    "                if index+size > textLen:\n",
    "                    size = textLen-index\n",
    "                piece = text[index:index+size]\n",
    "                #print(piece)\n",
    "                if piece in self.dic:\n",
    "                    word = piece\n",
    "                    result.append(word)\n",
    "                    index += size\n",
    "                    break\n",
    "            if word is None:\n",
    "                result.append(text[index])\n",
    "                index += 1\n",
    "        return result\n",
    "    def binCut(self,text):\n",
    "        backResult = self.backwardCut(text)\n",
    "        forResult = self.forwardCut(text)\n",
    "        if len(backResult) > len(forResult):\n",
    "            return forResult\n",
    "        else:\n",
    "            return backResult"
   ]
  },
  {
   "cell_type": "code",
   "execution_count": 15,
   "metadata": {},
   "outputs": [],
   "source": [
    "dicFile = 'D:\\python\\datasource\\imm_dic.utf8'\n",
    "dicFile = 'D:\\python\\datasource\\imm_dic.utf8'\n",
    "text = \"南京市长江大桥人民解放军英雄纪念碑\"\n",
    "tokenizer = MaxMatch(dicFile)\n"
   ]
  },
  {
   "cell_type": "code",
   "execution_count": 16,
   "metadata": {},
   "outputs": [
    {
     "name": "stdout",
     "output_type": "stream",
     "text": [
      "['南京市长', '江', '大桥', '人民解放军', '英雄纪念碑']\n"
     ]
    }
   ],
   "source": [
    "print(tokenizer.forwardCut(text))"
   ]
  },
  {
   "cell_type": "code",
   "execution_count": 17,
   "metadata": {},
   "outputs": [
    {
     "name": "stdout",
     "output_type": "stream",
     "text": [
      "['南京市', '长江大桥', '人民解放军', '英雄纪念碑']\n"
     ]
    }
   ],
   "source": [
    "print(tokenizer.backwardCut(text))"
   ]
  },
  {
   "cell_type": "code",
   "execution_count": 18,
   "metadata": {},
   "outputs": [
    {
     "name": "stdout",
     "output_type": "stream",
     "text": [
      "['南京市', '长江大桥', '人民解放军', '英雄纪念碑']\n"
     ]
    }
   ],
   "source": [
    "print(tokenizer.binCut(text))"
   ]
  },
  {
   "cell_type": "code",
   "execution_count": 19,
   "metadata": {},
   "outputs": [
    {
     "name": "stdout",
     "output_type": "stream",
     "text": [
      "{'南京市长', '国家', '人民', '南京市', '国家大剧院', '人民解放军', '长江大桥', '大桥', '英雄纪念碑'}\n",
      "5\n"
     ]
    }
   ],
   "source": [
    "print(tokenizer.dic)\n",
    "print(tokenizer.maxSize)"
   ]
  },
  {
   "cell_type": "code",
   "execution_count": 20,
   "metadata": {},
   "outputs": [],
   "source": [
    "dicPath = 'D:\\python\\datasource\\imm_dic.utf8'\n",
    "dic = ['长江大桥', '人民解放军', '大桥', '南京市', '南京市长','国家','国家大剧院']\n",
    "dic.append('英雄纪念碑')\n",
    "dic.append('人民')\n",
    "with open(dicPath,'w',encoding='utf8') as f:\n",
    "    for line in dic:\n",
    "        line = line.strip()\n",
    "        if line:\n",
    "            f.write(line+'\\n')"
   ]
  },
  {
   "cell_type": "code",
   "execution_count": null,
   "metadata": {},
   "outputs": [],
   "source": []
  }
 ],
 "metadata": {
  "kernelspec": {
   "display_name": "Python 3",
   "language": "python",
   "name": "python3"
  },
  "language_info": {
   "codemirror_mode": {
    "name": "ipython",
    "version": 3
   },
   "file_extension": ".py",
   "mimetype": "text/x-python",
   "name": "python",
   "nbconvert_exporter": "python",
   "pygments_lexer": "ipython3",
   "version": "3.6.4"
  }
 },
 "nbformat": 4,
 "nbformat_minor": 2
}
