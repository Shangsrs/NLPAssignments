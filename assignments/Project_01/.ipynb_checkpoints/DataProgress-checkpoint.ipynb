{
 "cells": [
  {
   "cell_type": "code",
   "execution_count": 1,
   "metadata": {},
   "outputs": [],
   "source": [
    "import pandas as pd\n",
    "import numpy as np\n",
    "import matplotlib.pyplot as plt\n",
    "import random\n",
    "import re\n",
    "import langconv"
   ]
  },
  {
   "cell_type": "code",
   "execution_count": 2,
   "metadata": {},
   "outputs": [],
   "source": [
    "fname = '/python/datasource/sqlResult_1558435.csv'"
   ]
  },
  {
   "cell_type": "code",
   "execution_count": 3,
   "metadata": {
    "scrolled": true
   },
   "outputs": [
    {
     "data": {
      "text/plain": [
       "89611"
      ]
     },
     "execution_count": 3,
     "metadata": {},
     "output_type": "execute_result"
    }
   ],
   "source": [
    "news = pd.read_csv(fname, encoding = 'gb18030')\n",
    "len(news)"
   ]
  },
  {
   "cell_type": "code",
   "execution_count": 5,
   "metadata": {
    "scrolled": true
   },
   "outputs": [
    {
     "data": {
      "text/html": [
       "<div>\n",
       "<style scoped>\n",
       "    .dataframe tbody tr th:only-of-type {\n",
       "        vertical-align: middle;\n",
       "    }\n",
       "\n",
       "    .dataframe tbody tr th {\n",
       "        vertical-align: top;\n",
       "    }\n",
       "\n",
       "    .dataframe thead th {\n",
       "        text-align: right;\n",
       "    }\n",
       "</style>\n",
       "<table border=\"1\" class=\"dataframe\">\n",
       "  <thead>\n",
       "    <tr style=\"text-align: right;\">\n",
       "      <th></th>\n",
       "      <th>id</th>\n",
       "      <th>author</th>\n",
       "      <th>source</th>\n",
       "      <th>content</th>\n",
       "      <th>feature</th>\n",
       "      <th>title</th>\n",
       "      <th>url</th>\n",
       "    </tr>\n",
       "  </thead>\n",
       "  <tbody>\n",
       "    <tr>\n",
       "      <th>0</th>\n",
       "      <td>89617</td>\n",
       "      <td>NaN</td>\n",
       "      <td>快科技@http://www.kkj.cn/</td>\n",
       "      <td>此外，自本周（6月12日）起，除小米手机6等15款机型外，其余机型已暂停更新发布（含开发版/...</td>\n",
       "      <td>{\"type\":\"科技\",\"site\":\"cnbeta\",\"commentNum\":\"37\"...</td>\n",
       "      <td>小米MIUI 9首批机型曝光：共计15款</td>\n",
       "      <td>http://www.cnbeta.com/articles/tech/623597.htm</td>\n",
       "    </tr>\n",
       "    <tr>\n",
       "      <th>1</th>\n",
       "      <td>89616</td>\n",
       "      <td>NaN</td>\n",
       "      <td>快科技@http://www.kkj.cn/</td>\n",
       "      <td>骁龙835作为唯一通过Windows 10桌面平台认证的ARM处理器，高通强调，不会因为只考...</td>\n",
       "      <td>{\"type\":\"科技\",\"site\":\"cnbeta\",\"commentNum\":\"15\"...</td>\n",
       "      <td>骁龙835在Windows 10上的性能表现有望改善</td>\n",
       "      <td>http://www.cnbeta.com/articles/tech/623599.htm</td>\n",
       "    </tr>\n",
       "    <tr>\n",
       "      <th>2</th>\n",
       "      <td>89615</td>\n",
       "      <td>NaN</td>\n",
       "      <td>快科技@http://www.kkj.cn/</td>\n",
       "      <td>此前的一加3T搭载的是3400mAh电池，DashCharge快充规格为5V/4A。\\r\\n...</td>\n",
       "      <td>{\"type\":\"科技\",\"site\":\"cnbeta\",\"commentNum\":\"18\"...</td>\n",
       "      <td>一加手机5细节曝光：3300mAh、充半小时用1天</td>\n",
       "      <td>http://www.cnbeta.com/articles/tech/623601.htm</td>\n",
       "    </tr>\n",
       "    <tr>\n",
       "      <th>3</th>\n",
       "      <td>89614</td>\n",
       "      <td>NaN</td>\n",
       "      <td>新华社</td>\n",
       "      <td>这是6月18日在葡萄牙中部大佩德罗冈地区拍摄的被森林大火烧毁的汽车。新华社记者张立云摄\\r\\n</td>\n",
       "      <td>{\"type\":\"国际新闻\",\"site\":\"环球\",\"commentNum\":\"0\",\"j...</td>\n",
       "      <td>葡森林火灾造成至少62人死亡 政府宣布进入紧急状态（组图）</td>\n",
       "      <td>http://world.huanqiu.com/hot/2017-06/10866126....</td>\n",
       "    </tr>\n",
       "    <tr>\n",
       "      <th>4</th>\n",
       "      <td>89613</td>\n",
       "      <td>胡淑丽_MN7479</td>\n",
       "      <td>深圳大件事</td>\n",
       "      <td>（原标题：44岁女子跑深圳约会网友被拒，暴雨中裸身奔走……）\\r\\n@深圳交警微博称：昨日清...</td>\n",
       "      <td>{\"type\":\"新闻\",\"site\":\"网易热门\",\"commentNum\":\"978\",...</td>\n",
       "      <td>44岁女子约网友被拒暴雨中裸奔 交警为其披衣相随</td>\n",
       "      <td>http://news.163.com/17/0618/00/CN617P3Q0001875...</td>\n",
       "    </tr>\n",
       "  </tbody>\n",
       "</table>\n",
       "</div>"
      ],
      "text/plain": [
       "      id      author                  source  \\\n",
       "0  89617         NaN  快科技@http://www.kkj.cn/   \n",
       "1  89616         NaN  快科技@http://www.kkj.cn/   \n",
       "2  89615         NaN  快科技@http://www.kkj.cn/   \n",
       "3  89614         NaN                     新华社   \n",
       "4  89613  胡淑丽_MN7479                   深圳大件事   \n",
       "\n",
       "                                             content  \\\n",
       "0  此外，自本周（6月12日）起，除小米手机6等15款机型外，其余机型已暂停更新发布（含开发版/...   \n",
       "1  骁龙835作为唯一通过Windows 10桌面平台认证的ARM处理器，高通强调，不会因为只考...   \n",
       "2  此前的一加3T搭载的是3400mAh电池，DashCharge快充规格为5V/4A。\\r\\n...   \n",
       "3    这是6月18日在葡萄牙中部大佩德罗冈地区拍摄的被森林大火烧毁的汽车。新华社记者张立云摄\\r\\n   \n",
       "4  （原标题：44岁女子跑深圳约会网友被拒，暴雨中裸身奔走……）\\r\\n@深圳交警微博称：昨日清...   \n",
       "\n",
       "                                             feature  \\\n",
       "0  {\"type\":\"科技\",\"site\":\"cnbeta\",\"commentNum\":\"37\"...   \n",
       "1  {\"type\":\"科技\",\"site\":\"cnbeta\",\"commentNum\":\"15\"...   \n",
       "2  {\"type\":\"科技\",\"site\":\"cnbeta\",\"commentNum\":\"18\"...   \n",
       "3  {\"type\":\"国际新闻\",\"site\":\"环球\",\"commentNum\":\"0\",\"j...   \n",
       "4  {\"type\":\"新闻\",\"site\":\"网易热门\",\"commentNum\":\"978\",...   \n",
       "\n",
       "                           title  \\\n",
       "0           小米MIUI 9首批机型曝光：共计15款   \n",
       "1     骁龙835在Windows 10上的性能表现有望改善   \n",
       "2      一加手机5细节曝光：3300mAh、充半小时用1天   \n",
       "3  葡森林火灾造成至少62人死亡 政府宣布进入紧急状态（组图）   \n",
       "4       44岁女子约网友被拒暴雨中裸奔 交警为其披衣相随   \n",
       "\n",
       "                                                 url  \n",
       "0     http://www.cnbeta.com/articles/tech/623597.htm  \n",
       "1     http://www.cnbeta.com/articles/tech/623599.htm  \n",
       "2     http://www.cnbeta.com/articles/tech/623601.htm  \n",
       "3  http://world.huanqiu.com/hot/2017-06/10866126....  \n",
       "4  http://news.163.com/17/0618/00/CN617P3Q0001875...  "
      ]
     },
     "execution_count": 5,
     "metadata": {},
     "output_type": "execute_result"
    }
   ],
   "source": [
    "news.head()"
   ]
  },
  {
   "cell_type": "code",
   "execution_count": 6,
   "metadata": {},
   "outputs": [],
   "source": [
    "news['cut_content'] = ''"
   ]
  },
  {
   "cell_type": "markdown",
   "metadata": {},
   "source": [
    "#### 切词"
   ]
  },
  {
   "cell_type": "code",
   "execution_count": 8,
   "metadata": {},
   "outputs": [],
   "source": [
    "cws_model_path = os.path.join(LTP_DATA_DIR, 'cws.model')  # 分词模型路径，模型名称为`cws.model`\n",
    "from pyltp import Segmentor"
   ]
  },
  {
   "cell_type": "raw",
   "metadata": {},
   "source": [
    "words = segmentor.segment('元芳你怎么看')  # 分词\n",
    "print(' '.join(words))\n",
    "segmentor.release()  # 释放模型"
   ]
  },
  {
   "cell_type": "code",
   "execution_count": 9,
   "metadata": {
    "scrolled": true
   },
   "outputs": [
    {
     "name": "stdout",
     "output_type": "stream",
     "text": [
      "Saved 0 lines\n",
      "Saved 2000 lines\n",
      "Saved 4000 lines\n",
      "Saved 6000 lines\n",
      "Saved 8000 lines\n",
      "Saved 10000 lines\n",
      "Saved 12000 lines\n",
      "Saved 14000 lines\n",
      "Saved 16000 lines\n",
      "Saved 18000 lines\n",
      "Saved 20000 lines\n",
      "Saved 22000 lines\n",
      "Saved 24000 lines\n",
      "Saved 26000 lines\n",
      "Saved 28000 lines\n",
      "Saved 30000 lines\n",
      "Saved 32000 lines\n",
      "Saved 34000 lines\n",
      "Saved 36000 lines\n",
      "Saved 38000 lines\n",
      "Saved 40000 lines\n",
      "Saved 42000 lines\n",
      "Saved 44000 lines\n",
      "Saved 46000 lines\n",
      "Saved 48000 lines\n",
      "Saved 50000 lines\n",
      "Saved 52000 lines\n",
      "Saved 54000 lines\n",
      "Saved 56000 lines\n",
      "Saved 58000 lines\n",
      "Saved 60000 lines\n",
      "Saved 62000 lines\n",
      "Saved 64000 lines\n",
      "Saved 66000 lines\n",
      "Saved 68000 lines\n",
      "Saved 70000 lines\n",
      "Saved 72000 lines\n",
      "Saved 74000 lines\n",
      "Saved 76000 lines\n",
      "Saved 78000 lines\n",
      "Saved 80000 lines\n",
      "Saved 82000 lines\n",
      "Saved 84000 lines\n",
      "Saved 86000 lines\n",
      "Saved 88000 lines\n"
     ]
    }
   ],
   "source": [
    "segmentor = Segmentor()  # 初始化实例\n",
    "segmentor.load(cws_model_path)  # 加载模型\n",
    "content_id = []\n",
    "content_source = []\n",
    "content_source_ = []\n",
    "content_text = []\n",
    "for i, content in enumerate(news['content']):    \n",
    "    id, source, news_content = news['id'][i], news['source'][i], news['content'][i]\n",
    "    text = str(news_content)\n",
    "    text = text.strip()\n",
    "    if not text: continue\n",
    "    text = langconv.Converter('zh-hans').convert(text)\n",
    "    text = ''.join(re.findall(r'[^\\\\n]', text))\n",
    "    text = ''.join(re.findall(r'[\\d|\\w]+',text))\n",
    "    text = ' '.join(segmentor.segment(text))\n",
    "    content_id.append(id)    \n",
    "    content_text.append(text)\n",
    "    content_source.append(source)\n",
    "    if i % 2000 ==0:\n",
    "        print('Saved ' + str(i) + ' lines')    \n",
    "segmentor.release()  # 释放模型"
   ]
  },
  {
   "cell_type": "code",
   "execution_count": 10,
   "metadata": {},
   "outputs": [
    {
     "data": {
      "text/plain": [
       "'此外 自 本周 6月 12日 起 除 小米 手机 6 等 15 款 机型 外 其 馀 机型 已 暂停 更新 发布 含 开发 版 体验 版 内测 稳定 版 暂 不 受 影响 以 确保 工程师 可以 集中 全部 精力 进行 系统 优化 工作 有人 猜测 这 也 是 将 精力 主要 用 到 MIUI9 的 研发 之中 MIUI8 去年 5月 发布 距 今 已 有 一 年 有 馀 也 是 时候 更新换代 了 当然 关于 MIUI9 的 确切 信息 我们 还是 等待 官方 消息'"
      ]
     },
     "execution_count": 10,
     "metadata": {},
     "output_type": "execute_result"
    }
   ],
   "source": [
    "content_text[0]"
   ]
  },
  {
   "cell_type": "markdown",
   "metadata": {},
   "source": [
    "#### 保存切词后的文件"
   ]
  },
  {
   "cell_type": "code",
   "execution_count": 21,
   "metadata": {},
   "outputs": [],
   "source": [
    "cutFile = '/python/datasource/project/cutResult.csv'"
   ]
  },
  {
   "cell_type": "markdown",
   "metadata": {},
   "source": [
    "#### 保存切词后的文件"
   ]
  },
  {
   "cell_type": "code",
   "execution_count": 16,
   "metadata": {},
   "outputs": [],
   "source": [
    "data = pd.DataFrame({'id':content_id, 'source':content_source, 'content':content_text})\n",
    "data.to_csv(cutFile,encoding = 'utf-8')"
   ]
  },
  {
   "cell_type": "markdown",
   "metadata": {},
   "source": [
    "#### 加载切词后的文件"
   ]
  },
  {
   "cell_type": "code",
   "execution_count": 17,
   "metadata": {
    "scrolled": true
   },
   "outputs": [
    {
     "name": "stdout",
     "output_type": "stream",
     "text": [
      "id\n",
      "source\n",
      "content\n"
     ]
    }
   ],
   "source": [
    "cut_content = pd.read_csv(cutFile, encoding = 'utf8')\n",
    "cut_content = cut_content.loc[:, ~cut_content.columns.str.contains('^Unnamed')]\n",
    "\n",
    "for c in cut_content:\n",
    "    print(c)"
   ]
  },
  {
   "cell_type": "code",
   "execution_count": 18,
   "metadata": {},
   "outputs": [],
   "source": [
    "cut_content = cut_content.fillna(' ')"
   ]
  },
  {
   "cell_type": "code",
   "execution_count": 19,
   "metadata": {},
   "outputs": [
    {
     "data": {
      "text/plain": [
       "89611"
      ]
     },
     "execution_count": 19,
     "metadata": {},
     "output_type": "execute_result"
    }
   ],
   "source": [
    "len(cut_content)"
   ]
  },
  {
   "cell_type": "code",
   "execution_count": 20,
   "metadata": {},
   "outputs": [
    {
     "data": {
      "text/html": [
       "<div>\n",
       "<style scoped>\n",
       "    .dataframe tbody tr th:only-of-type {\n",
       "        vertical-align: middle;\n",
       "    }\n",
       "\n",
       "    .dataframe tbody tr th {\n",
       "        vertical-align: top;\n",
       "    }\n",
       "\n",
       "    .dataframe thead th {\n",
       "        text-align: right;\n",
       "    }\n",
       "</style>\n",
       "<table border=\"1\" class=\"dataframe\">\n",
       "  <thead>\n",
       "    <tr style=\"text-align: right;\">\n",
       "      <th></th>\n",
       "      <th>id</th>\n",
       "      <th>source</th>\n",
       "      <th>content</th>\n",
       "    </tr>\n",
       "  </thead>\n",
       "  <tbody>\n",
       "    <tr>\n",
       "      <th>0</th>\n",
       "      <td>89617</td>\n",
       "      <td>快科技@http://www.kkj.cn/</td>\n",
       "      <td>此外 自 本周 6月 12日 起 除 小米 手机 6 等 15 款 机型 外 其 馀 机型 ...</td>\n",
       "    </tr>\n",
       "    <tr>\n",
       "      <th>1</th>\n",
       "      <td>89616</td>\n",
       "      <td>快科技@http://www.kkj.cn/</td>\n",
       "      <td>骁龙 835 作为 唯一 通过 Widows10 桌面 平台 认证 的 ARM 处理器 高通...</td>\n",
       "    </tr>\n",
       "    <tr>\n",
       "      <th>2</th>\n",
       "      <td>89615</td>\n",
       "      <td>快科技@http://www.kkj.cn/</td>\n",
       "      <td>此前 的 一 加 3T 搭载 的 是 3400mAh 电池 DashCharge 快 充 规...</td>\n",
       "    </tr>\n",
       "    <tr>\n",
       "      <th>3</th>\n",
       "      <td>89614</td>\n",
       "      <td>新华社</td>\n",
       "      <td>这 是 6月 18日 在 葡萄牙 中部 大佩德罗冈 地区 拍摄 的 被 森林 大火 烧毁 的...</td>\n",
       "    </tr>\n",
       "    <tr>\n",
       "      <th>4</th>\n",
       "      <td>89613</td>\n",
       "      <td>深圳大件事</td>\n",
       "      <td>原 标题 44 岁 女子 跑 深圳 约会 网友 被 拒暴雨 中 裸身 奔走 深圳 交警 微博...</td>\n",
       "    </tr>\n",
       "  </tbody>\n",
       "</table>\n",
       "</div>"
      ],
      "text/plain": [
       "      id                  source  \\\n",
       "0  89617  快科技@http://www.kkj.cn/   \n",
       "1  89616  快科技@http://www.kkj.cn/   \n",
       "2  89615  快科技@http://www.kkj.cn/   \n",
       "3  89614                     新华社   \n",
       "4  89613                   深圳大件事   \n",
       "\n",
       "                                             content  \n",
       "0  此外 自 本周 6月 12日 起 除 小米 手机 6 等 15 款 机型 外 其 馀 机型 ...  \n",
       "1  骁龙 835 作为 唯一 通过 Widows10 桌面 平台 认证 的 ARM 处理器 高通...  \n",
       "2  此前 的 一 加 3T 搭载 的 是 3400mAh 电池 DashCharge 快 充 规...  \n",
       "3  这 是 6月 18日 在 葡萄牙 中部 大佩德罗冈 地区 拍摄 的 被 森林 大火 烧毁 的...  \n",
       "4  原 标题 44 岁 女子 跑 深圳 约会 网友 被 拒暴雨 中 裸身 奔走 深圳 交警 微博...  "
      ]
     },
     "execution_count": 20,
     "metadata": {},
     "output_type": "execute_result"
    }
   ],
   "source": [
    "cut_content.head()"
   ]
  },
  {
   "cell_type": "raw",
   "metadata": {},
   "source": []
  },
  {
   "cell_type": "code",
   "execution_count": null,
   "metadata": {},
   "outputs": [],
   "source": []
  },
  {
   "cell_type": "code",
   "execution_count": 6,
   "metadata": {},
   "outputs": [],
   "source": [
    "import re\n",
    "import os\n",
    "LTP_DATA_DIR = '/python/datasource/ltp_data_v3.4.0'  # ltp模型目录的路径\n",
    "\n",
    "from pyltp import SentenceSplitter\n",
    "\n",
    "cws_model_path = os.path.join(LTP_DATA_DIR, 'cws.model')  # 分词模型路径，模型名称为`cws.model`\n",
    "from pyltp import Segmentor\n",
    "segmentor = Segmentor()  # 初始化实例\n",
    "segmentor.load(cws_model_path)  # 加载模型\n",
    "\n",
    "pos_model_path = os.path.join(LTP_DATA_DIR, 'pos.model')  # 词性标注模型路径，模型名称为`pos.model`\n",
    "from pyltp import Postagger\n",
    "postagger = Postagger() # 初始化实例\n",
    "postagger.load(pos_model_path)  # 加载模型\n",
    "\n",
    "ner_model_path = os.path.join(LTP_DATA_DIR, 'ner.model')  # 命名实体识别模型路径，模型名称为`pos.model`\n",
    "from pyltp import NamedEntityRecognizer\n",
    "recognizer = NamedEntityRecognizer() # 初始化实例\n",
    "recognizer.load(ner_model_path)  # 加载模型\n",
    "\n",
    "par_model_path = os.path.join(LTP_DATA_DIR, 'parser.model')  # 依存句法分析模型路径，模型名称为`parser.model`\n",
    "from pyltp import Parser\n",
    "parser = Parser() # 初始化实例\n",
    "parser.load(par_model_path)  # 加载模型\n",
    "postags = ['nh', 'r', 'r', 'v']     \n",
    "key_word = set(['说','表示', '告诉', '认为', '指出', '坦言', '看来', '称', '介绍',  '透露', '强调',  '写道', '话', '建议',  '问', '提到', '声称', '称赞', '深有体会', '道', '设想', '直言', '解释', '称', '相信', '呼吁', '担心', '写信给', '深知', '在我看来', '证实', '眼中', '资深', '宣称', '清楚', '还称', '回答',  '估计', '来说','承认', '觉得', '特别强调',  '毫不讳言',  '坚信', '提及', '非常重视', '谈到', '申明', '感慨', '普遍认为','表明', '看法', '援引', '供词',  '知晓',  '批评','想法',  '描述', '重申','告诫', '指责',  '坦承','李锦说', '如是说', '敦促', '表态', '断定', '理解', '坚称',  '提醒'])"
   ]
  },
  {
   "cell_type": "code",
   "execution_count": 35,
   "metadata": {},
   "outputs": [],
   "source": [
    "def cut(text):\n",
    "    cut_text = []\n",
    "    for t in text:\n",
    "        t = t.strip()\n",
    "        if not t: continue                \n",
    "        words = segmentor.segment(t)\n",
    "        cut_text.append(' '.join(words))\n",
    "    return cut_text\n",
    "def sentence_spliter(text):\n",
    "    sents = []\n",
    "    for s in SentenceSplitter.split(text):\n",
    "        s = s.strip()\n",
    "        if not s: continue\n",
    "        sents.append(s)\n",
    "    return sents\n",
    "\n",
    "class NewsExtract():\n",
    "    def __init__(self):        \n",
    "        self.text = []\n",
    "        self.sentences = []\n",
    "        self.cut_text = []\n",
    "        self.peoples = []\n",
    "        self.viewpoints = {}\n",
    "    def preprocessing(self, text):\n",
    "        text = text.strip()\n",
    "        if not text: \n",
    "            self.text = []\n",
    "            self.sentences = []\n",
    "            self.cut_text = []\n",
    "            return \n",
    "        self.text = text  \n",
    "        self.sentences = sentence_spliter(self.text)\n",
    "        self.cut_text = cut(self.sentences)\n",
    "        self.get_ner()\n",
    "    def get_ner(self):\n",
    "        self.peoples = []\n",
    "        for i, s in enumerate(self.cut_text):\n",
    "            s = s.split()\n",
    "            sen_set = set(s)\n",
    "            inter_set = sen_set & key_word\n",
    "            if not inter_set: continue\n",
    "            print(inter_set)\n",
    "            postags = postagger.postag(s)\n",
    "            netags = ' '.join(recognizer.recognize(s, postags))\n",
    "            for tag, word in zip(netags.split(), s):\n",
    "                if tag == 'S-Nh':\n",
    "                    self.peoples.append(word)\n",
    "                    if not self.viewpoints[p]: self.viewpoints[p] = []\n",
    "                    self.viewpoints[p].append(self.sentences[i])        \n",
    "    \n",
    "    def get_viewpoints(self):\n",
    "        for p in self.peoples:\n",
    "            self.viewpoints[p] = []\n",
    "            for i, s in enumerate(self.cut_text):\n",
    "                if p in s:\n",
    "                    self.viewpoints[p].append(self.sentences[i])\n",
    "        return self.viewpoints"
   ]
  },
  {
   "cell_type": "code",
   "execution_count": 36,
   "metadata": {},
   "outputs": [],
   "source": [
    "sentence='''据巴西《环球报》7日报道，巴西总统博索纳罗当天签署行政法令，放宽枪支进口限制，并增加民众可购买弹药的数量。\\r\\n《环球报》称，该法令最初的目的是放松对收藏家与猎人的限制，但现在扩大到其他条款。新法令将普通公民购买枪支的弹药数量上限提高至每年5000发，此前这一上限是每年50发。博索纳罗在法令签署仪式上称，“我们打破了垄断”“你们以前不能进口，但现在这些都结束了”。另据法新社报道，当天在首都巴西利亚的一次集会上，博索纳罗还表示，“我一直说，公共安全从家里开始的。”\\r\\n这不是巴西第一次放宽枪支限制。今年1月，博索纳罗上台后第15天就签署了放宽公民持枪的法令。根据该法令，希望拥有枪支的公民须向联邦警察提交申请，通过审核者可以在其住宅内装备最多4把枪支，枪支登记有效期由5年延长到10年。《环球报》称，博索纳罗在1月的电视讲话中称，要让“好人”更容易持有枪支。“人民希望购买武器和弹药，现在我们不能对人民想要的东西说不”。\\r\\n2004年，巴西政府曾颁布禁枪法令，但由于多数民众反对，禁令被次年的全民公投否决。博索纳罗在参加总统竞选时就表示，要进一步放开枪支持有和携带条件。他认为，放宽枪支管制，目的是为了“威慑猖狂的犯罪行为”。资料显示，2017年，巴西发生约6.4万起谋杀案，几乎每10万居民中就有31人被杀。是全球除战争地区外最危险的国家之一。\\r\\n不过，“以枪制暴”的政策引发不少争议。巴西《圣保罗页报》称，根据巴西民调机构Datafolha此前发布的一项调查，61%的受访者认为应该禁止持有枪支。巴西应用经济研究所研究员塞奎拉称，枪支供应增加1%，将使谋杀率提高2%。1月底，巴西民众集体向圣保罗联邦法院提出诉讼，质疑博索纳罗签署的放宽枪支管制法令。\\r\\n巴西新闻网站“Exame”称，博索纳罗7日签署的法案同样受到不少批评。公共安全专家萨博称，新的法令扩大了少数人的特权，不利于保护整个社会。（向南）\\r\\n'''\n",
    "sentence = ''.join(re.findall(r'[^\\\\n]', sentence))    "
   ]
  },
  {
   "cell_type": "code",
   "execution_count": 101,
   "metadata": {},
   "outputs": [
    {
     "name": "stdout",
     "output_type": "stream",
     "text": [
      "sentence: 　　新华社纽约５月３日电记者手记：美国房子为何炒不起来　　新华社记者杨士龙　　网上有不少来美国炒房大赚的帖子，相信让不少有钱人为之心动。而实地调研一下在纽约买房养房卖房的种种税费等成本，发现这种吸睛的帖子如果不是有意误导，提及的大多也是难以复制的个案。美国房子之所以炒不起来，是因为相关税费在制度设计上，给一般投资者的炒房冲动戴上了“软抑制的脚镣”。　　纽约瑞禧地产创始人杰西·汤在接受新华社记者采访时表示，炒房这个概念在美国不适用。美国房地产市场历史悠久，法律齐全。次贷危机过去１０年了，美国房地产市场已基本回归理性，即便是在纽约这样的繁华大都市，房价每年的平均涨幅也是有限的。算算地产税、物业费、保险费、修缮维护费和资本所得税等成本，靠炒房子短期内赚大钱几乎是不可能的事。　　抑制炒房最直接的手段是资本所得税。如果在购房后一年以内卖掉，所得利润需交短期资本所得税，这个税率与卖房者个人所得税率相当，收入越高，税率越高，短期资本所得税也越高。２０１７年税率为１０％到３９．６％，共７个档次。如果在购房后一年以上两年以内卖掉，所得利润则按长期资本所得税缴纳。这个税率一般是１５％，高收入阶层是２０％，低收入阶层则不需要缴纳此税。若持有房屋两年以上，且此房是卖房者自住房，则有２５万美元（１美元约合６．９元人民币）的利润免税额，夫妇共同申报，免税额为５０万美元。而如果是二套、三套投资房，则无此免税额待遇。另外，对于外籍房产持有人在售房时会有１０％的预扣税，可在当年报税季申报，多退少补。　　同时，在美持有房产的成本也相当高昂。首当其冲的是房地产税。房地产税率由当地政府决定，各州有差异，同一州内不同郡市之间也可能不同，具体计算起来比较复杂。在纽约，除曼哈顿岛之外，一般而言，房产密度较高或者商业较发达的郡县，房地产税相对会低些。比如长岛，价值在２００万至３００万美元左右的房产，房地产税一年就可能要３万至５万美元。另外，由于房地产税中有一部分是教育费用，好学校周边的房子，房地产税也会因此增加。　　其次是物业费。公寓楼物业管理公司收费不低。纽约皇后区森林小丘一套两居室的使用权公寓，一年物业费８０００至１．４万美元左右；如果是产权公寓，一年房地产税加物业费也会在１万美元左右。独立房还要支付剪草坪、扫雪等费用（如果自己不做的话），一个季节下来也需要１０００美元左右。如有不慎还会吃市政罚单，比如丢垃圾不合规，罚款３００美元等。　　第三就是房屋保险。为防火灾、飓风等天灾人祸，房子必须买保险。一般房险每年在７５０至２０００美元左右，如果出租房里有２至３家人住，保险也会增加。房屋修缮和维护费也不低。房子里的地毯、地板、中央空调、冰箱、洗碗机、洗衣机、干衣机、灶台和微波炉等，出租了也需房主维护修理，到使用寿命年限则需全部翻新更换，水、气、电、供暖和制冷系统更需维护，独立房还需维护或更换房顶、外墙、内墙，草坪需要剪草，游泳池需要专业维护等等，而美国人工相当昂贵，动辄几百数千美元是常事。记者的一位华人朋友在长岛买了套６个卧室的豪宅，住进去不久就发现光请人打扫卫生、维护泳池就每月花费不菲，最后索性只住一个角落，泳池也拿塑料布给蒙上了。　　即便是出租，还有空置和租客赖租的风险。租约一般一年一签，到期租客不续签，则需整修清理，寻找新租客。要碰上赖租的，需要隔３０天书面催租一次，催租两次后，才可提告，而法庭排期则要在２至３个月以后，法官判其败诉后还要给他一个月搬家期限，如有孩子，这个期限会更长，至少６个月的租金泡汤。且不说还需要付每小时１５０至３００美元的律师费。　　此外，卖房时需交付房产中介佣金、转让税及其他手续费，加在一起约为房价的８％－１０％，而当初买房时还支付了房价４％左右的相关手续费用。　　显然，在房价上涨幅度有限的情况下，减去上述种种成本，在美国投资房产要在短期内赢利几乎是不可能的。纽约瑞禧地产创始人杰西·汤说，也有不少美国人买房投资，但大多做长线出租，他们首先关心的不是房价能涨多少，而是房子是否保值，更注重房子的地理位置和交通便利等便于出租的因素，“前提是，租金至少足以支付月供、保险和物业费等”。相比之下，投资房地产远没有投资股票、基金、债券更有吸引力。（完）\n",
      "{'相信'}\n",
      "{'提及'}\n",
      "{'表示'}\n",
      "{'话'}\n",
      "{'说'}\n",
      "people, viewpoint\n",
      "杨士龙 ['新华社纽约５月３日电记者手记：美国房子为何炒不起来\\u3000\\u3000新华社记者杨士龙\\u3000\\u3000网上有不少来美国炒房大赚的帖子，相信让不少有钱人为之心动。']\n",
      "杰西·汤 ['纽约瑞禧地产创始人杰西·汤在接受新华社记者采访时表示，炒房这个概念在美国不适用。', '纽约瑞禧地产创始人杰西·汤说，也有不少美国人买房投资，但大多做长线出租，他们首先关心的不是房价能涨多少，而是房子是否保值，更注重房子的地理位置和交通便利等便于出租的因素，“前提是，租金至少足以支付月供、保险和物业费等”。']\n"
     ]
    }
   ],
   "source": [
    "sentence = random.choice(news['content'])\n",
    "sentence = ''.join(re.findall(r'[^\\\\n\\\\u3000]', sentence))    \n",
    "print('sentence:', sentence)\n",
    "news_extract = NewsExtract()\n",
    "news_extract.preprocessing(sentence)\n",
    "view = news_extract.get_viewpoints()  \n",
    "print('people, viewpoint')\n",
    "for k in view:\n",
    "    print(k, view[k])"
   ]
  },
  {
   "cell_type": "code",
   "execution_count": 42,
   "metadata": {},
   "outputs": [
    {
     "name": "stdout",
     "output_type": "stream",
     "text": [
      "　　希拉里新书揭白宫外交分歧　　　　林昊　　美国前国务卿希拉里·克林顿的新回忆录《艰难抉择》定于下周正式面世。根据美国媒体５日提前披露的部分内容，希拉里在回忆录中提及自己在担任国务卿期间与总统贝拉克·奥巴马在叙利亚局势等议题上的分歧。　　（小标题）揭分歧　　希拉里在《艰难抉择》里回忆了自己４年的国务卿生涯。与新书出版商同属一个集团的哥伦比亚广播公司新闻部５日提前公布了部分摘要。　　希拉里在书中提到伊拉克战争、阿富汗局势、叙利亚局势、美国驻利比亚班加西领事馆遇袭等任内重要的外交事件。根据书中内容，希拉里与奥巴马一个重大的外交分歧在于是否武装叙利亚反对派。　　希拉里在书中说，她有一次结束外访后回到华盛顿，确信向温和的叙利亚反对派提供武器装备和训练是推翻巴沙尔·阿萨德政权的最好办法。　　不过，奥巴马有不同的意见。　　“作为和不作为的风险都相当高，（但是）总统倾向于保持当前路线，不走出向反对派提供武器的关键一步，”希拉里写道，“没有人喜欢输掉辩论，包括我。但这是总统的决定，我尊重他的考虑和决定。”　　按希拉里的说法，她与奥巴马合作伊始，后者承诺听取她的意见，也一直履行诺言。但是，“在这件事情上，我的位置没有让我的意见获胜”。　　（小标题）早预见　　奥巴马政府近日用５名塔利班囚犯交换被俘美军士兵鲍·伯格达尔在美国国内引发争议。希拉里在回忆录中披露，白宫外交幕僚圈里对这一议题早有讨论。　　“每次讨论囚犯问题，我们都要求释放２００９年被俘的陆军中士鲍·伯格达尔。如果无法促成（伯格达尔）中士回家，我们不会就囚犯达成任何协议，”希拉里写道。　　她似乎预见到换囚会在国内引起轩然大波。“我承认……在这么多年的战争后，许多美国人难以接受打开与塔利班谈判的大门。”　　《华盛顿邮报》援引前奥巴马政府高级官员的话报道，奥巴马政府２０１１年首次开始考虑换囚设想时，希拉里提出反对，理由是协议中没有包括对获释塔利班成员的行动限制。　　在本次美国政府与塔利班达成的换囚协议中，５名塔利班成员获释后被送到卡塔尔，必须在那里停留一年。　　（小标题）忆初会　　这本回忆录定于本月１０日正式发布，希拉里届时将展开新书推介之旅。在外界看来，作为下一任美国总统的潜在热门候选人之一，希拉里的新书推介将成为她２０１６年竞选总统的预演。　　在２００８年总统选举前的民主党初选中，希拉里一度是呼声最高的候选人，但奥巴马后来居上，最后成功入主白宫。希拉里接受奥巴马邀请入阁担任国务卿，结束一个４年的任期后卸任。　　希拉里在书中描述了奥巴马在赢得民主党初选后两人首次秘密会面的情景。“贝拉克（·奥巴马）和我以及我们的工作人员都有诸多牢骚，当时是时候把事情说清楚了”。　　她回忆，两人在会面时“就像两个青少年在糟糕的第一次约会时那样瞪着对方”。（完）（新华社供本报特稿）　　关键词：希拉里·克林顿(HilaryClito)、《艰难抉择》(HardChoices)\n"
     ]
    }
   ],
   "source": [
    "sentence = ''.join(re.findall(r'[^\\\\n\\\\u3000]', sentence)) \n",
    "print(sentence)"
   ]
  },
  {
   "cell_type": "code",
   "execution_count": 5,
   "metadata": {},
   "outputs": [],
   "source": [
    "segmentor.release()\n",
    "postagger.release()  # 释放模型\n",
    "recognizer.release()\n",
    "parser.release()"
   ]
  },
  {
   "cell_type": "raw",
   "metadata": {},
   "source": []
  },
  {
   "cell_type": "raw",
   "metadata": {},
   "source": [
    "NER"
   ]
  },
  {
   "cell_type": "raw",
   "metadata": {},
   "source": [
    "import os\n",
    "LTP_DATA_DIR = '/python/datasource/ltp_data_v3.4.0'  # ltp模型目录的路径\n",
    "\n",
    "from pyltp import SentenceSplitter\n",
    "\n",
    "cws_model_path = os.path.join(LTP_DATA_DIR, 'cws.model')  # 分词模型路径，模型名称为`cws.model`\n",
    "from pyltp import Segmentor\n",
    "segmentor = Segmentor()  # 初始化实例\n",
    "segmentor.load(cws_model_path)  # 加载模型\n",
    "\n",
    "pos_model_path = os.path.join(LTP_DATA_DIR, 'pos.model')  # 词性标注模型路径，模型名称为`pos.model`\n",
    "from pyltp import Postagger\n",
    "postagger = Postagger() # 初始化实例\n",
    "postagger.load(pos_model_path)  # 加载模型\n",
    "\n",
    "ner_model_path = os.path.join(LTP_DATA_DIR, 'ner.model')  # 命名实体识别模型路径，模型名称为`pos.model`\n",
    "from pyltp import NamedEntityRecognizer\n",
    "recognizer = NamedEntityRecognizer() # 初始化实例\n",
    "recognizer.load(ner_model_path)  # 加载模型\n",
    "\n",
    "par_model_path = os.path.join(LTP_DATA_DIR, 'parser.model')  # 依存句法分析模型路径，模型名称为`parser.model`\n",
    "from pyltp import Parser\n",
    "parser = Parser() # 初始化实例\n",
    "parser.load(par_model_path)  # 加载模型"
   ]
  },
  {
   "cell_type": "code",
   "execution_count": 54,
   "metadata": {},
   "outputs": [],
   "source": [
    "def contents_process(text):\n",
    "    postags = ['nh', 'r', 'r', 'v']\n",
    "    text = str(text)\n",
    "    text = text.strip()\n",
    "    if not text: return\n",
    "    text = langconv.Converter('zh-hans').convert(text)\n",
    "    text = ''.join(re.findall(r'[^\\\\n]', text))\n",
    "    print('text: ', text, '\\n')\n",
    "    sents = SentenceSplitter.split(text)#cut sententes\n",
    "    for s in sents:\n",
    "        s = s.strip()\n",
    "        if not s: continue\n",
    "        print(s, '\\n')\n",
    "        words = segmentor.segment(s)#cut words\n",
    "        print('cut words: ',' '.join(words), '\\n')\n",
    "        postags = postagger.postag(words)#words attirbutes tag\n",
    "        print('words attributes tag: ',' '.join(postags), '\\n')\n",
    "        netags = recognizer.recognize(words, postags)  # 命名实体识别\n",
    "        print('name entity recognize: ','\\t'.join(netags), '\\n')\n",
    "        arcs = parser.parse(words, postags)  # 句法分析\n",
    "        print ('gramer analysis:',\"\\t\".join(\"%d:%s\" % (arc.head, arc.relation) for arc in arcs), '\\n\\n')"
   ]
  },
  {
   "cell_type": "code",
   "execution_count": 55,
   "metadata": {},
   "outputs": [],
   "source": [
    "import random"
   ]
  },
  {
   "cell_type": "code",
   "execution_count": 56,
   "metadata": {
    "scrolled": true
   },
   "outputs": [
    {
     "name": "stdout",
     "output_type": "stream",
     "text": [
      "text:  新华社上海５月１７日电　题：快递企业集体上调派件费，你的快递会涨价吗？　　新华社“中国网事”记者何欣荣　　　５月中旬以来，关于圆通、中通、韵达等６家加盟制快递企业将从６月１日起提高网点派件费０．１５元／件的消息不断传出。记者询问圆通、韵达相关人士，确认消息属实。作为与百姓生活紧密关联的快递行业，派件费的上调将带来哪些影响？　　（小标题）会不会推高快递价格？　　何为派件费？其费率上调会不会推高快递价格？对于多数消费者来说，这是听到该消息的第一反应。　　一件快递从Ａ地的发货人寄到Ｂ地的收件人手中，过程大致分为“揽－运－派”三段。第一步是“揽”，由Ａ地的快递公司加盟网点完成；第二步为干线运输，由上市的快递公司总部组织运力完成；第三步就是“派”，由Ｂ地的快递公司加盟网点完成。在整个过程中，Ａ地网点收取的是快递费，付给总部的是面单费、干线运输费以及其他费用，负责最后一公里的Ｂ地网点拿到的是派件费。　　“按照行业惯例，这个派件费是由收件网点从快递费中支出。也就是说，派件费上调属于快递公司的内部结算机制调整，和快递价格并无直接关系。”中国快递协会原副秘书长、国邮智库专家邵钟林说。　　不过，消费者的担心也不无道理。“派件费提价，增加了整个快递链条的成本，理论上需要向下游客户传导，但目前行业竞争仍然激烈，下游电商客户仍较为强势，能否完全转嫁仍需要观察。”兴业证券研究员王品辉分析。　　同济大学知识产权与竞争法研究中心研究员刘旭表示，快递公司通常会与发件规模较大的商家签订长期合同，因此短期内应该不会影响这些商户的快递费用。但不排除在将来续签合同时，会提高快递费价码，并最终转嫁给消费者。　　（小标题）为何要提高派件费标准？　　快递公司为何要提高派件费标准？按照邵钟林的观察，通过内部结算机制的调整，可以平衡收件业务和派件业务之间的利益，进而稳住一些基层加盟网点。　　之所以会这样，是因为近年来随着电商朝着集中化、大型化的方向发展，快递行业的收件网点越来越集中到少数大型加盟商手中，而多数基层网点逐渐变成派件网点。因为快递利润的大头在收件，以派件为主的基层网点经营形势日趋艰难，快递员流失、快件积压、网点停运甚至关门的现象时有出现，影响了快递业的服务质量。　　一位圆通的魏姓快递员告诉记者，他的工作以派件为主，多的时候每天１００多单，每单１元至１．５元之间。如果派件费上调０．１５元／件，每天可增加收入十几元。　　按照中国物流与采购联合会发布的《２０１７年中国电商物流与快递从业人员调查结果》，七成左右的调查对象月收入水平在３０００元至６０００元之间，只有４８％的人表示将继续从事这份工作，电商物流与快递人员的队伍稳定性有待加强。　　不过，此次上调的派件费能不能完全落到快递员手里，还存在不确定性。因为对于加盟制的快递公司而言，快递员的收入由网点老板决定。一位快递员向记者表示，网点内部还没有通知派件费上调的事情。“希望网点能多多体现我们跑腿的价值。”　　（小标题）是否涉嫌垄断？　　由此来看，快递公司提高派件费，有利于改变收件和派件业务旱涝不均的格局，稳住一些以派件为主的基层网点，这对行业的健康发展是有利的。　　但与此同时，快递公司的集体上调也引来市场的怀疑：这种行为背后，是不是经过事先的沟通协商？如果属实，是不是有限制竞争和横向垄断的嫌疑？　　兴业证券的报告就指出，在这次集体提价中，“快递公司之间的默契超出预期”。而几家公司同时提费，“也可以增加转嫁成本的成功率”。　　“这个消息出来后，我私下问过一些快递公司，他们回复说没有协商，称这是行业的一致诉求。”一位快递业资深人士告诉记者，今年春节后部分快递网点出现“爆仓”，“三通一达”的高管纷纷赴网点调研，这次提价应该是调研的结果。　　其实，对于快递企业来说，如果真的要借上调派件费的契机来提高快递价格，是一件非常敏感的事情。就在２０１６年１２月，广东省发改委对广东省惠东县５家快递公司协同涨价的行为处以６５万元的罚款。　　“商量着涨价是万万不行的，这是反垄断法的要义。”刘旭表示，如果快递公司的下游加盟商、上游发件商户和终端消费者，对集体上调派件费等行为存在质疑，可以向国家发改委举报，也可以依据最高法的相关司法解释进行起诉，以维护快递市场的正常竞争秩序。（参与采写：于越）（完） \n",
      "\n",
      "新华社上海５月１７日电　题：快递企业集体上调派件费，你的快递会涨价吗？ \n",
      "\n",
      "cut words:  新华社 上海 ５月 １７日 电 题 ： 快递 企业 集体 上 调派 件费 ， 你 的 快递 会 涨价 吗 ？ \n",
      "\n",
      "words attributes tag:  ni ns nt nt n n wp v n n nd v n wp r u v v v u wp \n",
      "\n",
      "name entity recognize:  S-Ni\tS-Ns\tO\tO\tO\tO\tO\tO\tO\tO\tO\tO\tO\tO\tO\tO\tO\tO\tO\tO\tO \n",
      "\n",
      "gramer analysis: 5:SBV\t5:ADV\t4:ATT\t5:ADV\t0:HED\t5:VOB\t6:WP\t9:ATT\t10:ATT\t11:ATT\t12:ADV\t5:VOB\t12:VOB\t12:WP\t17:ATT\t15:RAD\t19:SBV\t19:ADV\t12:COO\t19:RAD\t5:WP \n",
      "\n",
      "\n",
      "新华社“中国网事”记者何欣荣　　　５月中旬以来，关于圆通、中通、韵达等６家加盟制快递企业将从６月１日起提高网点派件费０．１５元／件的消息不断传出。 \n",
      "\n",
      "cut words:  新华社 “ 中国 网事 ” 记者 何欣荣 ５月 中旬 以来 ， 关于 圆通 、 中通 、 韵达 等 ６ 家 加盟制 快递 企业 将 从 ６月 １日 起 提高 网点 派件费 ０．１５ 元／件 的 消息 不断 传出 。 \n",
      "\n",
      "words attributes tag:  ni wp ns n wp n nh nt nt nd wp p nz wp ni wp nz u m q v v n d p nt nt nd v n n m q u n d v wp \n",
      "\n",
      "name entity recognize:  S-Ni\tO\tS-Ns\tO\tO\tO\tS-Nh\tO\tO\tO\tO\tO\tO\tO\tS-Ni\tO\tO\tO\tO\tO\tO\tO\tO\tO\tO\tO\tO\tO\tO\tO\tO\tO\tO\tO\tO\tO\tO\tO \n",
      "\n",
      "gramer analysis: 6:ATT\t4:WP\t4:ATT\t6:ATT\t4:WP\t7:ATT\t37:SBV\t9:ATT\t10:ADV\t37:ADV\t10:WP\t23:ATT\t20:ATT\t15:WP\t13:COO\t17:WP\t13:COO\t13:RAD\t20:ATT\t23:ATT\t23:ATT\t23:ATT\t29:SBV\t29:ADV\t29:ADV\t27:ATT\t28:ADV\t25:POB\t35:ATT\t31:ATT\t33:ATT\t33:ATT\t29:VOB\t33:RAD\t37:SBV\t37:ADV\t0:HED\t37:WP \n",
      "\n",
      "\n",
      "记者询问圆通、韵达相关人士，确认消息属实。 \n",
      "\n",
      "cut words:  记者 询问 圆通 、 韵达 相关 人士 ， 确认 消息 属实 。 \n",
      "\n",
      "words attributes tag:  n v ns wp nz v n wp v n v wp \n",
      "\n",
      "name entity recognize:  O\tO\tS-Ns\tO\tO\tO\tO\tO\tO\tO\tO\tO \n",
      "\n",
      "gramer analysis: 2:SBV\t0:HED\t7:ATT\t5:WP\t3:COO\t7:ATT\t2:VOB\t2:WP\t2:COO\t9:VOB\t9:VOB\t2:WP \n",
      "\n",
      "\n",
      "作为与百姓生活紧密关联的快递行业，派件费的上调将带来哪些影响？ \n",
      "\n",
      "cut words:  作为 与 百姓 生活 紧密 关联 的 快递 行业 ， 派件费 的 上调 将 带来 哪些 影响 ？ \n",
      "\n",
      "words attributes tag:  p p n v a v u v n wp n u v d v r v wp \n",
      "\n",
      "name entity recognize:  O\tO\tO\tO\tO\tO\tO\tO\tO\tO\tO\tO\tO\tO\tO\tO\tO\tO \n",
      "\n",
      "gramer analysis: 15:ADV\t6:ADV\t4:ATT\t2:POB\t6:ADV\t9:ATT\t6:RAD\t9:ATT\t1:POB\t1:WP\t13:ATT\t11:RAD\t15:SBV\t15:ADV\t0:HED\t17:ATT\t15:VOB\t15:WP \n",
      "\n",
      "\n",
      "（小标题）会不会推高快递价格？ \n",
      "\n",
      "cut words:  （ 小标题 ） 会 不 会 推 高 快递 价格 ？ \n",
      "\n",
      "words attributes tag:  wp n wp v d v v a v n wp \n",
      "\n",
      "name entity recognize:  O\tO\tO\tO\tO\tO\tO\tO\tO\tO\tO \n",
      "\n",
      "gramer analysis: 2:WP\t7:SBV\t2:WP\t7:ADV\t6:ADV\t7:ADV\t0:HED\t9:ATT\t10:ATT\t7:VOB\t7:WP \n",
      "\n",
      "\n",
      "何为派件费？ \n",
      "\n",
      "cut words:  何 为 派件费 ？ \n",
      "\n",
      "words attributes tag:  r v n wp \n",
      "\n",
      "name entity recognize:  O\tO\tO\tO \n",
      "\n",
      "gramer analysis: 2:SBV\t0:HED\t2:VOB\t2:WP \n",
      "\n",
      "\n",
      "其费率上调会不会推高快递价格？ \n",
      "\n",
      "cut words:  其 费率 上调 会 不 会 推 高 快递 价格 ？ \n",
      "\n",
      "words attributes tag:  r n v v d v v a v n wp \n",
      "\n",
      "name entity recognize:  O\tO\tO\tO\tO\tO\tO\tO\tO\tO\tO \n",
      "\n",
      "gramer analysis: 2:ATT\t3:SBV\t7:SBV\t7:ADV\t6:ADV\t7:ADV\t0:HED\t9:ATT\t10:ATT\t7:VOB\t7:WP \n",
      "\n",
      "\n",
      "对于多数消费者来说，这是听到该消息的第一反应。 \n",
      "\n",
      "cut words:  对于 多数 消费者 来说 ， 这 是 听到 该 消息 的 第一 反应 。 \n",
      "\n",
      "words attributes tag:  p m n u wp r v v r n u m v wp \n",
      "\n",
      "name entity recognize:  O\tO\tO\tO\tO\tO\tO\tO\tO\tO\tO\tO\tO\tO \n",
      "\n",
      "gramer analysis: 7:ADV\t3:ATT\t1:POB\t1:RAD\t1:WP\t7:SBV\t0:HED\t13:ATT\t10:ATT\t8:VOB\t8:RAD\t13:ATT\t7:VOB\t7:WP \n",
      "\n",
      "\n",
      "一件快递从Ａ地的发货人寄到Ｂ地的收件人手中，过程大致分为“揽－运－派”三段。 \n",
      "\n",
      "cut words:  一 件 快递 从 Ａ地 的 发货人 寄 到 Ｂ地 的 收件人 手中 ， 过程 大致 分为 “ 揽 －运 －派 ” 三 段 。 \n",
      "\n",
      "words attributes tag:  m q v p n u n v v n u n nl wp n d v wp v v n wp m q wp \n",
      "\n",
      "name entity recognize:  O\tO\tO\tO\tO\tO\tO\tO\tO\tO\tO\tO\tO\tO\tO\tO\tO\tO\tO\tO\tO\tO\tO\tO\tO \n",
      "\n",
      "gramer analysis: 2:ATT\t8:SBV\t8:SBV\t8:ADV\t7:ATT\t5:RAD\t4:POB\t0:HED\t8:CMP\t12:ATT\t10:RAD\t13:ATT\t8:VOB\t8:WP\t17:SBV\t17:ADV\t8:COO\t19:WP\t24:ATT\t19:VOB\t19:VOB\t19:WP\t24:ATT\t17:VOB\t8:WP \n",
      "\n",
      "\n",
      "第一步是“揽”，由Ａ地的快递公司加盟网点完成； \n",
      "\n",
      "cut words:  第一 步 是 “ 揽 ” ， 由 Ａ地 的 快递 公司 加盟 网点 完成 ； \n",
      "\n",
      "words attributes tag:  m q v wp v wp wp p z u v n v n v wp \n",
      "\n",
      "name entity recognize:  O\tO\tO\tO\tO\tO\tO\tO\tO\tO\tO\tO\tO\tO\tO\tO \n",
      "\n",
      "gramer analysis: 2:ATT\t3:SBV\t0:HED\t5:WP\t3:VOB\t5:WP\t3:WP\t13:ADV\t12:ATT\t9:RAD\t12:ATT\t8:POB\t3:COO\t13:VOB\t13:COO\t3:WP \n",
      "\n",
      "\n",
      "第二步为干线运输，由上市的快递公司总部组织运力完成； \n",
      "\n",
      "cut words:  第二 步 为 干线 运输 ， 由 上市 的 快递 公司 总部 组织 运力 完成 ； \n",
      "\n",
      "words attributes tag:  m q p n v wp p v u v n n v n v wp \n",
      "\n",
      "name entity recognize:  O\tO\tO\tO\tO\tO\tO\tO\tO\tO\tO\tO\tO\tO\tO\tO \n",
      "\n",
      "gramer analysis: 2:ATT\t5:ADV\t5:ADV\t3:POB\t0:HED\t5:WP\t8:ADV\t12:ATT\t8:RAD\t11:ATT\t12:ATT\t13:SBV\t5:COO\t13:DBL\t13:VOB\t5:WP \n",
      "\n",
      "\n",
      "第三步就是“派”，由Ｂ地的快递公司加盟网点完成。 \n",
      "\n",
      "cut words:  第三 步 就 是 “ 派 ” ， 由 Ｂ地 的 快递 公司 加盟 网点 完成 。 \n",
      "\n",
      "words attributes tag:  m q d v wp n wp wp p n u v n v n v wp \n",
      "\n",
      "name entity recognize:  O\tO\tO\tO\tO\tO\tO\tO\tO\tO\tO\tO\tO\tO\tO\tO\tO \n",
      "\n",
      "gramer analysis: 2:ATT\t4:SBV\t4:ADV\t0:HED\t6:WP\t4:VOB\t6:WP\t4:WP\t14:ADV\t13:ATT\t10:RAD\t13:ATT\t9:POB\t4:COO\t14:VOB\t14:COO\t4:WP \n",
      "\n",
      "\n",
      "在整个过程中，Ａ地网点收取的是快递费，付给总部的是面单费、干线运输费以及其他费用，负责最后一公里的Ｂ地网点拿到的是派件费。 \n",
      "\n",
      "cut words:  在 整个 过程 中 ， Ａ地 网点 收取 的 是 快递费 ， 付给 总部 的 是 面单费 、 干线 运输费 以及 其他 费用 ， 负责 最后 一 公里 的 Ｂ地 网点 拿 到 的 是 派件费 。 \n",
      "\n",
      "words attributes tag:  p b n nd wp ws n v u v n wp v n u v n wp n n c r n wp v nd m q u n n v v u v n wp \n",
      "\n",
      "name entity recognize:  O\tO\tO\tO\tO\tO\tO\tO\tO\tO\tO\tO\tO\tO\tO\tO\tO\tO\tO\tO\tO\tO\tO\tO\tO\tO\tO\tO\tO\tO\tO\tO\tO\tO\tO\tO\tO \n",
      "\n",
      "gramer analysis: 10:ADV\t3:ATT\t4:ATT\t1:POB\t1:WP\t7:ATT\t8:SBV\t10:SBV\t8:RAD\t0:HED\t10:VOB\t10:WP\t16:SBV\t13:VOB\t13:RAD\t10:COO\t16:VOB\t20:WP\t20:ATT\t17:COO\t23:LAD\t23:ATT\t17:COO\t10:WP\t35:SBV\t28:ATT\t28:ATT\t31:ATT\t28:RAD\t31:ATT\t25:VOB\t25:COO\t32:CMP\t32:RAD\t10:COO\t35:VOB\t10:WP \n",
      "\n",
      "\n",
      "“按照行业惯例，这个派件费是由收件网点从快递费中支出。 \n",
      "\n",
      "cut words:  “ 按照 行业 惯例 ， 这个 派件费 是 由 收件 网点 从 快递费 中 支出 。 \n",
      "\n",
      "words attributes tag:  wp p n n wp r n v p n n p n nd v wp \n",
      "\n",
      "name entity recognize:  O\tO\tO\tO\tO\tO\tO\tO\tO\tO\tO\tO\tO\tO\tO\tO \n",
      "\n",
      "gramer analysis: 8:WP\t8:ADV\t4:ATT\t2:POB\t2:WP\t7:ATT\t8:SBV\t0:HED\t15:ADV\t11:ATT\t9:POB\t15:ADV\t14:ATT\t12:POB\t8:VOB\t8:WP \n",
      "\n",
      "\n",
      "也就是说，派件费上调属于快递公司的内部结算机制调整，和快递价格并无直接关系。” \n",
      "\n",
      "cut words:  也就是说 ， 派件费 上调 属于 快递 公司 的 内部 结算 机制 调整 ， 和 快递 价格 并 无 直接 关系 。 ” \n",
      "\n",
      "words attributes tag:  i wp n v v v n u nd v n v wp c v n d v a n wp wp \n",
      "\n",
      "name entity recognize:  O\tO\tO\tO\tO\tO\tO\tO\tO\tO\tO\tO\tO\tO\tO\tO\tO\tO\tO\tO\tO\tO \n",
      "\n",
      "gramer analysis: 5:ADV\t1:WP\t4:SBV\t5:SBV\t0:HED\t7:ATT\t11:ATT\t7:RAD\t11:ATT\t11:ATT\t12:SBV\t5:VOB\t12:WP\t15:LAD\t16:ATT\t18:SBV\t18:ADV\t12:COO\t20:ATT\t18:VOB\t5:WP\t5:WP \n",
      "\n",
      "\n",
      "中国快递协会原副秘书长、国邮智库专家邵钟林说。 \n",
      "\n",
      "cut words:  中国 快递 协会 原 副 秘书长 、 国邮智库 专家 邵钟林 说 。 \n",
      "\n",
      "words attributes tag:  ns v n b b n wp n n nh v wp \n",
      "\n",
      "name entity recognize:  B-Ni\tI-Ni\tE-Ni\tO\tO\tO\tO\tO\tO\tS-Nh\tO\tO \n",
      "\n",
      "gramer analysis: 3:ATT\t3:ATT\t6:ATT\t6:ATT\t6:ATT\t10:ATT\t9:WP\t9:ATT\t6:COO\t11:SBV\t0:HED\t11:WP \n",
      "\n",
      "\n",
      "不过，消费者的担心也不无道理。 \n",
      "\n",
      "cut words:  不过 ， 消费者 的 担心 也 不无道理 。 \n",
      "\n",
      "words attributes tag:  c wp n u v d i wp \n",
      "\n",
      "name entity recognize:  O\tO\tO\tO\tO\tO\tO\tO \n",
      "\n",
      "gramer analysis: 5:ADV\t1:WP\t5:ATT\t3:RAD\t0:HED\t7:ADV\t5:VOB\t5:WP \n",
      "\n",
      "\n",
      "“派件费提价，增加了整个快递链条的成本，理论上需要向下游客户传导，但目前行业竞争仍然激烈，下游电商客户仍较为强势，能否完全转嫁仍需要观察。” \n",
      "\n",
      "cut words:  “ 派件费 提价 ， 增加 了 整个 快递 链条 的 成本 ， 理论 上 需要 向 下游 客户 传导 ， 但 目前 行业 竞争 仍然 激烈 ， 下游 电商 客户 仍 较为 强势 ， 能否 完全 转嫁 仍 需要 观察 。 ” \n",
      "\n",
      "words attributes tag:  wp n v wp v u b v n u n wp n nd v p nd n v wp c nt n v d a wp nd n n d d a wp v a v d v v wp wp \n",
      "\n",
      "name entity recognize:  O\tO\tO\tO\tO\tO\tO\tO\tO\tO\tO\tO\tO\tO\tO\tO\tO\tO\tO\tO\tO\tO\tO\tO\tO\tO\tO\tO\tO\tO\tO\tO\tO\tO\tO\tO\tO\tO\tO\tO\tO\tO \n",
      "\n",
      "gramer analysis: 3:WP\t3:SBV\t0:HED\t3:WP\t3:COO\t5:RAD\t9:ATT\t9:ATT\t11:ATT\t9:RAD\t5:VOB\t3:WP\t14:ATT\t15:ADV\t3:COO\t19:ADV\t18:ATT\t16:POB\t15:VOB\t15:WP\t26:ADV\t26:ADV\t24:ATT\t26:SBV\t26:ADV\t15:COO\t26:WP\t29:ATT\t30:ATT\t33:SBV\t33:ADV\t33:ADV\t26:COO\t33:WP\t39:ADV\t37:ADV\t39:SBV\t39:ADV\t33:COO\t39:VOB\t3:WP\t3:WP \n",
      "\n",
      "\n",
      "兴业证券研究员王品辉分析。 \n",
      "\n",
      "cut words:  兴业 证券 研究员 王品辉 分析 。 \n",
      "\n",
      "words attributes tag:  nz n n nh v wp \n",
      "\n",
      "name entity recognize:  B-Ni\tE-Ni\tO\tS-Nh\tO\tO \n",
      "\n",
      "gramer analysis: 2:ATT\t3:ATT\t4:ATT\t5:SBV\t0:HED\t5:WP \n",
      "\n",
      "\n",
      "同济大学知识产权与竞争法研究中心研究员刘旭表示，快递公司通常会与发件规模较大的商家签订长期合同，因此短期内应该不会影响这些商户的快递费用。 \n",
      "\n",
      "cut words:  同济 大学 知识 产权 与 竞争法 研究 中心 研究员 刘旭 表示 ， 快递 公司 通常 会 与 发件 规模 较 大 的 商家 签订 长期 合同 ， 因此 短期 内 应该 不 会 影响 这些 商户 的 快递 费用 。 \n",
      "\n",
      "words attributes tag:  nz n n n p n v n n nh v wp v n d v p n n d a u n v b n wp c b nd v d v v r n u v n wp \n",
      "\n",
      "name entity recognize:  B-Ni\tI-Ni\tI-Ni\tI-Ni\tI-Ni\tI-Ni\tI-Ni\tE-Ni\tO\tS-Nh\tO\tO\tO\tO\tO\tO\tO\tO\tO\tO\tO\tO\tO\tO\tO\tO\tO\tO\tO\tO\tO\tO\tO\tO\tO\tO\tO\tO\tO\tO \n",
      "\n",
      "gramer analysis: 2:ATT\t4:ATT\t4:ATT\t11:SBV\t11:ADV\t8:ATT\t8:ATT\t9:ATT\t10:ATT\t5:POB\t0:HED\t11:WP\t14:ATT\t24:SBV\t24:ADV\t24:ADV\t24:ADV\t19:ATT\t21:SBV\t21:ADV\t23:ATT\t21:RAD\t17:POB\t11:VOB\t26:ATT\t24:VOB\t24:WP\t34:ADV\t30:ATT\t34:ADV\t34:ADV\t33:ADV\t34:ADV\t24:COO\t36:ATT\t39:ATT\t36:RAD\t39:ATT\t34:VOB\t11:WP \n",
      "\n",
      "\n",
      "但不排除在将来续签合同时，会提高快递费价码，并最终转嫁给消费者。 \n",
      "\n",
      "cut words:  但 不 排除 在 将来 续签 合同 时 ， 会 提高 快递费 价码 ， 并 最终 转嫁 给 消费者 。 \n",
      "\n",
      "words attributes tag:  c d v p nt v n n wp v v n n wp c d v v n wp \n",
      "\n",
      "name entity recognize:  O\tO\tO\tO\tO\tO\tO\tO\tO\tO\tO\tO\tO\tO\tO\tO\tO\tO\tO\tO \n",
      "\n",
      "gramer analysis: 11:ADV\t3:ADV\t8:ATT\t6:ADV\t4:POB\t3:VOB\t6:VOB\t11:ADV\t8:WP\t11:ADV\t0:HED\t13:ATT\t11:VOB\t11:WP\t17:ADV\t17:ADV\t11:COO\t17:CMP\t18:POB\t11:WP \n",
      "\n",
      "\n",
      "（小标题）为何要提高派件费标准？ \n",
      "\n",
      "cut words:  （ 小标题 ） 为何 要 提高 派件费 标准 ？ \n",
      "\n",
      "words attributes tag:  wp n wp r v v n n wp \n",
      "\n",
      "name entity recognize:  O\tO\tO\tO\tO\tO\tO\tO\tO \n",
      "\n",
      "gramer analysis: 2:WP\t6:SBV\t2:WP\t6:ADV\t6:ADV\t0:HED\t8:ATT\t6:VOB\t6:WP \n",
      "\n",
      "\n",
      "快递公司为何要提高派件费标准？ \n",
      "\n",
      "cut words:  快递 公司 为何 要 提高 派件费 标准 ？ \n",
      "\n",
      "words attributes tag:  v n r v v n n wp \n",
      "\n",
      "name entity recognize:  O\tO\tO\tO\tO\tO\tO\tO \n",
      "\n",
      "gramer analysis: 2:ATT\t5:SBV\t5:ADV\t5:ADV\t0:HED\t7:ATT\t5:VOB\t5:WP \n",
      "\n",
      "\n",
      "按照邵钟林的观察，通过内部结算机制的调整，可以平衡收件业务和派件业务之间的利益，进而稳住一些基层加盟网点。 \n",
      "\n",
      "cut words:  按照 邵钟林 的 观察 ， 通过 内部 结算 机制 的 调整 ， 可以 平衡 收件 业务 和 派件 业务 之间 的 利益 ， 进而 稳住 一些 基层 加盟 网点 。 \n",
      "\n",
      "words attributes tag:  p nh u v wp p nd v n u v wp v v n n c n n nd u n wp c v m n v n wp \n",
      "\n",
      "name entity recognize:  O\tS-Nh\tO\tO\tO\tO\tO\tO\tO\tO\tO\tO\tO\tO\tO\tO\tO\tO\tO\tO\tO\tO\tO\tO\tO\tO\tO\tO\tO\tO \n",
      "\n",
      "gramer analysis: 14:ADV\t4:ATT\t2:RAD\t1:POB\t1:WP\t14:ADV\t9:ATT\t9:ATT\t6:POB\t9:RAD\t6:POB\t6:WP\t14:ADV\t0:HED\t16:ATT\t20:ATT\t19:LAD\t19:ATT\t16:COO\t22:ATT\t20:RAD\t14:VOB\t14:WP\t25:ADV\t14:COO\t27:ATT\t28:SBV\t25:VOB\t28:VOB\t14:WP \n",
      "\n",
      "\n",
      "之所以会这样，是因为近年来随着电商朝着集中化、大型化的方向发展，快递行业的收件网点越来越集中到少数大型加盟商手中，而多数基层网点逐渐变成派件网点。 \n",
      "\n",
      "cut words:  之所以 会 这样 ， 是 因为 近年来 随着 电商 朝着 集中化 、 大型化 的 方向 发展 ， 快递 行业 的 收件 网点 越来越 集中 到 少数 大型 加盟商 手中 ， 而 多数 基层 网点 逐渐 变成 派件 网点 。 \n",
      "\n",
      "words attributes tag:  c v r wp v p i p j p v wp v u n v wp v n u n n d v v m b n nl wp c m n n d v n n wp \n",
      "\n",
      "name entity recognize:  O\tO\tO\tO\tO\tO\tO\tO\tO\tO\tO\tO\tO\tO\tO\tO\tO\tO\tO\tO\tO\tO\tO\tO\tO\tO\tO\tO\tO\tO\tO\tO\tO\tO\tO\tO\tO\tO\tO \n",
      "\n",
      "gramer analysis: 2:ADV\t5:SBV\t2:VOB\t2:WP\t0:HED\t24:ADV\t24:ADV\t24:ADV\t16:SBV\t16:ADV\t15:ATT\t13:WP\t11:COO\t11:RAD\t10:POB\t8:POB\t8:WP\t19:ATT\t22:ATT\t19:RAD\t22:ATT\t24:SBV\t24:ADV\t5:VOB\t24:CMP\t28:ATT\t28:ATT\t29:ATT\t25:POB\t24:WP\t36:ADV\t34:ATT\t34:ATT\t36:SBV\t36:ADV\t24:COO\t38:ATT\t36:VOB\t5:WP \n",
      "\n",
      "\n",
      "因为快递利润的大头在收件，以派件为主的基层网点经营形势日趋艰难，快递员流失、快件积压、网点停运甚至关门的现象时有出现，影响了快递业的服务质量。 \n",
      "\n",
      "cut words:  因为 快递 利润 的 大头 在 收件 ， 以 派 件 为主 的 基层 网点 经营 形势 日趋 艰难 ， 快递员 流失 、 快件 积压 、 网点 停运 甚至 关门 的 现象 时有 出现 ， 影响 了 快递业 的 服务 质量 。 \n",
      "\n",
      "words attributes tag:  c v n u n p n wp p v n v u n n v n d a wp n v wp n v wp n v d v u n d v wp v u n u v n wp \n",
      "\n",
      "name entity recognize:  O\tO\tO\tO\tO\tO\tO\tO\tO\tO\tO\tO\tO\tO\tO\tO\tO\tO\tO\tO\tO\tO\tO\tO\tO\tO\tO\tO\tO\tO\tO\tO\tO\tO\tO\tO\tO\tO\tO\tO\tO\tO \n",
      "\n",
      "gramer analysis: 19:ADV\t3:ATT\t5:ATT\t3:RAD\t19:SBV\t19:ADV\t6:POB\t6:WP\t12:ADV\t9:POB\t10:VOB\t15:ATT\t12:RAD\t15:ATT\t17:ATT\t17:ATT\t19:SBV\t19:ADV\t0:HED\t19:WP\t22:SBV\t34:SBV\t22:WP\t25:SBV\t22:COO\t28:WP\t28:SBV\t25:COO\t30:ADV\t32:ATT\t30:RAD\t34:SBV\t34:ADV\t19:COO\t34:WP\t34:COO\t36:RAD\t41:ATT\t38:RAD\t41:ATT\t36:VOB\t19:WP \n",
      "\n",
      "\n",
      "一位圆通的魏姓快递员告诉记者，他的工作以派件为主，多的时候每天１００多单，每单１元至１．５元之间。 \n",
      "\n",
      "cut words:  一 位 圆通 的 魏 姓 快递员 告诉 记者 ， 他 的 工作 以 派 件 为主 ， 多 的 时候 每天 １００ 多 单 ， 每 单 １ 元 至 １．５ 元 之间 。 \n",
      "\n",
      "words attributes tag:  m q a u nh n n v n wp r u v p v n v wp a u n r m m b wp r n m q p m q nd wp \n",
      "\n",
      "name entity recognize:  O\tO\tO\tO\tS-Nh\tO\tO\tO\tO\tO\tO\tO\tO\tO\tO\tO\tO\tO\tO\tO\tO\tO\tO\tO\tO\tO\tO\tO\tO\tO\tO\tO\tO\tO\tO \n",
      "\n",
      "gramer analysis: 2:ATT\t7:ATT\t7:ATT\t3:RAD\t6:ATT\t7:ATT\t8:SBV\t0:HED\t8:VOB\t8:WP\t13:ATT\t11:RAD\t17:SBV\t17:ADV\t14:POB\t15:VOB\t8:COO\t17:WP\t21:ATT\t19:RAD\t25:ATT\t25:ATT\t25:ATT\t23:RAD\t17:COO\t17:WP\t28:ATT\t31:SBV\t30:ATT\t31:ADV\t34:ATT\t33:ATT\t31:POB\t17:COO\t8:WP \n",
      "\n",
      "\n",
      "如果派件费上调０．１５元／件，每天可增加收入十几元。 \n",
      "\n",
      "cut words:  如果 派件费 上调 ０．１５ 元／件 ， 每天 可 增加 收入 十几 元 。 \n",
      "\n",
      "words attributes tag:  c n v m q wp r v v n m q wp \n",
      "\n",
      "name entity recognize:  O\tO\tO\tO\tO\tO\tO\tO\tO\tO\tO\tO\tO \n",
      "\n",
      "gramer analysis: 3:ADV\t3:SBV\t0:HED\t5:ATT\t3:VOB\t3:WP\t9:ADV\t9:ADV\t3:COO\t12:ATT\t12:ATT\t9:VOB\t3:WP \n",
      "\n",
      "\n",
      "按照中国物流与采购联合会发布的《２０１７年中国电商物流与快递从业人员调查结果》，七成左右的调查对象月收入水平在３０００元至６０００元之间，只有４８％的人表示将继续从事这份工作，电商物流与快递人员的队伍稳定性有待加强。 \n",
      "\n",
      "cut words:  按照 中国 物流 与 采购 联合会 发布 的 《 ２０１７年 中国 电商 物流 与 快递 从业 人员 调查 结果 》 ， 七 成 左右 的 调查 对象 月 收入 水平 在 ３０００ 元 至 ６０００ 元 之间 ， 只 有 ４８％ 的 人 表示 将 继续 从事 这 份 工作 ， 电商 物流 与 快递 人员 的 队伍 稳定性 有待 加强 。 \n",
      "\n",
      "words attributes tag:  p ns n c v n v u wp nt ns j j p v b n v n wp wp m q m u v n n n n p m q p m q nd wp d v m u n v d v v r q n wp n n p v n u n n v v wp \n",
      "\n",
      "name entity recognize:  O\tB-Ni\tI-Ni\tI-Ni\tI-Ni\tE-Ni\tO\tO\tO\tO\tB-Ni\tI-Ni\tE-Ni\tO\tO\tO\tO\tO\tO\tO\tO\tO\tO\tO\tO\tO\tO\tO\tO\tO\tO\tO\tO\tO\tO\tO\tO\tO\tO\tO\tO\tO\tO\tO\tO\tO\tO\tO\tO\tO\tO\tO\tO\tO\tO\tO\tO\tO\tO\tO\tO\tO \n",
      "\n",
      "gramer analysis: 44:ADV\t3:ATT\t6:ATT\t5:LAD\t3:COO\t7:SBV\t19:ATT\t7:RAD\t19:WP\t19:ATT\t13:ATT\t13:ATT\t19:ATT\t19:ATT\t17:ATT\t17:ATT\t14:POB\t19:ATT\t1:POB\t19:WP\t1:WP\t23:ATT\t30:ATT\t23:RAD\t23:RAD\t27:ATT\t28:ATT\t29:ATT\t30:ATT\t44:SBV\t44:ADV\t33:ATT\t34:ADV\t37:ATT\t36:ATT\t34:POB\t31:POB\t31:WP\t40:ADV\t43:ATT\t40:VOB\t40:RAD\t44:SBV\t0:HED\t46:ADV\t44:VOB\t46:COO\t49:ATT\t50:ATT\t47:VOB\t47:WP\t53:ATT\t60:SBV\t59:LAD\t56:ATT\t59:ATT\t56:RAD\t59:ATT\t53:COO\t47:COO\t60:VOB\t44:WP \n",
      "\n",
      "\n",
      "不过，此次上调的派件费能不能完全落到快递员手里，还存在不确定性。 \n",
      "\n",
      "cut words:  不过 ， 此次 上调 的 派件费 能 不 能 完全 落 到 快递员 手里 ， 还 存在 不确定性 。 \n",
      "\n",
      "words attributes tag:  c wp r v u n v d v a v v n nl wp d v n wp \n",
      "\n",
      "name entity recognize:  O\tO\tO\tO\tO\tO\tO\tO\tO\tO\tO\tO\tO\tO\tO\tO\tO\tO\tO \n",
      "\n",
      "gramer analysis: 11:ADV\t1:WP\t4:ADV\t6:ATT\t4:RAD\t11:SBV\t11:ADV\t9:ADV\t11:ADV\t11:ADV\t0:HED\t11:CMP\t14:ATT\t12:POB\t11:WP\t17:ADV\t11:COO\t17:VOB\t11:WP \n",
      "\n",
      "\n",
      "因为对于加盟制的快递公司而言，快递员的收入由网点老板决定。 \n",
      "\n",
      "cut words:  因为 对于 加盟制 的 快递 公司 而言 ， 快递员 的 收入 由 网点 老板 决定 。 \n",
      "\n",
      "words attributes tag:  c p v u v n u wp n u n p n n v wp \n",
      "\n",
      "name entity recognize:  O\tO\tO\tO\tO\tO\tO\tO\tO\tO\tO\tO\tO\tO\tO\tO \n",
      "\n",
      "gramer analysis: 15:ADV\t15:ADV\t6:ATT\t3:RAD\t6:ATT\t2:POB\t2:RAD\t2:WP\t11:ATT\t9:RAD\t15:FOB\t15:ADV\t14:ATT\t12:POB\t0:HED\t15:WP \n",
      "\n",
      "\n",
      "一位快递员向记者表示，网点内部还没有通知派件费上调的事情。 \n",
      "\n",
      "cut words:  一 位 快递员 向 记者 表示 ， 网点 内部 还 没有 通知 派件费 上调 的 事情 。 \n",
      "\n",
      "words attributes tag:  m q n p n v wp n nd d d v n v u n wp \n",
      "\n",
      "name entity recognize:  O\tO\tO\tO\tO\tO\tO\tO\tO\tO\tO\tO\tO\tO\tO\tO\tO \n",
      "\n",
      "gramer analysis: 2:ATT\t3:ATT\t6:SBV\t6:ADV\t4:POB\t0:HED\t6:WP\t9:ATT\t12:SBV\t11:ADV\t12:ADV\t6:VOB\t14:SBV\t12:VOB\t14:RAD\t12:VOB\t6:WP \n",
      "\n",
      "\n",
      "“希望网点能多多体现我们跑腿的价值。” \n",
      "\n",
      "cut words:  “ 希望 网点 能 多多 体现 我们 跑 腿 的 价值 。 ” \n",
      "\n",
      "words attributes tag:  wp v n v d v r v n u n wp wp \n",
      "\n",
      "name entity recognize:  O\tO\tO\tO\tO\tO\tO\tO\tO\tO\tO\tO\tO \n",
      "\n",
      "gramer analysis: 2:WP\t0:HED\t6:SBV\t6:ADV\t6:ADV\t2:VOB\t8:SBV\t11:ATT\t8:VOB\t8:RAD\t6:VOB\t2:WP\t2:WP \n",
      "\n",
      "\n",
      "（小标题）是否涉嫌垄断？ \n",
      "\n",
      "cut words:  （ 小标题 ） 是否 涉嫌 垄断 ？ \n",
      "\n",
      "words attributes tag:  wp n wp v v v wp \n",
      "\n",
      "name entity recognize:  O\tO\tO\tO\tO\tO\tO \n",
      "\n",
      "gramer analysis: 2:WP\t5:SBV\t2:WP\t5:ADV\t0:HED\t5:VOB\t5:WP \n",
      "\n",
      "\n",
      "由此来看，快递公司提高派件费，有利于改变收件和派件业务旱涝不均的格局，稳住一些以派件为主的基层网点，这对行业的健康发展是有利的。 \n",
      "\n",
      "cut words:  由此 来 看 ， 快递 公司 提高 派件费 ， 有利于 改变 收件 和 派件 业务 旱 涝 不 均 的 格局 ， 稳住 一些 以 派 件 为主 的 基层 网点 ， 这 对 行业 的 健康 发展 是 有利 的 。 \n",
      "\n",
      "words attributes tag:  d v v wp v n v n wp v v n c n n a v d a u n wp v m p v n v u n n wp r p n u a v v a u wp \n",
      "\n",
      "name entity recognize:  O\tO\tO\tO\tO\tO\tO\tO\tO\tO\tO\tO\tO\tO\tO\tO\tO\tO\tO\tO\tO\tO\tO\tO\tO\tO\tO\tO\tO\tO\tO\tO\tO\tO\tO\tO\tO\tO\tO\tO\tO\tO \n",
      "\n",
      "gramer analysis: 3:ADV\t3:ADV\t0:HED\t3:WP\t6:ATT\t7:SBV\t3:VOB\t7:VOB\t7:WP\t7:COO\t10:VOB\t21:ATT\t15:LAD\t15:ATT\t16:SBV\t12:COO\t16:COO\t19:ADV\t16:COO\t16:RAD\t11:VOB\t10:WP\t10:COO\t31:ATT\t28:ADV\t25:POB\t26:VOB\t31:ATT\t28:RAD\t31:ATT\t23:VOB\t7:WP\t39:SBV\t39:ADV\t37:ATT\t35:RAD\t38:ADV\t34:POB\t7:COO\t39:VOB\t40:RAD\t3:WP \n",
      "\n",
      "\n",
      "但与此同时，快递公司的集体上调也引来市场的怀疑：这种行为背后，是不是经过事先的沟通协商？ \n",
      "\n",
      "cut words:  但 与此同时 ， 快递 公司 的 集体 上调 也 引来 市场 的 怀疑 ： 这种 行为 背后 ， 是 不 是 经过 事先 的 沟通 协商 ？ \n",
      "\n",
      "words attributes tag:  c c wp v n u n v d v n u v wp r n nd wp v d v p nt u v v wp \n",
      "\n",
      "name entity recognize:  O\tO\tO\tO\tO\tO\tO\tO\tO\tO\tO\tO\tO\tO\tO\tO\tO\tO\tO\tO\tO\tO\tO\tO\tO\tO\tO \n",
      "\n",
      "gramer analysis: 10:ADV\t10:ADV\t2:WP\t5:ATT\t7:ATT\t5:RAD\t8:SBV\t10:SBV\t10:ADV\t0:HED\t13:ATT\t11:RAD\t10:VOB\t13:WP\t16:ATT\t17:ATT\t19:SBV\t17:WP\t13:VOB\t21:ADV\t19:COO\t21:VOB\t25:ATT\t23:RAD\t22:POB\t25:COO\t10:WP \n",
      "\n",
      "\n",
      "如果属实，是不是有限制竞争和横向垄断的嫌疑？ \n",
      "\n",
      "cut words:  如果 属实 ， 是 不 是 有 限制 竞争 和 横向 垄断 的 嫌疑 ？ \n",
      "\n",
      "words attributes tag:  c v wp v d v v v v c n v u n wp \n",
      "\n",
      "name entity recognize:  O\tO\tO\tO\tO\tO\tO\tO\tO\tO\tO\tO\tO\tO\tO \n",
      "\n",
      "gramer analysis: 2:ADV\t0:HED\t2:WP\t2:COO\t6:ADV\t4:COO\t6:VOB\t14:ATT\t8:VOB\t12:LAD\t12:ADV\t9:COO\t8:RAD\t7:VOB\t2:WP \n",
      "\n",
      "\n",
      "兴业证券的报告就指出，在这次集体提价中，“快递公司之间的默契超出预期”。 \n",
      "\n",
      "cut words:  兴业 证券 的 报告 就 指出 ， 在 这 次 集体 提价 中 ， “ 快递 公司 之间 的 默契 超出 预期 ” 。 \n",
      "\n",
      "words attributes tag:  nz n u n d v wp p r q n v nd wp wp v n nd u a v v wp wp \n",
      "\n",
      "name entity recognize:  O\tO\tO\tO\tO\tO\tO\tO\tO\tO\tO\tO\tO\tO\tO\tO\tO\tO\tO\tO\tO\tO\tO\tO \n",
      "\n",
      "gramer analysis: 2:ATT\t4:ATT\t2:RAD\t6:SBV\t6:ADV\t0:HED\t6:WP\t21:ADV\t10:ATT\t12:ADV\t12:ADV\t13:ATT\t8:POB\t8:WP\t21:WP\t17:ATT\t18:ATT\t20:ATT\t18:RAD\t21:ADV\t6:VOB\t21:VOB\t21:WP\t6:WP \n",
      "\n",
      "\n",
      "而几家公司同时提费，“也可以增加转嫁成本的成功率”。 \n",
      "\n",
      "cut words:  而 几 家 公司 同时 提费 ， “ 也 可以 增加 转嫁 成本 的 成功率 ” 。 \n",
      "\n",
      "words attributes tag:  c m q n d v wp wp d v v v n u n wp wp \n",
      "\n",
      "name entity recognize:  O\tO\tO\tO\tO\tO\tO\tO\tO\tO\tO\tO\tO\tO\tO\tO\tO \n",
      "\n",
      "gramer analysis: 6:ADV\t3:ATT\t4:ATT\t6:SBV\t6:ADV\t0:HED\t6:WP\t11:WP\t10:ADV\t11:ADV\t6:COO\t15:ATT\t12:VOB\t12:RAD\t11:VOB\t11:WP\t6:WP \n",
      "\n",
      "\n",
      "“这个消息出来后，我私下问过一些快递公司，他们回复说没有协商，称这是行业的一致诉求。” \n",
      "\n",
      "cut words:  “ 这个 消息 出来 后 ， 我 私下 问 过 一些 快递 公司 ， 他们 回复 说 没有 协商 ， 称 这 是 行业 的 一致 诉求 。 ” \n",
      "\n",
      "words attributes tag:  wp r n v nd wp r d v u m v n wp r v v d v wp v r v n u a v wp wp \n",
      "\n",
      "name entity recognize:  O\tO\tO\tO\tO\tO\tO\tO\tO\tO\tO\tO\tO\tO\tO\tO\tO\tO\tO\tO\tO\tO\tO\tO\tO\tO\tO\tO\tO \n",
      "\n",
      "gramer analysis: 5:WP\t3:ATT\t4:SBV\t5:ATT\t9:ADV\t5:WP\t9:SBV\t9:ADV\t0:HED\t9:RAD\t13:ATT\t13:ATT\t9:VOB\t9:WP\t16:SBV\t9:COO\t16:COO\t17:VOB\t18:VOB\t16:WP\t16:COO\t23:SBV\t21:VOB\t27:ATT\t24:RAD\t27:ATT\t23:VOB\t9:WP\t9:WP \n",
      "\n",
      "\n",
      "一位快递业资深人士告诉记者，今年春节后部分快递网点出现“爆仓”，“三通一达”的高管纷纷赴网点调研，这次提价应该是调研的结果。 \n",
      "\n",
      "cut words:  一 位 快递业 资深 人士 告诉 记者 ， 今年 春节 后 部分 快递 网点 出现 “ 爆仓 ” ， “ 三通一达 ” 的 高管 纷纷 赴 网点 调研 ， 这 次 提价 应该 是 调研 的 结果 。 \n",
      "\n",
      "words attributes tag:  m q n b n v n wp nt nt nd m v n v wp v wp wp wp nz wp u n d v n v wp r q v v v v u n wp \n",
      "\n",
      "name entity recognize:  O\tO\tO\tO\tO\tO\tO\tO\tO\tO\tO\tO\tO\tO\tO\tO\tO\tO\tO\tO\tO\tO\tO\tO\tO\tO\tO\tO\tO\tO\tO\tO\tO\tO\tO\tO\tO\tO \n",
      "\n",
      "gramer analysis: 2:ATT\t5:ATT\t5:ATT\t5:ATT\t6:SBV\t0:HED\t6:IOB\t6:WP\t10:ATT\t11:ATT\t15:ADV\t14:ATT\t14:ATT\t15:SBV\t6:VOB\t17:WP\t15:VOB\t17:WP\t15:WP\t21:WP\t24:ATT\t21:WP\t21:RAD\t26:SBV\t26:ADV\t15:COO\t26:VOB\t26:COO\t15:WP\t31:ATT\t32:ATT\t34:SBV\t34:ADV\t15:COO\t37:ATT\t35:RAD\t34:VOB\t6:WP \n",
      "\n",
      "\n",
      "其实，对于快递企业来说，如果真的要借上调派件费的契机来提高快递价格，是一件非常敏感的事情。 \n",
      "\n"
     ]
    },
    {
     "name": "stdout",
     "output_type": "stream",
     "text": [
      "cut words:  其实 ， 对于 快递 企业 来说 ， 如果 真的 要 借 上调 派件费 的 契机 来 提高 快递 价格 ， 是 一 件 非常 敏感 的 事情 。 \n",
      "\n",
      "words attributes tag:  d wp p v n u wp c d v v v n u n v v v n wp v m q d a u n wp \n",
      "\n",
      "name entity recognize:  O\tO\tO\tO\tO\tO\tO\tO\tO\tO\tO\tO\tO\tO\tO\tO\tO\tO\tO\tO\tO\tO\tO\tO\tO\tO\tO\tO \n",
      "\n",
      "gramer analysis: 11:ADV\t1:WP\t11:ADV\t5:ATT\t3:POB\t3:RAD\t3:WP\t11:ADV\t11:ADV\t11:ADV\t0:HED\t13:ATT\t15:ATT\t13:RAD\t11:VOB\t17:ADV\t11:COO\t19:ATT\t17:VOB\t11:WP\t11:COO\t23:ATT\t27:ATT\t25:ADV\t27:ATT\t25:RAD\t21:VOB\t11:WP \n",
      "\n",
      "\n",
      "就在２０１６年１２月，广东省发改委对广东省惠东县５家快递公司协同涨价的行为处以６５万元的罚款。 \n",
      "\n",
      "cut words:  就 在 ２０１６年 １２月 ， 广东省 发改委 对 广东省 惠东县 ５ 家 快递 公司 协同 涨价 的 行为 处 以 ６５万 元 的 罚款 。 \n",
      "\n",
      "words attributes tag:  d p nt nt wp ns j p ns ns m q n n v v u n v p m q u n wp \n",
      "\n",
      "name entity recognize:  O\tO\tO\tO\tO\tB-Ni\tE-Ni\tO\tB-Ns\tE-Ns\tO\tO\tO\tO\tO\tO\tO\tO\tO\tO\tO\tO\tO\tO\tO \n",
      "\n",
      "gramer analysis: 2:ADV\t19:ADV\t4:ATT\t2:POB\t2:WP\t7:ATT\t16:SBV\t16:ADV\t10:ATT\t14:ATT\t12:ATT\t14:ATT\t14:ATT\t8:POB\t16:ADV\t18:ATT\t16:RAD\t19:ATT\t0:HED\t19:CMP\t22:ATT\t24:ATT\t22:RAD\t20:POB\t19:WP \n",
      "\n",
      "\n",
      "“商量着涨价是万万不行的，这是反垄断法的要义。” \n",
      "\n",
      "cut words:  “ 商量 着 涨价 是 万万 不行 的 ， 这 是 反垄断法 的 要义 。 ” \n",
      "\n",
      "words attributes tag:  wp v u v v d a u wp r v n u n wp wp \n",
      "\n",
      "name entity recognize:  O\tO\tO\tO\tO\tO\tO\tO\tO\tO\tO\tO\tO\tO\tO\tO \n",
      "\n",
      "gramer analysis: 5:WP\t5:SBV\t2:RAD\t2:VOB\t0:HED\t7:ADV\t5:VOB\t7:RAD\t5:WP\t11:SBV\t5:COO\t14:ATT\t12:RAD\t11:VOB\t5:WP\t5:WP \n",
      "\n",
      "\n",
      "刘旭表示，如果快递公司的下游加盟商、上游发件商户和终端消费者，对集体上调派件费等行为存在质疑，可以向国家发改委举报，也可以依据最高法的相关司法解释进行起诉，以维护快递市场的正常竞争秩序。 \n",
      "\n",
      "cut words:  刘旭 表示 ， 如果 快递 公司 的 下游 加盟 商 、 上游 发 件 商户 和 终端 消费者 ， 对 集体 上 调派 件费 等 行为 存在 质疑 ， 可以 向 国家 发改委 举报 ， 也 可以 依据 最高法 的 相关 司法 解释 进行 起诉 ， 以 维护 快递 市场 的 正常 竞争 秩序 。 \n",
      "\n",
      "words attributes tag:  nh v wp c v n u nd v n wp nd v q n c n n wp p n nd v n u n v v wp v p n j v wp d v p n u v n v v v wp c v v n u a v n wp \n",
      "\n",
      "name entity recognize:  S-Nh\tO\tO\tO\tO\tO\tO\tO\tO\tO\tO\tO\tO\tO\tO\tO\tO\tO\tO\tO\tO\tO\tO\tO\tO\tO\tO\tO\tO\tO\tO\tB-Ni\tE-Ni\tO\tO\tO\tO\tO\tO\tO\tO\tO\tO\tO\tO\tO\tO\tO\tO\tO\tO\tO\tO\tO\tO \n",
      "\n",
      "gramer analysis: 2:SBV\t0:HED\t2:WP\t9:ADV\t6:ATT\t8:ATT\t6:RAD\t9:SBV\t2:VOB\t9:VOB\t13:WP\t13:ADV\t9:COO\t15:ATT\t13:VOB\t18:LAD\t18:ATT\t15:COO\t9:WP\t23:ADV\t22:ATT\t20:POB\t26:ATT\t23:VOB\t23:RAD\t27:SBV\t9:COO\t27:VOB\t27:WP\t34:ADV\t34:ADV\t33:ATT\t31:POB\t27:COO\t34:WP\t37:ADV\t44:ADV\t44:ADV\t42:ATT\t39:RAD\t42:ATT\t43:ATT\t38:POB\t27:COO\t44:VOB\t44:WP\t48:ADV\t44:COO\t50:ATT\t54:ATT\t50:RAD\t54:ATT\t54:ATT\t48:VOB\t2:WP \n",
      "\n",
      "\n",
      "（参与采写：于越）（完） \n",
      "\n",
      "cut words:  （ 参与 采写 ： 于 越 ） （ 完 ） \n",
      "\n",
      "words attributes tag:  wp v v wp p nt wp wp v wp \n",
      "\n",
      "name entity recognize:  O\tO\tO\tO\tO\tO\tO\tO\tO\tO \n",
      "\n",
      "gramer analysis: 2:WP\t0:HED\t2:VOB\t2:WP\t2:CMP\t5:POB\t5:WP\t9:WP\t5:RAD\t9:WP \n",
      "\n",
      "\n"
     ]
    }
   ],
   "source": [
    "content = random.choice(news['content'])\n",
    "contents_process(content)"
   ]
  },
  {
   "cell_type": "raw",
   "metadata": {},
   "source": [
    "content = '元芳你怎么看？我就趴窗口上看呗！'\n",
    "print(content)\n",
    "contents_process(content)"
   ]
  },
  {
   "cell_type": "code",
   "execution_count": 5,
   "metadata": {},
   "outputs": [],
   "source": [
    "segmentor.release()\n",
    "postagger.release()  # 释放模型\n",
    "recognizer.release()\n",
    "parser.release()"
   ]
  },
  {
   "cell_type": "raw",
   "metadata": {},
   "source": []
  },
  {
   "cell_type": "raw",
   "metadata": {},
   "source": []
  },
  {
   "cell_type": "raw",
   "metadata": {},
   "source": []
  },
  {
   "cell_type": "raw",
   "metadata": {},
   "source": []
  },
  {
   "cell_type": "markdown",
   "metadata": {},
   "source": [
    "#### 词向量"
   ]
  },
  {
   "cell_type": "code",
   "execution_count": 2,
   "metadata": {},
   "outputs": [],
   "source": [
    "cutText = '/python/datasource/project/news_cut.txt'\n",
    "word2vec_file = '/python/datasource/project/news.word2vec'"
   ]
  },
  {
   "cell_type": "code",
   "execution_count": 3,
   "metadata": {},
   "outputs": [],
   "source": [
    "newsContent = []\n",
    "with open(cutText, 'r', encoding ='utf8') as f:\n",
    "    for line in f:\n",
    "        line = line.strip()\n",
    "        if not line: continue\n",
    "        newsContent.append(line)"
   ]
  },
  {
   "cell_type": "code",
   "execution_count": 1,
   "metadata": {
    "scrolled": false
   },
   "outputs": [
    {
     "name": "stderr",
     "output_type": "stream",
     "text": [
      "D:\\ProgramData\\Anaconda3\\lib\\site-packages\\gensim\\utils.py:1197: UserWarning: detected Windows; aliasing chunkize to chunkize_serial\n",
      "  warnings.warn(\"detected Windows; aliasing chunkize to chunkize_serial\")\n"
     ]
    }
   ],
   "source": [
    "import gensim\n",
    "from gensim.models import Word2Vec\n",
    "from gensim.models.word2vec import LineSentence"
   ]
  },
  {
   "cell_type": "code",
   "execution_count": 3,
   "metadata": {},
   "outputs": [
    {
     "name": "stderr",
     "output_type": "stream",
     "text": [
      "D:\\ProgramData\\Anaconda3\\lib\\site-packages\\smart_open\\smart_open_lib.py:398: UserWarning: This function is deprecated, use smart_open.open instead. See the migration notes for details: https://github.com/RaRe-Technologies/smart_open/blob/master/README.rst#migrating-to-the-new-open-function\n",
      "  'See the migration notes for details: %s' % _MIGRATION_NOTES_URL\n"
     ]
    }
   ],
   "source": [
    "wiki_news = open(cutText, 'r',encoding='utf-8')\n",
    "model = Word2Vec(LineSentence(wiki_news),sg=0, size=300, window=5,min_count=5, workers=5)\n",
    "model.save(word2vec_file)"
   ]
  },
  {
   "cell_type": "code",
   "execution_count": 13,
   "metadata": {},
   "outputs": [
    {
     "name": "stderr",
     "output_type": "stream",
     "text": [
      "D:\\ProgramData\\Anaconda3\\lib\\site-packages\\smart_open\\smart_open_lib.py:398: UserWarning: This function is deprecated, use smart_open.open instead. See the migration notes for details: https://github.com/RaRe-Technologies/smart_open/blob/master/README.rst#migrating-to-the-new-open-function\n",
      "  'See the migration notes for details: %s' % _MIGRATION_NOTES_URL\n"
     ]
    }
   ],
   "source": [
    "model = Word2Vec.load(word2vec_file)"
   ]
  },
  {
   "cell_type": "code",
   "execution_count": 16,
   "metadata": {},
   "outputs": [],
   "source": [
    "model.wv.most_similar?"
   ]
  },
  {
   "cell_type": "code",
   "execution_count": 35,
   "metadata": {},
   "outputs": [],
   "source": [
    "text = model.wv.most_similar('说', topn = 500)"
   ]
  },
  {
   "cell_type": "code",
   "execution_count": 37,
   "metadata": {
    "collapsed": true
   },
   "outputs": [
    {
     "name": "stdout",
     "output_type": "stream",
     "text": [
      "'表示', '告诉', '认为', '指出', '说完', '坦言', '看来', '称', '明说', '中说', '所说', '介绍', '时说', '透露', '强调', '文说', '写道', '的话', '说道', '建议', '陈说', '说法', '问', '纳说', '地说', '提到', '声称', '称赞', '深有体会', '道', '设想', '直言', '解释', '中称', '相信', '呼吁', '说会', '担心', '写信给', '墨方', '肖凤祥', '深知', '赛义夫', '中国外交部', '兼', '在我看来', '证实', '眼中', '资深', '宣称', '清楚', '还称', '回答', '尼说', '说据', '技术主管', '估计', '来说', '十年如一日', '说出', '承认', '觉得', '知道', '形容', '郑继永说', '罗说', '特别强调', '拉玛', '毫不讳言', '感谢', '坚信', '提及', '非常重视', '战火纷飞', '副', '谈到', '申明', '感慨', '秦晓雯', '为什么', '普遍认为', '拼命三郎', '表明', '镐', '主管', '看法', '援引', '供词', '丹说', '知晓', '首席', '看出', '流利地', '感兴趣', '看到', '基说', '丁说', '批评', '说明', '伊玛', '想法', '曼说', '推文称', '表示感谢', '描述', '重申', '得知', '对此', '告诫', '条法司', '要说', '沉得住气', '称该', '光火', '时称', '八面玲珑', '森说', '指责', '人才济济', '坦承', '列举', '李锦说', '肯定', '引用', '并称', '如是说', '正如', '部副', '预料', '舍恩', '确信', '及其', '所指', '滔滔不绝', '敦促', '戴比', '主任', '高级', '八竿子打不着', '表态', '现阶段', '说来', '帮', '海峡两岸关系协会', '而言', '财政司', '办公室', '什说', '首先', '断定', '理解', '供图', '梅利莎', '因斯', '明白', '坚称', '韦达', '提醒', '字幕组', '司', '坚说', '奇说', '助理', '泰山北斗', '俄罗斯外交部', '暗示', '聊起', '苏珊娜', '提出', '了然于心', '炒掉', '啸虎', '斯坎纳', '颇深', '一方面', '罗宇', '事实上', '打定主意', '提议', '伊丹', '黄进', '预料到', '一句', '所在', '却说', '王俪桦', '说错', '担任', '亲眼所见', '推测', '期待', '以为', '讲', '董', '感到', '当过', '访', '称向', '一份', '想到', '是因为', '或许', '抨击', '夸奖', '认识', '学成回国', '纷纷表示', '为此', '猜测', '记得', '请问', '经济学', '腹背受敌', '俄总统', '说瓦姆', '早就', '预测', '给出', '见到', '开门见山', '三军', '说菲', '说服', '毛有', '黄着', '局长', '呢', '大发雷霆', '居心', '非常感谢', '研究生院', '但是', '预见', '海涛', '库什', '托说', '事务', '高度评价', '胥', 'WilburRoss', '劝', '做法', '大加', '供认', '开栏', '婆罗洲', '乏人问津', '深有感触', '指望', '自称', '事务部', '兼任', '常任', '这令', '政务司', '不过', '反问', '埃斯', '恼羞成怒', '洛说', '弗雷泽', '家计', '常务', '听说', '志军', '现在', '地称', '谈论', '协调局', '成绩优秀', '主张', '转达', '劝告', '称呼', '接受', '当面', 'JBS', '说文', '教授', '女婿', '觉民', '谢国程', '表述', '现任', '发言人', '哈菲兹', '评述', '感叹', '伊特', '安说', '格说', '答道', '至关重要', '科纳申', '每天花', '感激', '强调指出', '弗劳克', '库尔特', '部长', '否认', '斯说', '辩称', '出面', '口中', '王东明', '瓦夫', '吗', '高级顾问', '本人', '特意', '很感兴趣', '只不过', '德说', '邓洪说', '有何', '陆慷说', '一切顺利', '尼格', '巴兰', '学会', '道格拉斯', '上称', '智囊团', '局原', '发誓', '原话', '巴兹', '负责', '叛国', '福尔', '很大', '约翰', '获悉', '秘书', '宾夕法尼亚大学', '克说', '叮嘱', '澄清', '作者', '卡里姆', '起版部', '阿塔', '布拉德', '质问', '干涉', '阿伦', '特别感谢', '非常高兴', '下定决心', '催', '工程师', '一峰', '弗雷德里克', '当然', '信心', '律师', '特说', '邓', '身兼数职', '指认', '归功于', '显然', '颇感兴趣', '斯托尔', '穆欣', '毫不', '尽管', '领事部', '张荣', '发怒', '举动', '天来', '伊隆', '振声', '美国华人', '意料', '研究室', '巴蒂斯塔', '说到底', '希望', '行政院', '另一方面', '因为', '扎尔', '西蒙说', '长桑尼珀', '充满信心', '此行', '王丽', '奉劝', '国防部', '错误行为', '数学界', '名誉', '替', '任命', '科斯特', '全国人大常委会法制工作委员会', '托尔加', '佩特里', '美国康奈尔大学', '希说', '三思', '十分关心', '人财物', '曾任', '秘书长', '观点', '国际电信联盟', '亚自联', '确实', '叶海亚', '对瓦姆', '明确指出', '客座', '一本正经', '事情', '彩霞', '浠水县', '国际关系学院', '回击', '怀疑', '国台办', '忘记', '外祖父', '加利福尼亚大学洛杉矶分校', '乔恩', '到时候', '助手', '信任', '徐开', '令人心寒', '瓦茨', '国务院发展研究中心', '此访', '免责', '讨薪', '祁', '罗布', '宋娜', '非常', '吉姆', '山上山下', '国务院台办', '干什么', '身为', '回忆起', '农艺师', '伊原', '叫', '致以', '看待', '没道理', '高佑思', '宽慰', '斯帕尔', '称梅', '坏事', '算作', '构想', '朝鲜外务省', '塞维奇', '翻译', '建国', '导师', '期望', '法伊', '询问', '欣喜', '恐怕', '诺比', '对待', '负有责任', '赞叹不已', '预言', '拉普', '迷上', '官', '热罗姆', '驻站', '戴维', '谈起', '反病毒', '埋单', '赖', '特别', '据信', '相熟', '深表', '率性', '撰写', '赞不绝口', '郑军', '承担责任', '至于', '邮政编码', '滕', '谴责', '提说', "
     ]
    }
   ],
   "source": [
    "for t, v in text:\n",
    "    print(\"'\",t,\"'\", end=', ', sep='')"
   ]
  },
  {
   "cell_type": "code",
   "execution_count": 45,
   "metadata": {
    "scrolled": true
   },
   "outputs": [],
   "source": [
    "key_word = ['说','表示', '告诉', '认为', '指出', '坦言', '看来', '称', '介绍',  '透露', '强调',  '写道', '话', '建议',  '问', '提到', '声称', '称赞', '深有体会', '道', '设想', '直言', '解释', '称', '相信', '呼吁', '担心', '写信给', '深知', '在我看来', '证实', '眼中', '资深', '宣称', '清楚', '还称', '回答',  '估计', '来说','承认', '觉得', '特别强调',  '毫不讳言',  '坚信', '提及', '非常重视', '谈到', '申明', '感慨', '普遍认为','表明', '看法', '援引', '供词',  '知晓',  '批评','想法',  '描述', '重申','告诫', '指责',  '坦承','李锦说', '如是说', '敦促', '表态', '断定', '理解', '坚称',  '提醒']"
   ]
  },
  {
   "cell_type": "code",
   "execution_count": 46,
   "metadata": {},
   "outputs": [
    {
     "data": {
      "text/plain": [
       "70"
      ]
     },
     "execution_count": 46,
     "metadata": {},
     "output_type": "execute_result"
    }
   ],
   "source": [
    "len(key_word)"
   ]
  },
  {
   "cell_type": "code",
   "execution_count": 62,
   "metadata": {},
   "outputs": [],
   "source": [
    "content = news['content']"
   ]
  },
  {
   "cell_type": "code",
   "execution_count": 67,
   "metadata": {},
   "outputs": [],
   "source": [
    "news_content = []\n",
    "news_key = []\n",
    "id = []\n",
    "for i, t in enumerate(content):\n",
    "    for k in key_word:\n",
    "        t = str(t)\n",
    "        if k in t:\n",
    "            news_content.append(t)\n",
    "            news_key.append(k)\n",
    "            id.append(i)\n",
    "            break"
   ]
  },
  {
   "cell_type": "code",
   "execution_count": 84,
   "metadata": {},
   "outputs": [],
   "source": [
    "exact_news_file = '/python/datasource/project/extract_news.csv'"
   ]
  },
  {
   "cell_type": "code",
   "execution_count": 71,
   "metadata": {},
   "outputs": [],
   "source": [
    "data = pd.DataFrame({'id':id, 'news':news_content, 'key':news_key})\n",
    "data.to_csv(exact_news_file,encoding = 'utf8')"
   ]
  },
  {
   "cell_type": "code",
   "execution_count": 85,
   "metadata": {
    "scrolled": false
   },
   "outputs": [
    {
     "name": "stdout",
     "output_type": "stream",
     "text": [
      "content\n",
      "id\n",
      "source\n"
     ]
    }
   ],
   "source": [
    "exact_news = pd.read_csv(exact_news_file, encoding = 'utf8')\n",
    "exact_news = cut_content.loc[:, ~cut_content.columns.str.contains('^Unnamed')]\n",
    "\n",
    "for c in exact_news:\n",
    "    print(c)"
   ]
  },
  {
   "cell_type": "code",
   "execution_count": null,
   "metadata": {},
   "outputs": [],
   "source": []
  }
 ],
 "metadata": {
  "kernelspec": {
   "display_name": "Python 3",
   "language": "python",
   "name": "python3"
  },
  "language_info": {
   "codemirror_mode": {
    "name": "ipython",
    "version": 3
   },
   "file_extension": ".py",
   "mimetype": "text/x-python",
   "name": "python",
   "nbconvert_exporter": "python",
   "pygments_lexer": "ipython3",
   "version": "3.6.5"
  }
 },
 "nbformat": 4,
 "nbformat_minor": 2
}
