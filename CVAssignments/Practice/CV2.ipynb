{
 "cells": [
  {
   "cell_type": "code",
   "execution_count": 16,
   "metadata": {},
   "outputs": [],
   "source": [
    "import cv2\n",
    "import numpy as np"
   ]
  },
  {
   "cell_type": "code",
   "execution_count": 17,
   "metadata": {},
   "outputs": [],
   "source": [
    "def showImg(imgIn,name=['Test']):\n",
    "    data = zip(imgIn,name)\n",
    "    print(type(data))\n",
    "    while True:\n",
    "        for img,name in data:\n",
    "            print(img.shape,name)\n",
    "            #print(name)\n",
    "            cv2.imshow(name,img)\n",
    "        key = cv2.waitKey()\n",
    "        print(key,end=' ')\n",
    "        if key == 27 or key == ord('q'):\n",
    "            cv2.destroyAllWindows()\n",
    "            break"
   ]
  },
  {
   "cell_type": "code",
   "execution_count": 18,
   "metadata": {
    "scrolled": false
   },
   "outputs": [
    {
     "name": "stdout",
     "output_type": "stream",
     "text": [
      "<class 'zip'>\n",
      "(650, 650, 3) Test\n",
      "27 "
     ]
    }
   ],
   "source": [
    "img = cv2.imread('D:/python/datasource/picture.jpg')\n",
    "showImg([img]);"
   ]
  },
  {
   "cell_type": "markdown",
   "metadata": {},
   "source": [
    "#### Gaussian Kernel Effect"
   ]
  },
  {
   "cell_type": "code",
   "execution_count": 11,
   "metadata": {
    "scrolled": true
   },
   "outputs": [
    {
     "name": "stdout",
     "output_type": "stream",
     "text": [
      "<class 'zip'>\n",
      "(650, 650, 3) Gaussian\n",
      "(650, 650, 3) Origian\n",
      "113 "
     ]
    }
   ],
   "source": [
    "gaussImg = cv2.GaussianBlur(img,(7,7),5)\n",
    "showImg([gaussImg,img],['Gaussian','Origian'])"
   ]
  },
  {
   "cell_type": "raw",
   "metadata": {},
   "source": [
    "cv2.GaussianBlur?"
   ]
  },
  {
   "cell_type": "raw",
   "metadata": {},
   "source": [
    "def gaussEffect(img,kernel,padding)"
   ]
  },
  {
   "cell_type": "code",
   "execution_count": 14,
   "metadata": {},
   "outputs": [
    {
     "name": "stdout",
     "output_type": "stream",
     "text": [
      "<class 'zip'>\n",
      "(650, 650, 3) Gaussian\n",
      "(650, 650, 3) Origian\n",
      "113 "
     ]
    }
   ],
   "source": [
    "gaussImg = cv2.GaussianBlur(img,(17,17),5)\n",
    "showImg([gaussImg,img],['Gaussian','Origian'])"
   ]
  },
  {
   "cell_type": "code",
   "execution_count": 16,
   "metadata": {},
   "outputs": [
    {
     "name": "stdout",
     "output_type": "stream",
     "text": [
      "<class 'zip'>\n",
      "(650, 650, 3) Gaussian\n",
      "(650, 650, 3) Origian\n",
      "113 "
     ]
    }
   ],
   "source": [
    "gaussImg = cv2.GaussianBlur(img,(7,7),1)\n",
    "showImg([gaussImg,img],['Gaussian','Origian'])"
   ]
  },
  {
   "cell_type": "code",
   "execution_count": 23,
   "metadata": {
    "collapsed": true
   },
   "outputs": [
    {
     "name": "stdout",
     "output_type": "stream",
     "text": [
      "[[0.13566701]\n",
      " [0.14276841]\n",
      " [0.14720646]\n",
      " [0.14871625]\n",
      " [0.14720646]\n",
      " [0.14276841]\n",
      " [0.13566701]]\n"
     ]
    }
   ],
   "source": [
    "kernel = cv2.getGaussianKernel(7,7)\n",
    "print(kernel)"
   ]
  },
  {
   "cell_type": "code",
   "execution_count": 29,
   "metadata": {
    "scrolled": true
   },
   "outputs": [
    {
     "name": "stdout",
     "output_type": "stream",
     "text": [
      "<class 'zip'>\n",
      "(650, 650, 3) Gauss 1\n",
      "(650, 650, 3) Gauss 2\n",
      "(650, 650, 3) Original\n",
      "27 "
     ]
    }
   ],
   "source": [
    "gaussImg1 = cv2.GaussianBlur(img,(7,7),5)\n",
    "gaussImg2 = cv2.sepFilter2D(img,-1,kernel,kernel)\n",
    "showImg([gaussImg1,gaussImg2,img],['Gauss 1','Gauss 2', 'Original'])"
   ]
  },
  {
   "cell_type": "code",
   "execution_count": 21,
   "metadata": {
    "scrolled": true
   },
   "outputs": [
    {
     "name": "stdout",
     "output_type": "stream",
     "text": [
      "<class 'zip'>\n",
      "(650, 650, 3) Lap img\n",
      "(650, 650, 3) original\n",
      "27 "
     ]
    }
   ],
   "source": [
    "#双边缘效果\n",
    "kernel_lap = np.array([[0,1,0],[1,-4,1],[0,1,0]],np.float32)\n",
    "lap_img = cv2.filter2D(img,-1,kernel = kernel_lap)\n",
    "showImg([lap_img,img],['Lap img','original'])"
   ]
  },
  {
   "cell_type": "markdown",
   "metadata": {},
   "source": [
    "#### 图像锐化，模糊"
   ]
  },
  {
   "cell_type": "code",
   "execution_count": 24,
   "metadata": {},
   "outputs": [
    {
     "name": "stdout",
     "output_type": "stream",
     "text": [
      "<class 'zip'>\n",
      "(650, 650, 3) Lap Img\n",
      "(650, 650, 3) originam\n",
      "27 "
     ]
    }
   ],
   "source": [
    "kernelSharp = np.array([[0,1,0],[1,-3,1],[0,1,0]],np.float32)\n",
    "lapImg = cv2.filter2D(img,-1,kernel = kernelSharp)\n",
    "showImg([lapImg,img],['Lap Img','originam'])"
   ]
  },
  {
   "cell_type": "markdown",
   "metadata": {},
   "source": [
    "#### 锐化，保留清晰度"
   ]
  },
  {
   "cell_type": "code",
   "execution_count": 28,
   "metadata": {},
   "outputs": [
    {
     "name": "stdout",
     "output_type": "stream",
     "text": [
      "<class 'zip'>\n",
      "(650, 650, 3) Lap Img\n",
      "(650, 650, 3) originam\n",
      "27 "
     ]
    }
   ],
   "source": [
    "kernelSharp = np.array([[0,-1,0],[-1,5,-1],[0,-1,0]],np.float32)\n",
    "lapImg = cv2.filter2D(img,-1,kernel = kernelSharp)\n",
    "showImg([lapImg,img],['Lap Img','originam'])"
   ]
  },
  {
   "cell_type": "markdown",
   "metadata": {},
   "source": [
    "#### 更凶猛的边缘"
   ]
  },
  {
   "cell_type": "code",
   "execution_count": 27,
   "metadata": {
    "scrolled": true
   },
   "outputs": [
    {
     "name": "stdout",
     "output_type": "stream",
     "text": [
      "<class 'zip'>\n",
      "(650, 650, 3) Lap Img\n",
      "(650, 650, 3) originam\n",
      "27 "
     ]
    }
   ],
   "source": [
    "kernel_sharp = np.array([[1,1,1],[1,-8,1],[1,1,1]], np.float32)\n",
    "lapImg = cv2.filter2D(img,-1,kernel = kernelSharp)\n",
    "showImg([lapImg,img],['Lap Img','originam'])"
   ]
  },
  {
   "cell_type": "markdown",
   "metadata": {},
   "source": [
    "#### Edge"
   ]
  },
  {
   "cell_type": "code",
   "execution_count": 39,
   "metadata": {},
   "outputs": [
    {
     "name": "stdout",
     "output_type": "stream",
     "text": [
      "<class 'zip'>\n",
      "(650, 650, 3) sharp x img\n",
      "(650, 650, 3) original\n",
      "27 "
     ]
    }
   ],
   "source": [
    "# x axis\n",
    "edgex = np.array([[-1,-2,-1],[0,0,0],[1,2,1]], np.float32)\n",
    "sharpy_img = cv2.filter2D(img,-1,kernel = edgex)\n",
    "showImg([sharpy_img,img],['sharp x img','original'])"
   ]
  },
  {
   "cell_type": "code",
   "execution_count": 40,
   "metadata": {},
   "outputs": [
    {
     "name": "stdout",
     "output_type": "stream",
     "text": [
      "<class 'zip'>\n",
      "(650, 650, 3) sharp y img\n",
      "(650, 650, 3) original\n",
      "27 "
     ]
    }
   ],
   "source": [
    "# y axis\n",
    "edgey = np.array([[-1,0,1],[-2,0,2],[-1,0,1]],np.float32)\n",
    "sharpy_img = cv2.filter2D(img,-1,kernel = edgey)\n",
    "showImg([sharpy_img,img],['sharp y img','original'])"
   ]
  },
  {
   "cell_type": "code",
   "execution_count": 47,
   "metadata": {},
   "outputs": [
    {
     "name": "stdout",
     "output_type": "stream",
     "text": [
      "<class 'zip'>\n",
      "(400, 640) harris img\n",
      "(400, 640) gray img\n",
      "(650, 650, 3) original\n",
      "27 "
     ]
    }
   ],
   "source": [
    "img = cv2.imread('D:/python/datasource/picture.jpg')\n",
    "img2 = cv2.resize(img,(640,400))\n",
    "img_gray = np.float32(cv2.cvtColor(img2,cv2.COLOR_BGR2GRAY))\n",
    "img_harris = cv2.cornerHarris(img_gray,2,3,0.05)\n",
    "showImg([img_harris,img_gray,img],['harris img','gray img','original'])"
   ]
  },
  {
   "cell_type": "code",
   "execution_count": 48,
   "metadata": {},
   "outputs": [
    {
     "name": "stdout",
     "output_type": "stream",
     "text": [
      "<class 'zip'>\n",
      "(400, 640) harris img\n",
      "(400, 640) gray img\n",
      "(650, 650, 3) original\n",
      "27 "
     ]
    }
   ],
   "source": [
    "img_harris = cv2.dilate(img_harris,None)\n",
    "showImg([img_harris,img_gray,img],['harris img','gray img','original'])"
   ]
  },
  {
   "cell_type": "code",
   "execution_count": 49,
   "metadata": {},
   "outputs": [
    {
     "name": "stdout",
     "output_type": "stream",
     "text": [
      "<class 'zip'>\n",
      "(400, 640, 3) trans\n",
      "(400, 640) img harris\n",
      "27 "
     ]
    }
   ],
   "source": [
    "thres = 0.05 * np.max(img_harris)\n",
    "img2[img_harris > thres] = [0, 0, 255]\n",
    "showImg([img2,img_harris],['trans','img harris'])"
   ]
  },
  {
   "cell_type": "code",
   "execution_count": 59,
   "metadata": {},
   "outputs": [],
   "source": [
    "cv2?"
   ]
  },
  {
   "cell_type": "code",
   "execution_count": null,
   "metadata": {},
   "outputs": [],
   "source": [
    "!python -m pip install --upgrade pip"
   ]
  },
  {
   "cell_type": "code",
   "execution_count": 60,
   "metadata": {
    "scrolled": true
   },
   "outputs": [
    {
     "name": "stderr",
     "output_type": "stream",
     "text": [
      "ERROR: Invalid requirement: '=='\n",
      "\n",
      "WARNING: You are using pip version 19.1.1, however version 19.2.1 is available.\n",
      "You should consider upgrading via the 'python -m pip install --upgrade pip' command.\n"
     ]
    }
   ],
   "source": [
    "!pip install opencv-python == 3.4.2.16"
   ]
  },
  {
   "cell_type": "code",
   "execution_count": 61,
   "metadata": {},
   "outputs": [
    {
     "name": "stderr",
     "output_type": "stream",
     "text": [
      "ERROR: Invalid requirement: '=='\n",
      "\n",
      "WARNING: You are using pip version 19.1.1, however version 19.2.1 is available.\n",
      "You should consider upgrading via the 'python -m pip install --upgrade pip' command.\n"
     ]
    }
   ],
   "source": [
    "!pip install opencv-contrib-python == 3.4.2.16"
   ]
  },
  {
   "cell_type": "markdown",
   "metadata": {},
   "source": [
    "#### SIFT"
   ]
  },
  {
   "cell_type": "code",
   "execution_count": 50,
   "metadata": {},
   "outputs": [],
   "source": [
    "img = cv2.imread('D:/python/datasource/picture.jpg')"
   ]
  },
  {
   "cell_type": "markdown",
   "metadata": {},
   "source": [
    "#### create sift class"
   ]
  },
  {
   "cell_type": "code",
   "execution_count": 53,
   "metadata": {
    "scrolled": false
   },
   "outputs": [
    {
     "ename": "AttributeError",
     "evalue": "module 'cv2.cv2' has no attribute 'xfeatures2d'",
     "output_type": "error",
     "traceback": [
      "\u001b[1;31m---------------------------------------------------------------------------\u001b[0m",
      "\u001b[1;31mAttributeError\u001b[0m                            Traceback (most recent call last)",
      "\u001b[1;32m<ipython-input-53-2247b17ceab8>\u001b[0m in \u001b[0;36m<module>\u001b[1;34m()\u001b[0m\n\u001b[1;32m----> 1\u001b[1;33m \u001b[0msift\u001b[0m \u001b[1;33m=\u001b[0m \u001b[0mcv2\u001b[0m\u001b[1;33m.\u001b[0m\u001b[0mxfeatures2d\u001b[0m\u001b[1;33m.\u001b[0m\u001b[0mSIFT_create\u001b[0m\u001b[1;33m(\u001b[0m\u001b[1;33m)\u001b[0m\u001b[1;33m\u001b[0m\u001b[0m\n\u001b[0m",
      "\u001b[1;31mAttributeError\u001b[0m: module 'cv2.cv2' has no attribute 'xfeatures2d'"
     ]
    }
   ],
   "source": [
    "sift = cv2.xfeatures2d.SIFT_create()"
   ]
  },
  {
   "cell_type": "markdown",
   "metadata": {},
   "source": [
    "#### detect SIFT"
   ]
  },
  {
   "cell_type": "code",
   "execution_count": 54,
   "metadata": {},
   "outputs": [
    {
     "ename": "NameError",
     "evalue": "name 'sift' is not defined",
     "output_type": "error",
     "traceback": [
      "\u001b[1;31m---------------------------------------------------------------------------\u001b[0m",
      "\u001b[1;31mNameError\u001b[0m                                 Traceback (most recent call last)",
      "\u001b[1;32m<ipython-input-54-0c98f14e44f6>\u001b[0m in \u001b[0;36m<module>\u001b[1;34m()\u001b[0m\n\u001b[1;32m----> 1\u001b[1;33m \u001b[0mkp\u001b[0m \u001b[1;33m=\u001b[0m \u001b[0msift\u001b[0m\u001b[1;33m.\u001b[0m\u001b[0mdetect\u001b[0m\u001b[1;33m(\u001b[0m\u001b[0mimg\u001b[0m\u001b[1;33m,\u001b[0m\u001b[1;32mNone\u001b[0m\u001b[1;33m)\u001b[0m\u001b[1;33m\u001b[0m\u001b[0m\n\u001b[0m",
      "\u001b[1;31mNameError\u001b[0m: name 'sift' is not defined"
     ]
    }
   ],
   "source": [
    "kp = sift.detect(img,None)"
   ]
  },
  {
   "cell_type": "markdown",
   "metadata": {},
   "source": [
    "#### compute SIFT descriptor"
   ]
  },
  {
   "cell_type": "code",
   "execution_count": 55,
   "metadata": {},
   "outputs": [
    {
     "ename": "NameError",
     "evalue": "name 'sift' is not defined",
     "output_type": "error",
     "traceback": [
      "\u001b[1;31m---------------------------------------------------------------------------\u001b[0m",
      "\u001b[1;31mNameError\u001b[0m                                 Traceback (most recent call last)",
      "\u001b[1;32m<ipython-input-55-2e3f3a644cda>\u001b[0m in \u001b[0;36m<module>\u001b[1;34m()\u001b[0m\n\u001b[1;32m----> 1\u001b[1;33m \u001b[0mkp\u001b[0m\u001b[1;33m,\u001b[0m\u001b[0mdes\u001b[0m \u001b[1;33m=\u001b[0m \u001b[0msift\u001b[0m\u001b[1;33m.\u001b[0m\u001b[0mcompute\u001b[0m\u001b[1;33m(\u001b[0m\u001b[0mimg\u001b[0m\u001b[1;33m,\u001b[0m\u001b[0mkp\u001b[0m\u001b[1;33m)\u001b[0m\u001b[1;33m\u001b[0m\u001b[0m\n\u001b[0m\u001b[0;32m      2\u001b[0m \u001b[0mprint\u001b[0m\u001b[1;33m(\u001b[0m\u001b[0mdes\u001b[0m\u001b[1;33m.\u001b[0m\u001b[0mshape\u001b[0m\u001b[1;33m)\u001b[0m\u001b[1;33m\u001b[0m\u001b[0m\n",
      "\u001b[1;31mNameError\u001b[0m: name 'sift' is not defined"
     ]
    }
   ],
   "source": [
    "kp,des = sift.compute(img,kp)\n",
    "print(des.shape)"
   ]
  },
  {
   "cell_type": "code",
   "execution_count": null,
   "metadata": {},
   "outputs": [],
   "source": [
    "img_sift = cv2.drawKeypoints(img,kp,outImage=np.array([]),flags = cv2.DRAW_MATCHES_FLAGS_DRAW_RICH_KEYPOINTS)\n",
    "showImg([img_sift,img],['SIFT','Original'])"
   ]
  }
 ],
 "metadata": {
  "kernelspec": {
   "display_name": "Python 3",
   "language": "python",
   "name": "python3"
  },
  "language_info": {
   "codemirror_mode": {
    "name": "ipython",
    "version": 3
   },
   "file_extension": ".py",
   "mimetype": "text/x-python",
   "name": "python",
   "nbconvert_exporter": "python",
   "pygments_lexer": "ipython3",
   "version": "3.6.4"
  }
 },
 "nbformat": 4,
 "nbformat_minor": 2
}
