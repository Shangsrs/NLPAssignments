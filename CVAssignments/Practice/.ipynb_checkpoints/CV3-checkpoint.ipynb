{
 "cells": [
  {
   "cell_type": "code",
   "execution_count": 52,
   "metadata": {},
   "outputs": [],
   "source": [
    "import numpy as np\n",
    "import random\n",
    "import matplotlib.pyplot as plt"
   ]
  },
  {
   "cell_type": "markdown",
   "metadata": {},
   "source": [
    "$y = k*x +b$"
   ]
  },
  {
   "cell_type": "raw",
   "metadata": {},
   "source": [
    "random.random()"
   ]
  },
  {
   "cell_type": "raw",
   "metadata": {},
   "source": [
    "np.random.random?"
   ]
  },
  {
   "cell_type": "raw",
   "metadata": {
    "scrolled": true
   },
   "source": [
    "np.random.random((100,4))*100"
   ]
  },
  {
   "cell_type": "code",
   "execution_count": 53,
   "metadata": {},
   "outputs": [],
   "source": [
    "k = random.random()*20 - 10\n",
    "b = random.random()*20 - 10\n",
    "def genTrainData():\n",
    "    x = np.random.random(1000)*200 - 100\n",
    "    y = (k + random.random()*2-1) * x + b + random.random()*2-1\n",
    "    return x,y"
   ]
  },
  {
   "cell_type": "raw",
   "metadata": {
    "scrolled": true
   },
   "source": [
    "x,y = genTrainData()\n",
    "plt.scatter(x,y)"
   ]
  },
  {
   "cell_type": "markdown",
   "metadata": {},
   "source": [
    "#### 二次均方值\n",
    "\n",
    "$$loss = \\frac{1}{n}\\sum_{i=0}^{n}{(y_i - \\hat y_i)^2}$$\n",
    "#### $$loss = \\frac{1}{n}\\sum_{i=0}^{n}(y_i-(kx_i+b))^2 $$\n",
    "#### $$\\frac{\\partial loss}{\\partial k} = - \\frac{2}{n} \\sum_{i=0}^{n}(y_i - (kx_i + b_i))x_i$$\n",
    "#### $$\\frac{\\partial loss}{\\partial b} = - \\frac{2}{n} \\sum_{i=0}^{n}(y_i - (kx_i + b_i))$$"
   ]
  },
  {
   "cell_type": "code",
   "execution_count": 54,
   "metadata": {},
   "outputs": [],
   "source": [
    "def diff_k_b(x, y, y_hat):\n",
    "    diff = y - y_hat\n",
    "    #print(diff)\n",
    "    delta_b = -2 / len(x) * sum(diff)\n",
    "    delta_k = -2 / len(x) * sum(np.multiply(diff,x))\n",
    "    #print('delta: ',delta_b,delta_k)\n",
    "    #print(len(x))\n",
    "    #print('x,y: ',x.shape,y.shape,y_hat.shape)\n",
    "    return delta_k, delta_b"
   ]
  },
  {
   "cell_type": "markdown",
   "metadata": {},
   "source": [
    "绝对值loss\n",
    "$$loss = \\frac{1}{n}\\sum_{i=0}^{n}{|y_i - \\hat{y_i}|}$$\n",
    "$$loss=\\frac{1}{n}\\sum_{i=0}^{n} \\begin{cases}\n",
    "y_i-(wx_i+b),&y_i > \\hat y_i \\\\ 0,&y_i = \\hat y_i \\\\\n",
    "-y_i+(wx_i+b)),&y_i < \\hat y_i\\end{cases}$$\n",
    "$$\\frac{\\partial loss}{\\partial w}=\\frac{1}{n}\\sum_{i=0}^{n} \\begin{cases}\n",
    "-x_i,&y_i > \\hat y_i \\\\ 0,&y_i = \\hat y_i \\\\\n",
    "x_i,&y_i < \\hat y_i\\end{cases}$$\n",
    "$$\\frac{\\partial loss}{\\partial b}=\\frac{1}{n}\\sum_{i=0}^{n} \\begin{cases}\n",
    "-1,&y_i >= \\hat y_i \\\\ 0,&y_i = \\hat y_i \\\\\n",
    "1,&y_i < \\hat y_i\\end{cases}$$"
   ]
  },
  {
   "cell_type": "code",
   "execution_count": 132,
   "metadata": {},
   "outputs": [],
   "source": [
    "def diff_k_b2(x,y,y_hat):\n",
    "    diff = y - y_hat\n",
    "    diff_b = diff\n",
    "    diff_b[diff > 0] = -1\n",
    "    diff_b[diff < 0] = 1\n",
    "    diff_b[diff == 0] = 0\n",
    "    #print(diff_b)\n",
    "    delta_b = 1 / len(x) * sum(diff_b)\n",
    "    delta_k = 1 / len(x) * sum(np.multiply(diff_b,x))\n",
    "    #print('delta: ',delta_b,delta_k)\n",
    "    #print(len(x))\n",
    "    #print('x,y: ',x.shape,y.shape,y_hat.shape)\n",
    "    return delta_k, delta_b"
   ]
  },
  {
   "cell_type": "markdown",
   "metadata": {},
   "source": [
    "#### 前向更新"
   ]
  },
  {
   "cell_type": "code",
   "execution_count": 56,
   "metadata": {},
   "outputs": [],
   "source": [
    "def forward(x, k, b):\n",
    "    return k * x + b"
   ]
  },
  {
   "cell_type": "code",
   "execution_count": 57,
   "metadata": {},
   "outputs": [],
   "source": [
    "def loss(x, y, k, b):\n",
    "    pred_y = forward(x, k, b)\n",
    "    return sum(np.multiply(y - pred_y,y - pred_y)) / len(y)"
   ]
  },
  {
   "cell_type": "code",
   "execution_count": 110,
   "metadata": {},
   "outputs": [],
   "source": [
    "def train_batch(batch_x, batch_y, k, b, lr):\n",
    "    y_hat = forward(batch_x, k, b)\n",
    "    delta_k, delta_b = diff_k_b(batch_x, batch_y, y_hat)\n",
    "    k -= delta_k * lr\n",
    "    b -= delta_b * lr\n",
    "    return k, b"
   ]
  },
  {
   "cell_type": "code",
   "execution_count": 126,
   "metadata": {},
   "outputs": [],
   "source": [
    "def train1(batchSize, epoch, lr = 1):\n",
    "    x,y = genTrainData()\n",
    "    #plt.scatter(x,y)\n",
    "    curr_k, curr_b = random.random()*20-10,random.random()*20-10\n",
    "    for i in range(epoch):\n",
    "        index = np.random.choice(len(x),batchSize)    \n",
    "        batch_x,batch_y = x[index],y[index]\n",
    "        curr_k, curr_b = train_batch(batch_x, batch_y, curr_k, curr_b, lr)\n",
    "        los = loss(batch_x, batch_y, curr_k, curr_b)\n",
    "    print(i,'\\t',los**0.5,'\\t', curr_k,'\\t', curr_b)\n",
    "    x_p = np.arange(-100,100,1)    \n",
    "    y_predict = curr_k * x_p + curr_b\n",
    "    plt.scatter(x,y)\n",
    "    plt.plot(x_p,y_predict,'r.')"
   ]
  },
  {
   "cell_type": "code",
   "execution_count": 153,
   "metadata": {
    "scrolled": true
   },
   "outputs": [
    {
     "name": "stdout",
     "output_type": "stream",
     "text": [
      "4999 \t 3.535920356140412 \t -10.24723379705973 \t -4.338757208054783\n"
     ]
    },
    {
     "data": {
      "image/png": "[encoded data removed]",
      "text/plain": [
       "<Figure size 432x288 with 1 Axes>"
      ]
     },
     "metadata": {
      "needs_background": "light"
     },
     "output_type": "display_data"
    }
   ],
   "source": [
    "train1(40, 5000 , 1e-5)"
   ]
  },
  {
   "cell_type": "code",
   "execution_count": 46,
   "metadata": {},
   "outputs": [],
   "source": [
    "def loss2(x, y, k, b):\n",
    "    pred_y = forward(x, k, b)\n",
    "    return sum(abs(y - pred_y)) / len(y)"
   ]
  },
  {
   "cell_type": "code",
   "execution_count": 114,
   "metadata": {},
   "outputs": [],
   "source": [
    "def train_batch2(batch_x, batch_y, k, b, lr):\n",
    "    y_hat = forward(batch_x, k, b)\n",
    "    delta_k, delta_b = diff_k_b2(batch_x, batch_y, y_hat)\n",
    "    k -= delta_k * lr\n",
    "    b -= delta_b * lr\n",
    "    return k, b"
   ]
  },
  {
   "cell_type": "code",
   "execution_count": 115,
   "metadata": {},
   "outputs": [],
   "source": [
    "def train2(batchSize, epoch, lr = 1):\n",
    "    x,y = genTrainData()\n",
    "    #plt.scatter(x,y)\n",
    "    curr_k, curr_b = random.random()*20-10,random.random()*20-10\n",
    "    for i in range(epoch):\n",
    "        index = np.random.choice(len(x),batchSize)    \n",
    "        batch_x,batch_y = x[index],y[index]\n",
    "        curr_k, curr_b = train_batch2(batch_x, batch_y, curr_k, curr_b, lr)\n",
    "        los = loss2(batch_x, batch_y, curr_k, curr_b)\n",
    "    print(i,'\\t',los,'\\t',k,'\\t',b)\n",
    "    x_p = np.arange(-100,100,1)    \n",
    "    y_predict = curr_k * x_p + curr_b\n",
    "    plt.scatter(x,y)\n",
    "    plt.plot(x_p,y_predict,'r.')"
   ]
  },
  {
   "cell_type": "code",
   "execution_count": 135,
   "metadata": {
    "scrolled": false
   },
   "outputs": [
    {
     "name": "stdout",
     "output_type": "stream",
     "text": [
      "4999 \t 79.33045360921938 \t -9.890518151461315 \t -7.36825977939781\n"
     ]
    },
    {
     "data": {
      "image/png": "[encoded data removed]",
      "text/plain": [
       "<Figure size 432x288 with 1 Axes>"
      ]
     },
     "metadata": {
      "needs_background": "light"
     },
     "output_type": "display_data"
    }
   ],
   "source": [
    "train2(40, 5000 , 1e-30)"
   ]
  }
 ],
 "metadata": {
  "kernelspec": {
   "display_name": "Python 3",
   "language": "python",
   "name": "python3"
  },
  "language_info": {
   "codemirror_mode": {
    "name": "ipython",
    "version": 3
   },
   "file_extension": ".py",
   "mimetype": "text/x-python",
   "name": "python",
   "nbconvert_exporter": "python",
   "pygments_lexer": "ipython3",
   "version": "3.7.3"
  }
 },
 "nbformat": 4,
 "nbformat_minor": 2
}
