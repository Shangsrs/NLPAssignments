{
 "cells": [
  {
   "cell_type": "markdown",
   "metadata": {},
   "source": [
    "### lightgbm"
   ]
  },
  {
   "cell_type": "raw",
   "metadata": {},
   "source": [
    "!pip install lightgbm"
   ]
  },
  {
   "cell_type": "code",
   "execution_count": 1,
   "metadata": {},
   "outputs": [],
   "source": [
    "from sklearn import datasets\n",
    "from sklearn.model_selection import train_test_split\n",
    "import lightgbm as lgb\n",
    "import numpy as np\n",
    "import pandas as pd\n",
    "from sklearn.metrics import precision_score, recall_score\n"
   ]
  },
  {
   "cell_type": "markdown",
   "metadata": {},
   "source": [
    "### 数据集"
   ]
  },
  {
   "cell_type": "code",
   "execution_count": 2,
   "metadata": {},
   "outputs": [
    {
     "name": "stderr",
     "output_type": "stream",
     "text": [
      "D:\\ProgramData\\Anaconda3\\lib\\site-packages\\ipykernel_launcher.py:10: UserWarning: Pandas doesn't allow columns to be created via a new attribute name - see https://pandas.pydata.org/pandas-docs/stable/indexing.html#attribute-access\n",
      "  # Remove the CWD from sys.path while we load stuff.\n"
     ]
    }
   ],
   "source": [
    "iris = datasets.load_iris()\n",
    "data = iris.data\n",
    "label = iris.target\n",
    "\n",
    "# data.shape, label.shape\n",
    "\n",
    "data1 = pd.DataFrame(data)\n",
    "data1.columns = ['sepal_l', 'sepal_w', 'petal_l', 'petal_w']\n",
    "label1 = pd.DataFrame(label)\n",
    "label1.colums = ['label']\n",
    "# data1.head(), label1.head()"
   ]
  },
  {
   "cell_type": "code",
   "execution_count": 3,
   "metadata": {},
   "outputs": [
    {
     "data": {
      "text/plain": [
       "((105, 4), (45, 4), (105,), (45,))"
      ]
     },
     "execution_count": 3,
     "metadata": {},
     "output_type": "execute_result"
    }
   ],
   "source": [
    "train_x, test_x, train_y, test_y = train_test_split(data, label, test_size = 0.3)\n",
    "train_x.shape, test_x.shape,train_y.shape, test_y.shape "
   ]
  },
  {
   "cell_type": "code",
   "execution_count": 19,
   "metadata": {},
   "outputs": [],
   "source": [
    "lgb.train?"
   ]
  },
  {
   "cell_type": "code",
   "execution_count": 4,
   "metadata": {},
   "outputs": [
    {
     "name": "stdout",
     "output_type": "stream",
     "text": [
      "[10]\ttraining's multi_error: 0.0285714\tvalid_1's multi_error: 0.0888889\n",
      "Accuracy:  0.9077380952380952\n",
      "Recall:  0.9166666666666666\n"
     ]
    }
   ],
   "source": [
    "train_x, test_x, train_y, test_y = train_test_split(data1, label1, test_size = 0.3)\n",
    "\n",
    "train_data = lgb.Dataset(train_x, train_y)\n",
    "test_data = lgb.Dataset(test_x, test_y)\n",
    "\n",
    "lgb_params = {\n",
    "    'boosting_type': 'gbdt',\n",
    "    'objective': 'multiclass',\n",
    "    'metric': 'multi_error',\n",
    "    'verbose': 1,\n",
    "    'num_class': 3\n",
    "}\n",
    "clf = lgb.train(lgb_params, train_data, num_boost_round = 10,\n",
    "               valid_sets = [train_data, test_data],\n",
    "               verbose_eval = 10)\n",
    "test_pre = clf.predict(test_x, num_iteration=clf.best_iteration)\n",
    "test_pre_1 = np.asarray([np.argmax(row) for row in test_pre])\n",
    "print('Accuracy: ', precision_score(test_y, test_pre_1, average='macro'))\n",
    "print('Recall: ', recall_score(test_y, test_pre_1, average='macro'))"
   ]
  },
  {
   "cell_type": "code",
   "execution_count": 5,
   "metadata": {
    "scrolled": false
   },
   "outputs": [
    {
     "data": {
      "text/plain": [
       "array([[0.14864831, 0.69232755, 0.15902413],\n",
       "       [0.13565964, 0.12921561, 0.73512475],\n",
       "       [0.14938692, 0.69458088, 0.1560322 ],\n",
       "       [0.72226503, 0.1288562 , 0.14887877],\n",
       "       [0.72226503, 0.1288562 , 0.14887877],\n",
       "       [0.13565964, 0.12921561, 0.73512475],\n",
       "       [0.72226503, 0.1288562 , 0.14887877],\n",
       "       [0.14286181, 0.12813891, 0.72899928],\n",
       "       [0.1363404 , 0.28030289, 0.58335671],\n",
       "       [0.15594207, 0.17775225, 0.66630569],\n",
       "       [0.72226503, 0.1288562 , 0.14887877],\n",
       "       [0.13565964, 0.12921561, 0.73512475],\n",
       "       [0.14286181, 0.12813891, 0.72899928],\n",
       "       [0.72226503, 0.1288562 , 0.14887877],\n",
       "       [0.1558901 , 0.17776319, 0.66634671],\n",
       "       [0.72226503, 0.1288562 , 0.14887877],\n",
       "       [0.14286181, 0.12813891, 0.72899928],\n",
       "       [0.14868477, 0.69229791, 0.15901732],\n",
       "       [0.72226503, 0.1288562 , 0.14887877],\n",
       "       [0.16162564, 0.67593785, 0.16243651],\n",
       "       [0.14868477, 0.69229791, 0.15901732],\n",
       "       [0.20964519, 0.64537608, 0.14497873],\n",
       "       [0.72226503, 0.1288562 , 0.14887877],\n",
       "       [0.14935032, 0.69461076, 0.15603892],\n",
       "       [0.72226503, 0.1288562 , 0.14887877],\n",
       "       [0.72226503, 0.1288562 , 0.14887877],\n",
       "       [0.14938692, 0.69458088, 0.1560322 ],\n",
       "       [0.14938692, 0.69458088, 0.1560322 ],\n",
       "       [0.15350425, 0.68248571, 0.16401004],\n",
       "       [0.1541166 , 0.68491112, 0.16097228],\n",
       "       [0.72226503, 0.1288562 , 0.14887877],\n",
       "       [0.14938692, 0.69458088, 0.1560322 ],\n",
       "       [0.15594207, 0.17775225, 0.66630569],\n",
       "       [0.72226503, 0.1288562 , 0.14887877],\n",
       "       [0.72226503, 0.1288562 , 0.14887877],\n",
       "       [0.13565964, 0.12921561, 0.73512475],\n",
       "       [0.15333886, 0.68261906, 0.16404208],\n",
       "       [0.15407905, 0.68494152, 0.16097942],\n",
       "       [0.15579837, 0.17778251, 0.66641912],\n",
       "       [0.14938692, 0.69458088, 0.1560322 ],\n",
       "       [0.16162564, 0.67593785, 0.16243651],\n",
       "       [0.49426425, 0.33499345, 0.17074229],\n",
       "       [0.14286181, 0.12813891, 0.72899928],\n",
       "       [0.46535257, 0.35425176, 0.18039567],\n",
       "       [0.14562764, 0.23127853, 0.62309383]])"
      ]
     },
     "execution_count": 5,
     "metadata": {},
     "output_type": "execute_result"
    }
   ],
   "source": [
    "test_pre"
   ]
  },
  {
   "cell_type": "code",
   "execution_count": 6,
   "metadata": {
    "scrolled": true
   },
   "outputs": [
    {
     "data": {
      "text/plain": [
       "array([1, 2, 1, 0, 0, 2, 0, 2, 2, 2, 0, 2, 2, 0, 2, 0, 2, 1, 0, 1, 1, 1,\n",
       "       0, 1, 0, 0, 1, 1, 1, 1, 0, 1, 2, 0, 0, 2, 1, 1, 2, 1, 1, 0, 2, 0,\n",
       "       2], dtype=int64)"
      ]
     },
     "execution_count": 6,
     "metadata": {},
     "output_type": "execute_result"
    }
   ],
   "source": [
    "test_pre_1"
   ]
  },
  {
   "cell_type": "code",
   "execution_count": 21,
   "metadata": {},
   "outputs": [],
   "source": [
    "recall_score?"
   ]
  },
  {
   "cell_type": "code",
   "execution_count": 7,
   "metadata": {},
   "outputs": [
    {
     "name": "stdout",
     "output_type": "stream",
     "text": [
      "Accuracy:  0.9291101055806937\n",
      "Recall:  0.9351851851851851\n"
     ]
    },
    {
     "name": "stderr",
     "output_type": "stream",
     "text": [
      "D:\\ProgramData\\Anaconda3\\lib\\site-packages\\sklearn\\preprocessing\\label.py:219: DataConversionWarning: A column-vector y was passed when a 1d array was expected. Please change the shape of y to (n_samples, ), for example using ravel().\n",
      "  y = column_or_1d(y, warn=True)\n",
      "D:\\ProgramData\\Anaconda3\\lib\\site-packages\\sklearn\\preprocessing\\label.py:252: DataConversionWarning: A column-vector y was passed when a 1d array was expected. Please change the shape of y to (n_samples, ), for example using ravel().\n",
      "  y = column_or_1d(y, warn=True)\n"
     ]
    }
   ],
   "source": [
    "#### Sklearn接口形式的lightgbm\n",
    "lgb_params = {\n",
    "    'learning_rate': 0.1,\n",
    "    'max_bin': 150,\n",
    "    'num_leaves': 32,\n",
    "    'max_depth': 11,\n",
    "    'objective': 'multiclass',\n",
    "    'n_estimators': 300\n",
    "}\n",
    "model = lgb.LGBMClassifier(**lgb_params)\n",
    "model.fit(train_x, train_y)\n",
    "test_pre2 = model.predict(test_x)\n",
    "print('Accuracy: ', precision_score(test_y, test_pre2, average='macro'))\n",
    "print('Recall: ', recall_score(test_y, test_pre2, average='macro'))"
   ]
  },
  {
   "cell_type": "code",
   "execution_count": 20,
   "metadata": {},
   "outputs": [],
   "source": [
    "model.fit?"
   ]
  },
  {
   "cell_type": "code",
   "execution_count": 8,
   "metadata": {},
   "outputs": [
    {
     "data": {
      "text/plain": [
       "array([1, 2, 1, 0, 0, 2, 0, 2, 1, 2, 0, 2, 2, 0, 2, 0, 2, 1, 0, 1, 1, 1,\n",
       "       0, 1, 0, 0, 1, 1, 1, 1, 0, 1, 2, 0, 0, 2, 1, 1, 2, 1, 1, 0, 2, 0,\n",
       "       2])"
      ]
     },
     "execution_count": 8,
     "metadata": {},
     "output_type": "execute_result"
    }
   ],
   "source": [
    "test_pre2"
   ]
  },
  {
   "cell_type": "code",
   "execution_count": 9,
   "metadata": {},
   "outputs": [],
   "source": [
    "lgb.train?"
   ]
  },
  {
   "cell_type": "markdown",
   "metadata": {},
   "source": [
    "#### xgboost"
   ]
  },
  {
   "cell_type": "raw",
   "metadata": {},
   "source": [
    "!pip install xgboost"
   ]
  },
  {
   "cell_type": "code",
   "execution_count": 10,
   "metadata": {},
   "outputs": [],
   "source": [
    "import xgboost as xgb"
   ]
  },
  {
   "cell_type": "code",
   "execution_count": 11,
   "metadata": {},
   "outputs": [
    {
     "data": {
      "text/plain": [
       "((105, 4), (45, 4), (105,), (45,))"
      ]
     },
     "execution_count": 11,
     "metadata": {},
     "output_type": "execute_result"
    }
   ],
   "source": [
    "train_x, test_x, train_y, test_y = train_test_split(data, label, test_size = 0.3)\n",
    "train_x.shape, test_x.shape,train_y.shape, test_y.shape "
   ]
  },
  {
   "cell_type": "code",
   "execution_count": 12,
   "metadata": {},
   "outputs": [
    {
     "name": "stdout",
     "output_type": "stream",
     "text": [
      "Accuracy:  0.9077380952380952\n",
      "Recall:  0.9166666666666666\n"
     ]
    }
   ],
   "source": [
    "test_data = xgb.DMatrix(test_x, label=test_y)\n",
    "xgb_params = {\n",
    "    'eta': 0.3,\n",
    "    'silent': True,\n",
    "    'objective': 'multi:softprob',\n",
    "    'num_class': 3,\n",
    "    'max_depth': 3\n",
    "}\n",
    "num_round = 20\n",
    "model = xgb.train(xgb_params, xgb.DMatrix(train_x, label=train_y), num_round)\n",
    "test_pre = model.predict(test_data)\n",
    "test_pre_1 = np.asarray([np.argmax(row) for row in test_pre])\n",
    "print('Accuracy: ', precision_score(test_y, test_pre_1, average='macro'))\n",
    "print('Recall: ', recall_score(test_y, test_pre_1, average='macro'))"
   ]
  },
  {
   "cell_type": "markdown",
   "metadata": {},
   "source": [
    "### Sklearn形式"
   ]
  },
  {
   "cell_type": "code",
   "execution_count": 13,
   "metadata": {},
   "outputs": [],
   "source": [
    "from xgboost import XGBClassifier"
   ]
  },
  {
   "cell_type": "code",
   "execution_count": 14,
   "metadata": {},
   "outputs": [
    {
     "name": "stdout",
     "output_type": "stream",
     "text": [
      "Accuracy:  0.9077380952380952\n",
      "Recall:  0.9166666666666666\n"
     ]
    }
   ],
   "source": [
    "model = XGBClassifier(learning_rate = 0.01, n_estimators=300, max_depth = 4,\n",
    "                     objective='binary:logistic', seed=27)\n",
    "model.fit(train_x, train_y)\n",
    "test_pre2 = model.predict(test_x)\n",
    "print('Accuracy: ', precision_score(test_y, test_pre2, average='macro'))\n",
    "print('Recall: ', recall_score(test_y, test_pre2, average='macro'))"
   ]
  },
  {
   "cell_type": "code",
   "execution_count": null,
   "metadata": {},
   "outputs": [],
   "source": []
  }
 ],
 "metadata": {
  "kernelspec": {
   "display_name": "Python 3",
   "language": "python",
   "name": "python3"
  },
  "language_info": {
   "codemirror_mode": {
    "name": "ipython",
    "version": 3
   },
   "file_extension": ".py",
   "mimetype": "text/x-python",
   "name": "python",
   "nbconvert_exporter": "python",
   "pygments_lexer": "ipython3",
   "version": "3.6.9"
  }
 },
 "nbformat": 4,
 "nbformat_minor": 2
}
